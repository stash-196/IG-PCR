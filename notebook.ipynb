{
 "cells": [
  {
   "cell_type": "code",
   "execution_count": 1,
   "metadata": {},
   "outputs": [],
   "source": [
    "import numpy as np"
   ]
  },
  {
   "cell_type": "code",
   "execution_count": 40,
   "metadata": {},
   "outputs": [],
   "source": [
    "def G(theta):\n",
    "    res = np.empty([2,2])\n",
    "    res[0, 0] = theta[1]**2 - theta[0]\n",
    "    res[0, 1] = -theta[0] * theta[1]\n",
    "    res[1, 0] = -theta[0] * theta[1]\n",
    "    res[1, 1] = theta[0]**2\n",
    "    return - res / (2 * theta[0]**3)\n",
    "\n",
    "def G_inv(eta):\n",
    "    res = np.empty([len(eta), len(eta)])\n",
    "    res[0, 0] = 1/2\n",
    "    res[0, 1] = - eta[1]\n",
    "    res[1, 0] = - eta[1]\n",
    "    res[1, 1] = eta[0] + eta[1]**2\n",
    "    return res / (eta[0] - eta[1]**2)**2\n",
    "\n",
    "\n",
    "def G_dagger(thetas):\n",
    "    res = G(thetas[0, :])\n",
    "    for theta in thetas[1:, :]:\n",
    "        res += G(theta)\n",
    "    return res\n",
    "\n",
    "def lambda_(theta):\n",
    "    return np.linalg.det(G(theta))\n",
    "\n",
    "def xi(i, thetas):\n",
    "    return np.sqrt(lambda_(thetas[i, :])) * np.sqrt(G_dagger(thetas)) @ thetas[i, :]\n",
    "\n",
    "def xis(thetas):\n",
    "    res = [xi(0, thetas)]\n",
    "    for i in range(1, n):\n",
    "        res.append(xi(i, thetas))\n",
    "    return np.array(res)\n"
   ]
  },
  {
   "cell_type": "code",
   "execution_count": 49,
   "metadata": {},
   "outputs": [
    {
     "data": {
      "text/plain": "array([[  6.21061399, -10.48105657],\n       [-10.48105657,  21.21224849]])"
     },
     "execution_count": 49,
     "metadata": {},
     "output_type": "execute_result"
    }
   ],
   "source": [
    "G(np.array([1, 2]))\n",
    "np.linalg.inv(G(thetas[0, :]))"
   ]
  },
  {
   "cell_type": "code",
   "execution_count": 51,
   "metadata": {},
   "outputs": [
    {
     "data": {
      "text/plain": "array([[ 0.5, -2. ],\n       [-2. ,  5. ]])"
     },
     "execution_count": 51,
     "metadata": {},
     "output_type": "execute_result"
    }
   ],
   "source": [
    "G_inv(np.array([1,2]))*9"
   ]
  },
  {
   "cell_type": "code",
   "execution_count": 27,
   "metadata": {},
   "outputs": [],
   "source": [
    "from sklearn.decomposition import PCA\n",
    "\n",
    "def K(h, xis):\n",
    "    pca = PCA(n_components=2)\n",
    "    res = pca.fit_transform(xis)\n",
    "    return res[:h, :].T"
   ]
  },
  {
   "cell_type": "code",
   "execution_count": 28,
   "metadata": {},
   "outputs": [],
   "source": [
    "n = 10\n",
    "mus = np.array([np.random.rand()*2 - 1 for mu in range(n)])\n",
    "sigmas = np.array([np.random.rand() + 0.5 for mu in range(n)])\n",
    "\n",
    "theta_1s = - 1 / (2 * sigmas**2)\n",
    "theta_2s = mus / sigmas**2\n",
    "thetas = np.array([theta_1s, theta_2s]).T\n",
    "\n",
    "eta_1s = mus**2 + sigmas**2\n",
    "eta_2s = mus\n",
    "etas = np.array([eta_1s, eta_2s]).T"
   ]
  },
  {
   "cell_type": "code",
   "execution_count": 29,
   "metadata": {},
   "outputs": [],
   "source": [
    "h = 1\n",
    "# Get initial U and w_tilda\n",
    "U = np.linalg.inv(np.sqrt(G_dagger(thetas))) @ K(h, xis(thetas))"
   ]
  },
  {
   "cell_type": "code",
   "execution_count": 30,
   "metadata": {},
   "outputs": [
    {
     "name": "stdout",
     "output_type": "stream",
     "text": [
      "[[-0.21378099  0.84038061]\n",
      " [-1.79387026  0.25037963]\n",
      " [-2.62723984 -2.02848343]\n",
      " [-1.03551492  0.81769134]\n",
      " [-1.17056602  0.47283866]\n",
      " [-2.4069258  -1.62256125]\n",
      " [-2.67119796 -0.87185778]\n",
      " [-1.38747549  0.22052937]\n",
      " [-2.63024793 -1.04442648]\n",
      " [-0.91235106  0.1655756 ]]\n"
     ]
    },
    {
     "data": {
      "text/plain": "array([[-1.80076137],\n       [-0.42040169]])"
     },
     "execution_count": 30,
     "metadata": {},
     "output_type": "execute_result"
    }
   ],
   "source": [
    "print(xis(thetas))\n",
    "np.linalg.inv(np.sqrt(G_dagger(thetas)))\n",
    "K(h, xis(thetas))"
   ]
  },
  {
   "cell_type": "code",
   "execution_count": 137,
   "metadata": {},
   "outputs": [
    {
     "name": "stderr",
     "output_type": "stream",
     "text": [
      "<ipython-input-137-bbf17c4ffe08>:1: RuntimeWarning: invalid value encountered in sqrt\n",
      "  np.linalg.inv(np.sqrt(G_dagger(thetas))) @ np.array([[1],[1]])\n"
     ]
    },
    {
     "data": {
      "text/plain": "array([[nan],\n       [nan]])"
     },
     "execution_count": 137,
     "metadata": {},
     "output_type": "execute_result"
    }
   ],
   "source": [
    "np.linalg.inv(np.sqrt(G_dagger(thetas))) @ np.array([[1],[1]])"
   ]
  },
  {
   "cell_type": "code",
   "execution_count": 31,
   "metadata": {},
   "outputs": [
    {
     "data": {
      "text/plain": "array([[20.11667739,  5.38884455],\n       [ 5.38884455,  7.27728727]])"
     },
     "execution_count": 31,
     "metadata": {},
     "output_type": "execute_result"
    }
   ],
   "source": [
    "G_dagger(thetas)"
   ]
  },
  {
   "cell_type": "code",
   "execution_count": null,
   "metadata": {},
   "outputs": [],
   "source": []
  },
  {
   "cell_type": "code",
   "execution_count": null,
   "metadata": {},
   "outputs": [],
   "source": []
  },
  {
   "cell_type": "code",
   "execution_count": null,
   "metadata": {},
   "outputs": [],
   "source": []
  },
  {
   "cell_type": "code",
   "execution_count": null,
   "metadata": {},
   "outputs": [],
   "source": []
  }
 ],
 "metadata": {
  "kernelspec": {
   "display_name": "Python 3.9.1 64-bit ('base': conda)",
   "name": "python391jvsc74a57bd08288a31afbbc8f3f53dc05a7b41a8432b8ded218ef439ed4c19d9e7cddb93c90"
  },
  "language_info": {
   "codemirror_mode": {
    "name": "ipython",
    "version": 3
   },
   "file_extension": ".py",
   "mimetype": "text/x-python",
   "name": "python",
   "nbconvert_exporter": "python",
   "pygments_lexer": "ipython3",
   "version": "3.9.1"
  },
  "orig_nbformat": 2
 },
 "nbformat": 4,
 "nbformat_minor": 2
}