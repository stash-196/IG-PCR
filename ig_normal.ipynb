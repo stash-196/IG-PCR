{
 "cells": [
  {
   "cell_type": "code",
   "execution_count": 10,
   "metadata": {},
   "outputs": [
    {
     "data": {
      "application/vnd.plotly.v1+json": {
       "config": {
        "plotlyServerURL": "https://plot.ly"
       },
       "data": [
        {
         "hovertemplate": "x=%{x}<br>y=%{y}<extra></extra>",
         "legendgroup": "",
         "marker": {
          "color": "#636efa",
          "symbol": "circle"
         },
         "mode": "markers",
         "name": "",
         "orientation": "v",
         "showlegend": false,
         "type": "scatter",
         "x": [
          1,
          0,
          1
         ],
         "xaxis": "x",
         "y": [
          1,
          1,
          2
         ],
         "yaxis": "y"
        }
       ],
       "layout": {
        "legend": {
         "tracegroupgap": 0
        },
        "margin": {
         "t": 60
        },
        "template": {
         "data": {
          "bar": [
           {
            "error_x": {
             "color": "#2a3f5f"
            },
            "error_y": {
             "color": "#2a3f5f"
            },
            "marker": {
             "line": {
              "color": "#E5ECF6",
              "width": 0.5
             },
             "pattern": {
              "fillmode": "overlay",
              "size": 10,
              "solidity": 0.2
             }
            },
            "type": "bar"
           }
          ],
          "barpolar": [
           {
            "marker": {
             "line": {
              "color": "#E5ECF6",
              "width": 0.5
             },
             "pattern": {
              "fillmode": "overlay",
              "size": 10,
              "solidity": 0.2
             }
            },
            "type": "barpolar"
           }
          ],
          "carpet": [
           {
            "aaxis": {
             "endlinecolor": "#2a3f5f",
             "gridcolor": "white",
             "linecolor": "white",
             "minorgridcolor": "white",
             "startlinecolor": "#2a3f5f"
            },
            "baxis": {
             "endlinecolor": "#2a3f5f",
             "gridcolor": "white",
             "linecolor": "white",
             "minorgridcolor": "white",
             "startlinecolor": "#2a3f5f"
            },
            "type": "carpet"
           }
          ],
          "choropleth": [
           {
            "colorbar": {
             "outlinewidth": 0,
             "ticks": ""
            },
            "type": "choropleth"
           }
          ],
          "contour": [
           {
            "colorbar": {
             "outlinewidth": 0,
             "ticks": ""
            },
            "colorscale": [
             [
              0,
              "#0d0887"
             ],
             [
              0.1111111111111111,
              "#46039f"
             ],
             [
              0.2222222222222222,
              "#7201a8"
             ],
             [
              0.3333333333333333,
              "#9c179e"
             ],
             [
              0.4444444444444444,
              "#bd3786"
             ],
             [
              0.5555555555555556,
              "#d8576b"
             ],
             [
              0.6666666666666666,
              "#ed7953"
             ],
             [
              0.7777777777777778,
              "#fb9f3a"
             ],
             [
              0.8888888888888888,
              "#fdca26"
             ],
             [
              1,
              "#f0f921"
             ]
            ],
            "type": "contour"
           }
          ],
          "contourcarpet": [
           {
            "colorbar": {
             "outlinewidth": 0,
             "ticks": ""
            },
            "type": "contourcarpet"
           }
          ],
          "heatmap": [
           {
            "colorbar": {
             "outlinewidth": 0,
             "ticks": ""
            },
            "colorscale": [
             [
              0,
              "#0d0887"
             ],
             [
              0.1111111111111111,
              "#46039f"
             ],
             [
              0.2222222222222222,
              "#7201a8"
             ],
             [
              0.3333333333333333,
              "#9c179e"
             ],
             [
              0.4444444444444444,
              "#bd3786"
             ],
             [
              0.5555555555555556,
              "#d8576b"
             ],
             [
              0.6666666666666666,
              "#ed7953"
             ],
             [
              0.7777777777777778,
              "#fb9f3a"
             ],
             [
              0.8888888888888888,
              "#fdca26"
             ],
             [
              1,
              "#f0f921"
             ]
            ],
            "type": "heatmap"
           }
          ],
          "heatmapgl": [
           {
            "colorbar": {
             "outlinewidth": 0,
             "ticks": ""
            },
            "colorscale": [
             [
              0,
              "#0d0887"
             ],
             [
              0.1111111111111111,
              "#46039f"
             ],
             [
              0.2222222222222222,
              "#7201a8"
             ],
             [
              0.3333333333333333,
              "#9c179e"
             ],
             [
              0.4444444444444444,
              "#bd3786"
             ],
             [
              0.5555555555555556,
              "#d8576b"
             ],
             [
              0.6666666666666666,
              "#ed7953"
             ],
             [
              0.7777777777777778,
              "#fb9f3a"
             ],
             [
              0.8888888888888888,
              "#fdca26"
             ],
             [
              1,
              "#f0f921"
             ]
            ],
            "type": "heatmapgl"
           }
          ],
          "histogram": [
           {
            "marker": {
             "pattern": {
              "fillmode": "overlay",
              "size": 10,
              "solidity": 0.2
             }
            },
            "type": "histogram"
           }
          ],
          "histogram2d": [
           {
            "colorbar": {
             "outlinewidth": 0,
             "ticks": ""
            },
            "colorscale": [
             [
              0,
              "#0d0887"
             ],
             [
              0.1111111111111111,
              "#46039f"
             ],
             [
              0.2222222222222222,
              "#7201a8"
             ],
             [
              0.3333333333333333,
              "#9c179e"
             ],
             [
              0.4444444444444444,
              "#bd3786"
             ],
             [
              0.5555555555555556,
              "#d8576b"
             ],
             [
              0.6666666666666666,
              "#ed7953"
             ],
             [
              0.7777777777777778,
              "#fb9f3a"
             ],
             [
              0.8888888888888888,
              "#fdca26"
             ],
             [
              1,
              "#f0f921"
             ]
            ],
            "type": "histogram2d"
           }
          ],
          "histogram2dcontour": [
           {
            "colorbar": {
             "outlinewidth": 0,
             "ticks": ""
            },
            "colorscale": [
             [
              0,
              "#0d0887"
             ],
             [
              0.1111111111111111,
              "#46039f"
             ],
             [
              0.2222222222222222,
              "#7201a8"
             ],
             [
              0.3333333333333333,
              "#9c179e"
             ],
             [
              0.4444444444444444,
              "#bd3786"
             ],
             [
              0.5555555555555556,
              "#d8576b"
             ],
             [
              0.6666666666666666,
              "#ed7953"
             ],
             [
              0.7777777777777778,
              "#fb9f3a"
             ],
             [
              0.8888888888888888,
              "#fdca26"
             ],
             [
              1,
              "#f0f921"
             ]
            ],
            "type": "histogram2dcontour"
           }
          ],
          "mesh3d": [
           {
            "colorbar": {
             "outlinewidth": 0,
             "ticks": ""
            },
            "type": "mesh3d"
           }
          ],
          "parcoords": [
           {
            "line": {
             "colorbar": {
              "outlinewidth": 0,
              "ticks": ""
             }
            },
            "type": "parcoords"
           }
          ],
          "pie": [
           {
            "automargin": true,
            "type": "pie"
           }
          ],
          "scatter": [
           {
            "fillpattern": {
             "fillmode": "overlay",
             "size": 10,
             "solidity": 0.2
            },
            "type": "scatter"
           }
          ],
          "scatter3d": [
           {
            "line": {
             "colorbar": {
              "outlinewidth": 0,
              "ticks": ""
             }
            },
            "marker": {
             "colorbar": {
              "outlinewidth": 0,
              "ticks": ""
             }
            },
            "type": "scatter3d"
           }
          ],
          "scattercarpet": [
           {
            "marker": {
             "colorbar": {
              "outlinewidth": 0,
              "ticks": ""
             }
            },
            "type": "scattercarpet"
           }
          ],
          "scattergeo": [
           {
            "marker": {
             "colorbar": {
              "outlinewidth": 0,
              "ticks": ""
             }
            },
            "type": "scattergeo"
           }
          ],
          "scattergl": [
           {
            "marker": {
             "colorbar": {
              "outlinewidth": 0,
              "ticks": ""
             }
            },
            "type": "scattergl"
           }
          ],
          "scattermapbox": [
           {
            "marker": {
             "colorbar": {
              "outlinewidth": 0,
              "ticks": ""
             }
            },
            "type": "scattermapbox"
           }
          ],
          "scatterpolar": [
           {
            "marker": {
             "colorbar": {
              "outlinewidth": 0,
              "ticks": ""
             }
            },
            "type": "scatterpolar"
           }
          ],
          "scatterpolargl": [
           {
            "marker": {
             "colorbar": {
              "outlinewidth": 0,
              "ticks": ""
             }
            },
            "type": "scatterpolargl"
           }
          ],
          "scatterternary": [
           {
            "marker": {
             "colorbar": {
              "outlinewidth": 0,
              "ticks": ""
             }
            },
            "type": "scatterternary"
           }
          ],
          "surface": [
           {
            "colorbar": {
             "outlinewidth": 0,
             "ticks": ""
            },
            "colorscale": [
             [
              0,
              "#0d0887"
             ],
             [
              0.1111111111111111,
              "#46039f"
             ],
             [
              0.2222222222222222,
              "#7201a8"
             ],
             [
              0.3333333333333333,
              "#9c179e"
             ],
             [
              0.4444444444444444,
              "#bd3786"
             ],
             [
              0.5555555555555556,
              "#d8576b"
             ],
             [
              0.6666666666666666,
              "#ed7953"
             ],
             [
              0.7777777777777778,
              "#fb9f3a"
             ],
             [
              0.8888888888888888,
              "#fdca26"
             ],
             [
              1,
              "#f0f921"
             ]
            ],
            "type": "surface"
           }
          ],
          "table": [
           {
            "cells": {
             "fill": {
              "color": "#EBF0F8"
             },
             "line": {
              "color": "white"
             }
            },
            "header": {
             "fill": {
              "color": "#C8D4E3"
             },
             "line": {
              "color": "white"
             }
            },
            "type": "table"
           }
          ]
         },
         "layout": {
          "annotationdefaults": {
           "arrowcolor": "#2a3f5f",
           "arrowhead": 0,
           "arrowwidth": 1
          },
          "autotypenumbers": "strict",
          "coloraxis": {
           "colorbar": {
            "outlinewidth": 0,
            "ticks": ""
           }
          },
          "colorscale": {
           "diverging": [
            [
             0,
             "#8e0152"
            ],
            [
             0.1,
             "#c51b7d"
            ],
            [
             0.2,
             "#de77ae"
            ],
            [
             0.3,
             "#f1b6da"
            ],
            [
             0.4,
             "#fde0ef"
            ],
            [
             0.5,
             "#f7f7f7"
            ],
            [
             0.6,
             "#e6f5d0"
            ],
            [
             0.7,
             "#b8e186"
            ],
            [
             0.8,
             "#7fbc41"
            ],
            [
             0.9,
             "#4d9221"
            ],
            [
             1,
             "#276419"
            ]
           ],
           "sequential": [
            [
             0,
             "#0d0887"
            ],
            [
             0.1111111111111111,
             "#46039f"
            ],
            [
             0.2222222222222222,
             "#7201a8"
            ],
            [
             0.3333333333333333,
             "#9c179e"
            ],
            [
             0.4444444444444444,
             "#bd3786"
            ],
            [
             0.5555555555555556,
             "#d8576b"
            ],
            [
             0.6666666666666666,
             "#ed7953"
            ],
            [
             0.7777777777777778,
             "#fb9f3a"
            ],
            [
             0.8888888888888888,
             "#fdca26"
            ],
            [
             1,
             "#f0f921"
            ]
           ],
           "sequentialminus": [
            [
             0,
             "#0d0887"
            ],
            [
             0.1111111111111111,
             "#46039f"
            ],
            [
             0.2222222222222222,
             "#7201a8"
            ],
            [
             0.3333333333333333,
             "#9c179e"
            ],
            [
             0.4444444444444444,
             "#bd3786"
            ],
            [
             0.5555555555555556,
             "#d8576b"
            ],
            [
             0.6666666666666666,
             "#ed7953"
            ],
            [
             0.7777777777777778,
             "#fb9f3a"
            ],
            [
             0.8888888888888888,
             "#fdca26"
            ],
            [
             1,
             "#f0f921"
            ]
           ]
          },
          "colorway": [
           "#636efa",
           "#EF553B",
           "#00cc96",
           "#ab63fa",
           "#FFA15A",
           "#19d3f3",
           "#FF6692",
           "#B6E880",
           "#FF97FF",
           "#FECB52"
          ],
          "font": {
           "color": "#2a3f5f"
          },
          "geo": {
           "bgcolor": "white",
           "lakecolor": "white",
           "landcolor": "#E5ECF6",
           "showlakes": true,
           "showland": true,
           "subunitcolor": "white"
          },
          "hoverlabel": {
           "align": "left"
          },
          "hovermode": "closest",
          "mapbox": {
           "style": "light"
          },
          "paper_bgcolor": "white",
          "plot_bgcolor": "#E5ECF6",
          "polar": {
           "angularaxis": {
            "gridcolor": "white",
            "linecolor": "white",
            "ticks": ""
           },
           "bgcolor": "#E5ECF6",
           "radialaxis": {
            "gridcolor": "white",
            "linecolor": "white",
            "ticks": ""
           }
          },
          "scene": {
           "xaxis": {
            "backgroundcolor": "#E5ECF6",
            "gridcolor": "white",
            "gridwidth": 2,
            "linecolor": "white",
            "showbackground": true,
            "ticks": "",
            "zerolinecolor": "white"
           },
           "yaxis": {
            "backgroundcolor": "#E5ECF6",
            "gridcolor": "white",
            "gridwidth": 2,
            "linecolor": "white",
            "showbackground": true,
            "ticks": "",
            "zerolinecolor": "white"
           },
           "zaxis": {
            "backgroundcolor": "#E5ECF6",
            "gridcolor": "white",
            "gridwidth": 2,
            "linecolor": "white",
            "showbackground": true,
            "ticks": "",
            "zerolinecolor": "white"
           }
          },
          "shapedefaults": {
           "line": {
            "color": "#2a3f5f"
           }
          },
          "ternary": {
           "aaxis": {
            "gridcolor": "white",
            "linecolor": "white",
            "ticks": ""
           },
           "baxis": {
            "gridcolor": "white",
            "linecolor": "white",
            "ticks": ""
           },
           "bgcolor": "#E5ECF6",
           "caxis": {
            "gridcolor": "white",
            "linecolor": "white",
            "ticks": ""
           }
          },
          "title": {
           "x": 0.05
          },
          "xaxis": {
           "automargin": true,
           "gridcolor": "white",
           "linecolor": "white",
           "ticks": "",
           "title": {
            "standoff": 15
           },
           "zerolinecolor": "white",
           "zerolinewidth": 2
          },
          "yaxis": {
           "automargin": true,
           "gridcolor": "white",
           "linecolor": "white",
           "ticks": "",
           "title": {
            "standoff": 15
           },
           "zerolinecolor": "white",
           "zerolinewidth": 2
          }
         }
        },
        "xaxis": {
         "anchor": "y",
         "domain": [
          0,
          1
         ],
         "title": {
          "text": "x"
         }
        },
        "yaxis": {
         "anchor": "x",
         "domain": [
          0,
          1
         ],
         "title": {
          "text": "y"
         }
        }
       }
      }
     },
     "metadata": {},
     "output_type": "display_data"
    },
    {
     "data": {
      "application/vnd.plotly.v1+json": {
       "config": {
        "plotlyServerURL": "https://plot.ly"
       },
       "data": [
        {
         "hovertemplate": "x=%{x}<br>y=%{y}<extra></extra>",
         "legendgroup": "",
         "marker": {
          "color": "#636efa",
          "symbol": "circle"
         },
         "mode": "markers",
         "name": "",
         "orientation": "v",
         "showlegend": false,
         "type": "scatter",
         "x": [
          -0.5,
          -0.5,
          -0.25
         ],
         "xaxis": "x",
         "y": [
          1,
          0,
          0.5
         ],
         "yaxis": "y"
        }
       ],
       "layout": {
        "legend": {
         "tracegroupgap": 0
        },
        "margin": {
         "t": 60
        },
        "template": {
         "data": {
          "bar": [
           {
            "error_x": {
             "color": "#2a3f5f"
            },
            "error_y": {
             "color": "#2a3f5f"
            },
            "marker": {
             "line": {
              "color": "#E5ECF6",
              "width": 0.5
             },
             "pattern": {
              "fillmode": "overlay",
              "size": 10,
              "solidity": 0.2
             }
            },
            "type": "bar"
           }
          ],
          "barpolar": [
           {
            "marker": {
             "line": {
              "color": "#E5ECF6",
              "width": 0.5
             },
             "pattern": {
              "fillmode": "overlay",
              "size": 10,
              "solidity": 0.2
             }
            },
            "type": "barpolar"
           }
          ],
          "carpet": [
           {
            "aaxis": {
             "endlinecolor": "#2a3f5f",
             "gridcolor": "white",
             "linecolor": "white",
             "minorgridcolor": "white",
             "startlinecolor": "#2a3f5f"
            },
            "baxis": {
             "endlinecolor": "#2a3f5f",
             "gridcolor": "white",
             "linecolor": "white",
             "minorgridcolor": "white",
             "startlinecolor": "#2a3f5f"
            },
            "type": "carpet"
           }
          ],
          "choropleth": [
           {
            "colorbar": {
             "outlinewidth": 0,
             "ticks": ""
            },
            "type": "choropleth"
           }
          ],
          "contour": [
           {
            "colorbar": {
             "outlinewidth": 0,
             "ticks": ""
            },
            "colorscale": [
             [
              0,
              "#0d0887"
             ],
             [
              0.1111111111111111,
              "#46039f"
             ],
             [
              0.2222222222222222,
              "#7201a8"
             ],
             [
              0.3333333333333333,
              "#9c179e"
             ],
             [
              0.4444444444444444,
              "#bd3786"
             ],
             [
              0.5555555555555556,
              "#d8576b"
             ],
             [
              0.6666666666666666,
              "#ed7953"
             ],
             [
              0.7777777777777778,
              "#fb9f3a"
             ],
             [
              0.8888888888888888,
              "#fdca26"
             ],
             [
              1,
              "#f0f921"
             ]
            ],
            "type": "contour"
           }
          ],
          "contourcarpet": [
           {
            "colorbar": {
             "outlinewidth": 0,
             "ticks": ""
            },
            "type": "contourcarpet"
           }
          ],
          "heatmap": [
           {
            "colorbar": {
             "outlinewidth": 0,
             "ticks": ""
            },
            "colorscale": [
             [
              0,
              "#0d0887"
             ],
             [
              0.1111111111111111,
              "#46039f"
             ],
             [
              0.2222222222222222,
              "#7201a8"
             ],
             [
              0.3333333333333333,
              "#9c179e"
             ],
             [
              0.4444444444444444,
              "#bd3786"
             ],
             [
              0.5555555555555556,
              "#d8576b"
             ],
             [
              0.6666666666666666,
              "#ed7953"
             ],
             [
              0.7777777777777778,
              "#fb9f3a"
             ],
             [
              0.8888888888888888,
              "#fdca26"
             ],
             [
              1,
              "#f0f921"
             ]
            ],
            "type": "heatmap"
           }
          ],
          "heatmapgl": [
           {
            "colorbar": {
             "outlinewidth": 0,
             "ticks": ""
            },
            "colorscale": [
             [
              0,
              "#0d0887"
             ],
             [
              0.1111111111111111,
              "#46039f"
             ],
             [
              0.2222222222222222,
              "#7201a8"
             ],
             [
              0.3333333333333333,
              "#9c179e"
             ],
             [
              0.4444444444444444,
              "#bd3786"
             ],
             [
              0.5555555555555556,
              "#d8576b"
             ],
             [
              0.6666666666666666,
              "#ed7953"
             ],
             [
              0.7777777777777778,
              "#fb9f3a"
             ],
             [
              0.8888888888888888,
              "#fdca26"
             ],
             [
              1,
              "#f0f921"
             ]
            ],
            "type": "heatmapgl"
           }
          ],
          "histogram": [
           {
            "marker": {
             "pattern": {
              "fillmode": "overlay",
              "size": 10,
              "solidity": 0.2
             }
            },
            "type": "histogram"
           }
          ],
          "histogram2d": [
           {
            "colorbar": {
             "outlinewidth": 0,
             "ticks": ""
            },
            "colorscale": [
             [
              0,
              "#0d0887"
             ],
             [
              0.1111111111111111,
              "#46039f"
             ],
             [
              0.2222222222222222,
              "#7201a8"
             ],
             [
              0.3333333333333333,
              "#9c179e"
             ],
             [
              0.4444444444444444,
              "#bd3786"
             ],
             [
              0.5555555555555556,
              "#d8576b"
             ],
             [
              0.6666666666666666,
              "#ed7953"
             ],
             [
              0.7777777777777778,
              "#fb9f3a"
             ],
             [
              0.8888888888888888,
              "#fdca26"
             ],
             [
              1,
              "#f0f921"
             ]
            ],
            "type": "histogram2d"
           }
          ],
          "histogram2dcontour": [
           {
            "colorbar": {
             "outlinewidth": 0,
             "ticks": ""
            },
            "colorscale": [
             [
              0,
              "#0d0887"
             ],
             [
              0.1111111111111111,
              "#46039f"
             ],
             [
              0.2222222222222222,
              "#7201a8"
             ],
             [
              0.3333333333333333,
              "#9c179e"
             ],
             [
              0.4444444444444444,
              "#bd3786"
             ],
             [
              0.5555555555555556,
              "#d8576b"
             ],
             [
              0.6666666666666666,
              "#ed7953"
             ],
             [
              0.7777777777777778,
              "#fb9f3a"
             ],
             [
              0.8888888888888888,
              "#fdca26"
             ],
             [
              1,
              "#f0f921"
             ]
            ],
            "type": "histogram2dcontour"
           }
          ],
          "mesh3d": [
           {
            "colorbar": {
             "outlinewidth": 0,
             "ticks": ""
            },
            "type": "mesh3d"
           }
          ],
          "parcoords": [
           {
            "line": {
             "colorbar": {
              "outlinewidth": 0,
              "ticks": ""
             }
            },
            "type": "parcoords"
           }
          ],
          "pie": [
           {
            "automargin": true,
            "type": "pie"
           }
          ],
          "scatter": [
           {
            "fillpattern": {
             "fillmode": "overlay",
             "size": 10,
             "solidity": 0.2
            },
            "type": "scatter"
           }
          ],
          "scatter3d": [
           {
            "line": {
             "colorbar": {
              "outlinewidth": 0,
              "ticks": ""
             }
            },
            "marker": {
             "colorbar": {
              "outlinewidth": 0,
              "ticks": ""
             }
            },
            "type": "scatter3d"
           }
          ],
          "scattercarpet": [
           {
            "marker": {
             "colorbar": {
              "outlinewidth": 0,
              "ticks": ""
             }
            },
            "type": "scattercarpet"
           }
          ],
          "scattergeo": [
           {
            "marker": {
             "colorbar": {
              "outlinewidth": 0,
              "ticks": ""
             }
            },
            "type": "scattergeo"
           }
          ],
          "scattergl": [
           {
            "marker": {
             "colorbar": {
              "outlinewidth": 0,
              "ticks": ""
             }
            },
            "type": "scattergl"
           }
          ],
          "scattermapbox": [
           {
            "marker": {
             "colorbar": {
              "outlinewidth": 0,
              "ticks": ""
             }
            },
            "type": "scattermapbox"
           }
          ],
          "scatterpolar": [
           {
            "marker": {
             "colorbar": {
              "outlinewidth": 0,
              "ticks": ""
             }
            },
            "type": "scatterpolar"
           }
          ],
          "scatterpolargl": [
           {
            "marker": {
             "colorbar": {
              "outlinewidth": 0,
              "ticks": ""
             }
            },
            "type": "scatterpolargl"
           }
          ],
          "scatterternary": [
           {
            "marker": {
             "colorbar": {
              "outlinewidth": 0,
              "ticks": ""
             }
            },
            "type": "scatterternary"
           }
          ],
          "surface": [
           {
            "colorbar": {
             "outlinewidth": 0,
             "ticks": ""
            },
            "colorscale": [
             [
              0,
              "#0d0887"
             ],
             [
              0.1111111111111111,
              "#46039f"
             ],
             [
              0.2222222222222222,
              "#7201a8"
             ],
             [
              0.3333333333333333,
              "#9c179e"
             ],
             [
              0.4444444444444444,
              "#bd3786"
             ],
             [
              0.5555555555555556,
              "#d8576b"
             ],
             [
              0.6666666666666666,
              "#ed7953"
             ],
             [
              0.7777777777777778,
              "#fb9f3a"
             ],
             [
              0.8888888888888888,
              "#fdca26"
             ],
             [
              1,
              "#f0f921"
             ]
            ],
            "type": "surface"
           }
          ],
          "table": [
           {
            "cells": {
             "fill": {
              "color": "#EBF0F8"
             },
             "line": {
              "color": "white"
             }
            },
            "header": {
             "fill": {
              "color": "#C8D4E3"
             },
             "line": {
              "color": "white"
             }
            },
            "type": "table"
           }
          ]
         },
         "layout": {
          "annotationdefaults": {
           "arrowcolor": "#2a3f5f",
           "arrowhead": 0,
           "arrowwidth": 1
          },
          "autotypenumbers": "strict",
          "coloraxis": {
           "colorbar": {
            "outlinewidth": 0,
            "ticks": ""
           }
          },
          "colorscale": {
           "diverging": [
            [
             0,
             "#8e0152"
            ],
            [
             0.1,
             "#c51b7d"
            ],
            [
             0.2,
             "#de77ae"
            ],
            [
             0.3,
             "#f1b6da"
            ],
            [
             0.4,
             "#fde0ef"
            ],
            [
             0.5,
             "#f7f7f7"
            ],
            [
             0.6,
             "#e6f5d0"
            ],
            [
             0.7,
             "#b8e186"
            ],
            [
             0.8,
             "#7fbc41"
            ],
            [
             0.9,
             "#4d9221"
            ],
            [
             1,
             "#276419"
            ]
           ],
           "sequential": [
            [
             0,
             "#0d0887"
            ],
            [
             0.1111111111111111,
             "#46039f"
            ],
            [
             0.2222222222222222,
             "#7201a8"
            ],
            [
             0.3333333333333333,
             "#9c179e"
            ],
            [
             0.4444444444444444,
             "#bd3786"
            ],
            [
             0.5555555555555556,
             "#d8576b"
            ],
            [
             0.6666666666666666,
             "#ed7953"
            ],
            [
             0.7777777777777778,
             "#fb9f3a"
            ],
            [
             0.8888888888888888,
             "#fdca26"
            ],
            [
             1,
             "#f0f921"
            ]
           ],
           "sequentialminus": [
            [
             0,
             "#0d0887"
            ],
            [
             0.1111111111111111,
             "#46039f"
            ],
            [
             0.2222222222222222,
             "#7201a8"
            ],
            [
             0.3333333333333333,
             "#9c179e"
            ],
            [
             0.4444444444444444,
             "#bd3786"
            ],
            [
             0.5555555555555556,
             "#d8576b"
            ],
            [
             0.6666666666666666,
             "#ed7953"
            ],
            [
             0.7777777777777778,
             "#fb9f3a"
            ],
            [
             0.8888888888888888,
             "#fdca26"
            ],
            [
             1,
             "#f0f921"
            ]
           ]
          },
          "colorway": [
           "#636efa",
           "#EF553B",
           "#00cc96",
           "#ab63fa",
           "#FFA15A",
           "#19d3f3",
           "#FF6692",
           "#B6E880",
           "#FF97FF",
           "#FECB52"
          ],
          "font": {
           "color": "#2a3f5f"
          },
          "geo": {
           "bgcolor": "white",
           "lakecolor": "white",
           "landcolor": "#E5ECF6",
           "showlakes": true,
           "showland": true,
           "subunitcolor": "white"
          },
          "hoverlabel": {
           "align": "left"
          },
          "hovermode": "closest",
          "mapbox": {
           "style": "light"
          },
          "paper_bgcolor": "white",
          "plot_bgcolor": "#E5ECF6",
          "polar": {
           "angularaxis": {
            "gridcolor": "white",
            "linecolor": "white",
            "ticks": ""
           },
           "bgcolor": "#E5ECF6",
           "radialaxis": {
            "gridcolor": "white",
            "linecolor": "white",
            "ticks": ""
           }
          },
          "scene": {
           "xaxis": {
            "backgroundcolor": "#E5ECF6",
            "gridcolor": "white",
            "gridwidth": 2,
            "linecolor": "white",
            "showbackground": true,
            "ticks": "",
            "zerolinecolor": "white"
           },
           "yaxis": {
            "backgroundcolor": "#E5ECF6",
            "gridcolor": "white",
            "gridwidth": 2,
            "linecolor": "white",
            "showbackground": true,
            "ticks": "",
            "zerolinecolor": "white"
           },
           "zaxis": {
            "backgroundcolor": "#E5ECF6",
            "gridcolor": "white",
            "gridwidth": 2,
            "linecolor": "white",
            "showbackground": true,
            "ticks": "",
            "zerolinecolor": "white"
           }
          },
          "shapedefaults": {
           "line": {
            "color": "#2a3f5f"
           }
          },
          "ternary": {
           "aaxis": {
            "gridcolor": "white",
            "linecolor": "white",
            "ticks": ""
           },
           "baxis": {
            "gridcolor": "white",
            "linecolor": "white",
            "ticks": ""
           },
           "bgcolor": "#E5ECF6",
           "caxis": {
            "gridcolor": "white",
            "linecolor": "white",
            "ticks": ""
           }
          },
          "title": {
           "x": 0.05
          },
          "xaxis": {
           "automargin": true,
           "gridcolor": "white",
           "linecolor": "white",
           "ticks": "",
           "title": {
            "standoff": 15
           },
           "zerolinecolor": "white",
           "zerolinewidth": 2
          },
          "yaxis": {
           "automargin": true,
           "gridcolor": "white",
           "linecolor": "white",
           "ticks": "",
           "title": {
            "standoff": 15
           },
           "zerolinecolor": "white",
           "zerolinewidth": 2
          }
         }
        },
        "xaxis": {
         "anchor": "y",
         "domain": [
          0,
          1
         ],
         "title": {
          "text": "x"
         }
        },
        "yaxis": {
         "anchor": "x",
         "domain": [
          0,
          1
         ],
         "title": {
          "text": "y"
         }
        }
       }
      }
     },
     "metadata": {},
     "output_type": "display_data"
    },
    {
     "data": {
      "application/vnd.plotly.v1+json": {
       "config": {
        "plotlyServerURL": "https://plot.ly"
       },
       "data": [
        {
         "hovertemplate": "x=%{x}<br>y=%{y}<extra></extra>",
         "legendgroup": "",
         "marker": {
          "color": "#636efa",
          "symbol": "circle"
         },
         "mode": "markers",
         "name": "",
         "orientation": "v",
         "showlegend": false,
         "type": "scatter",
         "x": [
          2,
          1,
          3
         ],
         "xaxis": "x",
         "y": [
          1,
          0,
          1
         ],
         "yaxis": "y"
        }
       ],
       "layout": {
        "legend": {
         "tracegroupgap": 0
        },
        "margin": {
         "t": 60
        },
        "template": {
         "data": {
          "bar": [
           {
            "error_x": {
             "color": "#2a3f5f"
            },
            "error_y": {
             "color": "#2a3f5f"
            },
            "marker": {
             "line": {
              "color": "#E5ECF6",
              "width": 0.5
             },
             "pattern": {
              "fillmode": "overlay",
              "size": 10,
              "solidity": 0.2
             }
            },
            "type": "bar"
           }
          ],
          "barpolar": [
           {
            "marker": {
             "line": {
              "color": "#E5ECF6",
              "width": 0.5
             },
             "pattern": {
              "fillmode": "overlay",
              "size": 10,
              "solidity": 0.2
             }
            },
            "type": "barpolar"
           }
          ],
          "carpet": [
           {
            "aaxis": {
             "endlinecolor": "#2a3f5f",
             "gridcolor": "white",
             "linecolor": "white",
             "minorgridcolor": "white",
             "startlinecolor": "#2a3f5f"
            },
            "baxis": {
             "endlinecolor": "#2a3f5f",
             "gridcolor": "white",
             "linecolor": "white",
             "minorgridcolor": "white",
             "startlinecolor": "#2a3f5f"
            },
            "type": "carpet"
           }
          ],
          "choropleth": [
           {
            "colorbar": {
             "outlinewidth": 0,
             "ticks": ""
            },
            "type": "choropleth"
           }
          ],
          "contour": [
           {
            "colorbar": {
             "outlinewidth": 0,
             "ticks": ""
            },
            "colorscale": [
             [
              0,
              "#0d0887"
             ],
             [
              0.1111111111111111,
              "#46039f"
             ],
             [
              0.2222222222222222,
              "#7201a8"
             ],
             [
              0.3333333333333333,
              "#9c179e"
             ],
             [
              0.4444444444444444,
              "#bd3786"
             ],
             [
              0.5555555555555556,
              "#d8576b"
             ],
             [
              0.6666666666666666,
              "#ed7953"
             ],
             [
              0.7777777777777778,
              "#fb9f3a"
             ],
             [
              0.8888888888888888,
              "#fdca26"
             ],
             [
              1,
              "#f0f921"
             ]
            ],
            "type": "contour"
           }
          ],
          "contourcarpet": [
           {
            "colorbar": {
             "outlinewidth": 0,
             "ticks": ""
            },
            "type": "contourcarpet"
           }
          ],
          "heatmap": [
           {
            "colorbar": {
             "outlinewidth": 0,
             "ticks": ""
            },
            "colorscale": [
             [
              0,
              "#0d0887"
             ],
             [
              0.1111111111111111,
              "#46039f"
             ],
             [
              0.2222222222222222,
              "#7201a8"
             ],
             [
              0.3333333333333333,
              "#9c179e"
             ],
             [
              0.4444444444444444,
              "#bd3786"
             ],
             [
              0.5555555555555556,
              "#d8576b"
             ],
             [
              0.6666666666666666,
              "#ed7953"
             ],
             [
              0.7777777777777778,
              "#fb9f3a"
             ],
             [
              0.8888888888888888,
              "#fdca26"
             ],
             [
              1,
              "#f0f921"
             ]
            ],
            "type": "heatmap"
           }
          ],
          "heatmapgl": [
           {
            "colorbar": {
             "outlinewidth": 0,
             "ticks": ""
            },
            "colorscale": [
             [
              0,
              "#0d0887"
             ],
             [
              0.1111111111111111,
              "#46039f"
             ],
             [
              0.2222222222222222,
              "#7201a8"
             ],
             [
              0.3333333333333333,
              "#9c179e"
             ],
             [
              0.4444444444444444,
              "#bd3786"
             ],
             [
              0.5555555555555556,
              "#d8576b"
             ],
             [
              0.6666666666666666,
              "#ed7953"
             ],
             [
              0.7777777777777778,
              "#fb9f3a"
             ],
             [
              0.8888888888888888,
              "#fdca26"
             ],
             [
              1,
              "#f0f921"
             ]
            ],
            "type": "heatmapgl"
           }
          ],
          "histogram": [
           {
            "marker": {
             "pattern": {
              "fillmode": "overlay",
              "size": 10,
              "solidity": 0.2
             }
            },
            "type": "histogram"
           }
          ],
          "histogram2d": [
           {
            "colorbar": {
             "outlinewidth": 0,
             "ticks": ""
            },
            "colorscale": [
             [
              0,
              "#0d0887"
             ],
             [
              0.1111111111111111,
              "#46039f"
             ],
             [
              0.2222222222222222,
              "#7201a8"
             ],
             [
              0.3333333333333333,
              "#9c179e"
             ],
             [
              0.4444444444444444,
              "#bd3786"
             ],
             [
              0.5555555555555556,
              "#d8576b"
             ],
             [
              0.6666666666666666,
              "#ed7953"
             ],
             [
              0.7777777777777778,
              "#fb9f3a"
             ],
             [
              0.8888888888888888,
              "#fdca26"
             ],
             [
              1,
              "#f0f921"
             ]
            ],
            "type": "histogram2d"
           }
          ],
          "histogram2dcontour": [
           {
            "colorbar": {
             "outlinewidth": 0,
             "ticks": ""
            },
            "colorscale": [
             [
              0,
              "#0d0887"
             ],
             [
              0.1111111111111111,
              "#46039f"
             ],
             [
              0.2222222222222222,
              "#7201a8"
             ],
             [
              0.3333333333333333,
              "#9c179e"
             ],
             [
              0.4444444444444444,
              "#bd3786"
             ],
             [
              0.5555555555555556,
              "#d8576b"
             ],
             [
              0.6666666666666666,
              "#ed7953"
             ],
             [
              0.7777777777777778,
              "#fb9f3a"
             ],
             [
              0.8888888888888888,
              "#fdca26"
             ],
             [
              1,
              "#f0f921"
             ]
            ],
            "type": "histogram2dcontour"
           }
          ],
          "mesh3d": [
           {
            "colorbar": {
             "outlinewidth": 0,
             "ticks": ""
            },
            "type": "mesh3d"
           }
          ],
          "parcoords": [
           {
            "line": {
             "colorbar": {
              "outlinewidth": 0,
              "ticks": ""
             }
            },
            "type": "parcoords"
           }
          ],
          "pie": [
           {
            "automargin": true,
            "type": "pie"
           }
          ],
          "scatter": [
           {
            "fillpattern": {
             "fillmode": "overlay",
             "size": 10,
             "solidity": 0.2
            },
            "type": "scatter"
           }
          ],
          "scatter3d": [
           {
            "line": {
             "colorbar": {
              "outlinewidth": 0,
              "ticks": ""
             }
            },
            "marker": {
             "colorbar": {
              "outlinewidth": 0,
              "ticks": ""
             }
            },
            "type": "scatter3d"
           }
          ],
          "scattercarpet": [
           {
            "marker": {
             "colorbar": {
              "outlinewidth": 0,
              "ticks": ""
             }
            },
            "type": "scattercarpet"
           }
          ],
          "scattergeo": [
           {
            "marker": {
             "colorbar": {
              "outlinewidth": 0,
              "ticks": ""
             }
            },
            "type": "scattergeo"
           }
          ],
          "scattergl": [
           {
            "marker": {
             "colorbar": {
              "outlinewidth": 0,
              "ticks": ""
             }
            },
            "type": "scattergl"
           }
          ],
          "scattermapbox": [
           {
            "marker": {
             "colorbar": {
              "outlinewidth": 0,
              "ticks": ""
             }
            },
            "type": "scattermapbox"
           }
          ],
          "scatterpolar": [
           {
            "marker": {
             "colorbar": {
              "outlinewidth": 0,
              "ticks": ""
             }
            },
            "type": "scatterpolar"
           }
          ],
          "scatterpolargl": [
           {
            "marker": {
             "colorbar": {
              "outlinewidth": 0,
              "ticks": ""
             }
            },
            "type": "scatterpolargl"
           }
          ],
          "scatterternary": [
           {
            "marker": {
             "colorbar": {
              "outlinewidth": 0,
              "ticks": ""
             }
            },
            "type": "scatterternary"
           }
          ],
          "surface": [
           {
            "colorbar": {
             "outlinewidth": 0,
             "ticks": ""
            },
            "colorscale": [
             [
              0,
              "#0d0887"
             ],
             [
              0.1111111111111111,
              "#46039f"
             ],
             [
              0.2222222222222222,
              "#7201a8"
             ],
             [
              0.3333333333333333,
              "#9c179e"
             ],
             [
              0.4444444444444444,
              "#bd3786"
             ],
             [
              0.5555555555555556,
              "#d8576b"
             ],
             [
              0.6666666666666666,
              "#ed7953"
             ],
             [
              0.7777777777777778,
              "#fb9f3a"
             ],
             [
              0.8888888888888888,
              "#fdca26"
             ],
             [
              1,
              "#f0f921"
             ]
            ],
            "type": "surface"
           }
          ],
          "table": [
           {
            "cells": {
             "fill": {
              "color": "#EBF0F8"
             },
             "line": {
              "color": "white"
             }
            },
            "header": {
             "fill": {
              "color": "#C8D4E3"
             },
             "line": {
              "color": "white"
             }
            },
            "type": "table"
           }
          ]
         },
         "layout": {
          "annotationdefaults": {
           "arrowcolor": "#2a3f5f",
           "arrowhead": 0,
           "arrowwidth": 1
          },
          "autotypenumbers": "strict",
          "coloraxis": {
           "colorbar": {
            "outlinewidth": 0,
            "ticks": ""
           }
          },
          "colorscale": {
           "diverging": [
            [
             0,
             "#8e0152"
            ],
            [
             0.1,
             "#c51b7d"
            ],
            [
             0.2,
             "#de77ae"
            ],
            [
             0.3,
             "#f1b6da"
            ],
            [
             0.4,
             "#fde0ef"
            ],
            [
             0.5,
             "#f7f7f7"
            ],
            [
             0.6,
             "#e6f5d0"
            ],
            [
             0.7,
             "#b8e186"
            ],
            [
             0.8,
             "#7fbc41"
            ],
            [
             0.9,
             "#4d9221"
            ],
            [
             1,
             "#276419"
            ]
           ],
           "sequential": [
            [
             0,
             "#0d0887"
            ],
            [
             0.1111111111111111,
             "#46039f"
            ],
            [
             0.2222222222222222,
             "#7201a8"
            ],
            [
             0.3333333333333333,
             "#9c179e"
            ],
            [
             0.4444444444444444,
             "#bd3786"
            ],
            [
             0.5555555555555556,
             "#d8576b"
            ],
            [
             0.6666666666666666,
             "#ed7953"
            ],
            [
             0.7777777777777778,
             "#fb9f3a"
            ],
            [
             0.8888888888888888,
             "#fdca26"
            ],
            [
             1,
             "#f0f921"
            ]
           ],
           "sequentialminus": [
            [
             0,
             "#0d0887"
            ],
            [
             0.1111111111111111,
             "#46039f"
            ],
            [
             0.2222222222222222,
             "#7201a8"
            ],
            [
             0.3333333333333333,
             "#9c179e"
            ],
            [
             0.4444444444444444,
             "#bd3786"
            ],
            [
             0.5555555555555556,
             "#d8576b"
            ],
            [
             0.6666666666666666,
             "#ed7953"
            ],
            [
             0.7777777777777778,
             "#fb9f3a"
            ],
            [
             0.8888888888888888,
             "#fdca26"
            ],
            [
             1,
             "#f0f921"
            ]
           ]
          },
          "colorway": [
           "#636efa",
           "#EF553B",
           "#00cc96",
           "#ab63fa",
           "#FFA15A",
           "#19d3f3",
           "#FF6692",
           "#B6E880",
           "#FF97FF",
           "#FECB52"
          ],
          "font": {
           "color": "#2a3f5f"
          },
          "geo": {
           "bgcolor": "white",
           "lakecolor": "white",
           "landcolor": "#E5ECF6",
           "showlakes": true,
           "showland": true,
           "subunitcolor": "white"
          },
          "hoverlabel": {
           "align": "left"
          },
          "hovermode": "closest",
          "mapbox": {
           "style": "light"
          },
          "paper_bgcolor": "white",
          "plot_bgcolor": "#E5ECF6",
          "polar": {
           "angularaxis": {
            "gridcolor": "white",
            "linecolor": "white",
            "ticks": ""
           },
           "bgcolor": "#E5ECF6",
           "radialaxis": {
            "gridcolor": "white",
            "linecolor": "white",
            "ticks": ""
           }
          },
          "scene": {
           "xaxis": {
            "backgroundcolor": "#E5ECF6",
            "gridcolor": "white",
            "gridwidth": 2,
            "linecolor": "white",
            "showbackground": true,
            "ticks": "",
            "zerolinecolor": "white"
           },
           "yaxis": {
            "backgroundcolor": "#E5ECF6",
            "gridcolor": "white",
            "gridwidth": 2,
            "linecolor": "white",
            "showbackground": true,
            "ticks": "",
            "zerolinecolor": "white"
           },
           "zaxis": {
            "backgroundcolor": "#E5ECF6",
            "gridcolor": "white",
            "gridwidth": 2,
            "linecolor": "white",
            "showbackground": true,
            "ticks": "",
            "zerolinecolor": "white"
           }
          },
          "shapedefaults": {
           "line": {
            "color": "#2a3f5f"
           }
          },
          "ternary": {
           "aaxis": {
            "gridcolor": "white",
            "linecolor": "white",
            "ticks": ""
           },
           "baxis": {
            "gridcolor": "white",
            "linecolor": "white",
            "ticks": ""
           },
           "bgcolor": "#E5ECF6",
           "caxis": {
            "gridcolor": "white",
            "linecolor": "white",
            "ticks": ""
           }
          },
          "title": {
           "x": 0.05
          },
          "xaxis": {
           "automargin": true,
           "gridcolor": "white",
           "linecolor": "white",
           "ticks": "",
           "title": {
            "standoff": 15
           },
           "zerolinecolor": "white",
           "zerolinewidth": 2
          },
          "yaxis": {
           "automargin": true,
           "gridcolor": "white",
           "linecolor": "white",
           "ticks": "",
           "title": {
            "standoff": 15
           },
           "zerolinecolor": "white",
           "zerolinewidth": 2
          }
         }
        },
        "xaxis": {
         "anchor": "y",
         "domain": [
          0,
          1
         ],
         "title": {
          "text": "x"
         }
        },
        "yaxis": {
         "anchor": "x",
         "domain": [
          0,
          1
         ],
         "title": {
          "text": "y"
         }
        }
       }
      }
     },
     "metadata": {},
     "output_type": "display_data"
    }
   ],
   "source": [
    "import numpy as np\n",
    "import plotly.express as px\n",
    "import plotly.graph_objects as go\n",
    "\n",
    "def p_common(x, mean, var):\n",
    "    return np.exp((x-mean)**2/2/var) / np.sqrt(2*np.pi*var)\n",
    "\n",
    "def common_2_theta(mean, var):\n",
    "    theta_1 = - 1 / (2 * var)\n",
    "    theta_2 = mean / var\n",
    "    return theta_1, theta_2\n",
    "\n",
    "def common_2_eta(mean, var):\n",
    "    eta_1 = mean**2 + var\n",
    "    eta_2 = mean\n",
    "    return eta_1, eta_2\n",
    "\n",
    "def fig_params_2d(parameters):\n",
    "    fig = px.scatter(x=parameters[:, 0], y=parameters[:,1])\n",
    "    return fig\n",
    "\n",
    "parameters_common = np.array([[1, 1], [0, 1], [1, 2]])\n",
    "parameters_theta = np.array([common_2_theta(par[0], par[1]) for par in parameters_common])\n",
    "parameters_eta = np.array([common_2_eta(par[0], par[1]) for par in parameters_common])\n",
    "\n",
    "fig_params_2d(parameters_common).show()\n",
    "fig_params_2d(parameters_theta).show()\n",
    "fig_params_2d(parameters_eta).show()\n"
   ]
  },
  {
   "cell_type": "code",
   "execution_count": 38,
   "metadata": {},
   "outputs": [
    {
     "data": {
      "application/vnd.plotly.v1+json": {
       "config": {
        "plotlyServerURL": "https://plot.ly"
       },
       "data": [
        {
         "type": "surface",
         "x": [
          -2,
          -1.8620689655172413,
          -1.7241379310344827,
          -1.5862068965517242,
          -1.4482758620689655,
          -1.3103448275862069,
          -1.1724137931034484,
          -1.0344827586206897,
          -0.896551724137931,
          -0.7586206896551724,
          -0.6206896551724137,
          -0.48275862068965525,
          -0.3448275862068966,
          -0.2068965517241379,
          -0.06896551724137945,
          0.06896551724137945,
          0.2068965517241379,
          0.34482758620689635,
          0.48275862068965525,
          0.6206896551724137,
          0.7586206896551726,
          0.896551724137931,
          1.0344827586206895,
          1.1724137931034484,
          1.3103448275862069,
          1.4482758620689653,
          1.5862068965517242,
          1.7241379310344827,
          1.862068965517241,
          2
         ],
         "y": [
          -2,
          -1.8620689655172413,
          -1.7241379310344827,
          -1.5862068965517242,
          -1.4482758620689655,
          -1.3103448275862069,
          -1.1724137931034484,
          -1.0344827586206897,
          -0.896551724137931,
          -0.7586206896551724,
          -0.6206896551724137,
          -0.48275862068965525,
          -0.3448275862068966,
          -0.2068965517241379,
          -0.06896551724137945,
          0.06896551724137945,
          0.2068965517241379,
          0.34482758620689635,
          0.48275862068965525,
          0.6206896551724137,
          0.7586206896551726,
          0.896551724137931,
          1.0344827586206895,
          1.1724137931034484,
          1.3103448275862069,
          1.4482758620689653,
          1.5862068965517242,
          1.7241379310344827,
          1.862068965517241,
          2
         ],
         "z": [
          [
           -0.5,
           -0.5370370370370371,
           -0.5800000000000001,
           -0.6304347826086957,
           -0.6904761904761905,
           -0.7631578947368421,
           -0.8529411764705881,
           -0.9666666666666666,
           -1.1153846153846154,
           -1.3181818181818183,
           -1.6111111111111114,
           -2.071428571428571,
           -2.9,
           -4.833333333333334,
           -14.499999999999972,
           14.499999999999972,
           4.833333333333334,
           2.9000000000000017,
           2.071428571428571,
           1.6111111111111114,
           1.318181818181818,
           1.1153846153846154,
           0.9666666666666668,
           0.8529411764705881,
           0.7631578947368421,
           0.6904761904761906,
           0.6304347826086957,
           0.5800000000000001,
           0.5370370370370371,
           0.5
          ],
          [
           -0.5,
           -0.5370370370370371,
           -0.5800000000000001,
           -0.6304347826086957,
           -0.6904761904761905,
           -0.7631578947368421,
           -0.8529411764705881,
           -0.9666666666666666,
           -1.1153846153846154,
           -1.3181818181818183,
           -1.6111111111111114,
           -2.071428571428571,
           -2.9,
           -4.833333333333334,
           -14.499999999999972,
           14.499999999999972,
           4.833333333333334,
           2.9000000000000017,
           2.071428571428571,
           1.6111111111111114,
           1.318181818181818,
           1.1153846153846154,
           0.9666666666666668,
           0.8529411764705881,
           0.7631578947368421,
           0.6904761904761906,
           0.6304347826086957,
           0.5800000000000001,
           0.5370370370370371,
           0.5
          ],
          [
           -0.5,
           -0.5370370370370371,
           -0.5800000000000001,
           -0.6304347826086957,
           -0.6904761904761905,
           -0.7631578947368421,
           -0.8529411764705881,
           -0.9666666666666666,
           -1.1153846153846154,
           -1.3181818181818183,
           -1.6111111111111114,
           -2.071428571428571,
           -2.9,
           -4.833333333333334,
           -14.499999999999972,
           14.499999999999972,
           4.833333333333334,
           2.9000000000000017,
           2.071428571428571,
           1.6111111111111114,
           1.318181818181818,
           1.1153846153846154,
           0.9666666666666668,
           0.8529411764705881,
           0.7631578947368421,
           0.6904761904761906,
           0.6304347826086957,
           0.5800000000000001,
           0.5370370370370371,
           0.5
          ],
          [
           -0.5,
           -0.5370370370370371,
           -0.5800000000000001,
           -0.6304347826086957,
           -0.6904761904761905,
           -0.7631578947368421,
           -0.8529411764705881,
           -0.9666666666666666,
           -1.1153846153846154,
           -1.3181818181818183,
           -1.6111111111111114,
           -2.071428571428571,
           -2.9,
           -4.833333333333334,
           -14.499999999999972,
           14.499999999999972,
           4.833333333333334,
           2.9000000000000017,
           2.071428571428571,
           1.6111111111111114,
           1.318181818181818,
           1.1153846153846154,
           0.9666666666666668,
           0.8529411764705881,
           0.7631578947368421,
           0.6904761904761906,
           0.6304347826086957,
           0.5800000000000001,
           0.5370370370370371,
           0.5
          ],
          [
           -0.5,
           -0.5370370370370371,
           -0.5800000000000001,
           -0.6304347826086957,
           -0.6904761904761905,
           -0.7631578947368421,
           -0.8529411764705881,
           -0.9666666666666666,
           -1.1153846153846154,
           -1.3181818181818183,
           -1.6111111111111114,
           -2.071428571428571,
           -2.9,
           -4.833333333333334,
           -14.499999999999972,
           14.499999999999972,
           4.833333333333334,
           2.9000000000000017,
           2.071428571428571,
           1.6111111111111114,
           1.318181818181818,
           1.1153846153846154,
           0.9666666666666668,
           0.8529411764705881,
           0.7631578947368421,
           0.6904761904761906,
           0.6304347826086957,
           0.5800000000000001,
           0.5370370370370371,
           0.5
          ],
          [
           -0.5,
           -0.5370370370370371,
           -0.5800000000000001,
           -0.6304347826086957,
           -0.6904761904761905,
           -0.7631578947368421,
           -0.8529411764705881,
           -0.9666666666666666,
           -1.1153846153846154,
           -1.3181818181818183,
           -1.6111111111111114,
           -2.071428571428571,
           -2.9,
           -4.833333333333334,
           -14.499999999999972,
           14.499999999999972,
           4.833333333333334,
           2.9000000000000017,
           2.071428571428571,
           1.6111111111111114,
           1.318181818181818,
           1.1153846153846154,
           0.9666666666666668,
           0.8529411764705881,
           0.7631578947368421,
           0.6904761904761906,
           0.6304347826086957,
           0.5800000000000001,
           0.5370370370370371,
           0.5
          ],
          [
           -0.5,
           -0.5370370370370371,
           -0.5800000000000001,
           -0.6304347826086957,
           -0.6904761904761905,
           -0.7631578947368421,
           -0.8529411764705881,
           -0.9666666666666666,
           -1.1153846153846154,
           -1.3181818181818183,
           -1.6111111111111114,
           -2.071428571428571,
           -2.9,
           -4.833333333333334,
           -14.499999999999972,
           14.499999999999972,
           4.833333333333334,
           2.9000000000000017,
           2.071428571428571,
           1.6111111111111114,
           1.318181818181818,
           1.1153846153846154,
           0.9666666666666668,
           0.8529411764705881,
           0.7631578947368421,
           0.6904761904761906,
           0.6304347826086957,
           0.5800000000000001,
           0.5370370370370371,
           0.5
          ],
          [
           -0.5,
           -0.5370370370370371,
           -0.5800000000000001,
           -0.6304347826086957,
           -0.6904761904761905,
           -0.7631578947368421,
           -0.8529411764705881,
           -0.9666666666666666,
           -1.1153846153846154,
           -1.3181818181818183,
           -1.6111111111111114,
           -2.071428571428571,
           -2.9,
           -4.833333333333334,
           -14.499999999999972,
           14.499999999999972,
           4.833333333333334,
           2.9000000000000017,
           2.071428571428571,
           1.6111111111111114,
           1.318181818181818,
           1.1153846153846154,
           0.9666666666666668,
           0.8529411764705881,
           0.7631578947368421,
           0.6904761904761906,
           0.6304347826086957,
           0.5800000000000001,
           0.5370370370370371,
           0.5
          ],
          [
           -0.5,
           -0.5370370370370371,
           -0.5800000000000001,
           -0.6304347826086957,
           -0.6904761904761905,
           -0.7631578947368421,
           -0.8529411764705881,
           -0.9666666666666666,
           -1.1153846153846154,
           -1.3181818181818183,
           -1.6111111111111114,
           -2.071428571428571,
           -2.9,
           -4.833333333333334,
           -14.499999999999972,
           14.499999999999972,
           4.833333333333334,
           2.9000000000000017,
           2.071428571428571,
           1.6111111111111114,
           1.318181818181818,
           1.1153846153846154,
           0.9666666666666668,
           0.8529411764705881,
           0.7631578947368421,
           0.6904761904761906,
           0.6304347826086957,
           0.5800000000000001,
           0.5370370370370371,
           0.5
          ],
          [
           -0.5,
           -0.5370370370370371,
           -0.5800000000000001,
           -0.6304347826086957,
           -0.6904761904761905,
           -0.7631578947368421,
           -0.8529411764705881,
           -0.9666666666666666,
           -1.1153846153846154,
           -1.3181818181818183,
           -1.6111111111111114,
           -2.071428571428571,
           -2.9,
           -4.833333333333334,
           -14.499999999999972,
           14.499999999999972,
           4.833333333333334,
           2.9000000000000017,
           2.071428571428571,
           1.6111111111111114,
           1.318181818181818,
           1.1153846153846154,
           0.9666666666666668,
           0.8529411764705881,
           0.7631578947368421,
           0.6904761904761906,
           0.6304347826086957,
           0.5800000000000001,
           0.5370370370370371,
           0.5
          ],
          [
           -0.5,
           -0.5370370370370371,
           -0.5800000000000001,
           -0.6304347826086957,
           -0.6904761904761905,
           -0.7631578947368421,
           -0.8529411764705881,
           -0.9666666666666666,
           -1.1153846153846154,
           -1.3181818181818183,
           -1.6111111111111114,
           -2.071428571428571,
           -2.9,
           -4.833333333333334,
           -14.499999999999972,
           14.499999999999972,
           4.833333333333334,
           2.9000000000000017,
           2.071428571428571,
           1.6111111111111114,
           1.318181818181818,
           1.1153846153846154,
           0.9666666666666668,
           0.8529411764705881,
           0.7631578947368421,
           0.6904761904761906,
           0.6304347826086957,
           0.5800000000000001,
           0.5370370370370371,
           0.5
          ],
          [
           -0.5,
           -0.5370370370370371,
           -0.5800000000000001,
           -0.6304347826086957,
           -0.6904761904761905,
           -0.7631578947368421,
           -0.8529411764705881,
           -0.9666666666666666,
           -1.1153846153846154,
           -1.3181818181818183,
           -1.6111111111111114,
           -2.071428571428571,
           -2.9,
           -4.833333333333334,
           -14.499999999999972,
           14.499999999999972,
           4.833333333333334,
           2.9000000000000017,
           2.071428571428571,
           1.6111111111111114,
           1.318181818181818,
           1.1153846153846154,
           0.9666666666666668,
           0.8529411764705881,
           0.7631578947368421,
           0.6904761904761906,
           0.6304347826086957,
           0.5800000000000001,
           0.5370370370370371,
           0.5
          ],
          [
           -0.5,
           -0.5370370370370371,
           -0.5800000000000001,
           -0.6304347826086957,
           -0.6904761904761905,
           -0.7631578947368421,
           -0.8529411764705881,
           -0.9666666666666666,
           -1.1153846153846154,
           -1.3181818181818183,
           -1.6111111111111114,
           -2.071428571428571,
           -2.9,
           -4.833333333333334,
           -14.499999999999972,
           14.499999999999972,
           4.833333333333334,
           2.9000000000000017,
           2.071428571428571,
           1.6111111111111114,
           1.318181818181818,
           1.1153846153846154,
           0.9666666666666668,
           0.8529411764705881,
           0.7631578947368421,
           0.6904761904761906,
           0.6304347826086957,
           0.5800000000000001,
           0.5370370370370371,
           0.5
          ],
          [
           -0.5,
           -0.5370370370370371,
           -0.5800000000000001,
           -0.6304347826086957,
           -0.6904761904761905,
           -0.7631578947368421,
           -0.8529411764705881,
           -0.9666666666666666,
           -1.1153846153846154,
           -1.3181818181818183,
           -1.6111111111111114,
           -2.071428571428571,
           -2.9,
           -4.833333333333334,
           -14.499999999999972,
           14.499999999999972,
           4.833333333333334,
           2.9000000000000017,
           2.071428571428571,
           1.6111111111111114,
           1.318181818181818,
           1.1153846153846154,
           0.9666666666666668,
           0.8529411764705881,
           0.7631578947368421,
           0.6904761904761906,
           0.6304347826086957,
           0.5800000000000001,
           0.5370370370370371,
           0.5
          ],
          [
           -0.5,
           -0.5370370370370371,
           -0.5800000000000001,
           -0.6304347826086957,
           -0.6904761904761905,
           -0.7631578947368421,
           -0.8529411764705881,
           -0.9666666666666666,
           -1.1153846153846154,
           -1.3181818181818183,
           -1.6111111111111114,
           -2.071428571428571,
           -2.9,
           -4.833333333333334,
           -14.499999999999972,
           14.499999999999972,
           4.833333333333334,
           2.9000000000000017,
           2.071428571428571,
           1.6111111111111114,
           1.318181818181818,
           1.1153846153846154,
           0.9666666666666668,
           0.8529411764705881,
           0.7631578947368421,
           0.6904761904761906,
           0.6304347826086957,
           0.5800000000000001,
           0.5370370370370371,
           0.5
          ],
          [
           -0.5,
           -0.5370370370370371,
           -0.5800000000000001,
           -0.6304347826086957,
           -0.6904761904761905,
           -0.7631578947368421,
           -0.8529411764705881,
           -0.9666666666666666,
           -1.1153846153846154,
           -1.3181818181818183,
           -1.6111111111111114,
           -2.071428571428571,
           -2.9,
           -4.833333333333334,
           -14.499999999999972,
           14.499999999999972,
           4.833333333333334,
           2.9000000000000017,
           2.071428571428571,
           1.6111111111111114,
           1.318181818181818,
           1.1153846153846154,
           0.9666666666666668,
           0.8529411764705881,
           0.7631578947368421,
           0.6904761904761906,
           0.6304347826086957,
           0.5800000000000001,
           0.5370370370370371,
           0.5
          ],
          [
           -0.5,
           -0.5370370370370371,
           -0.5800000000000001,
           -0.6304347826086957,
           -0.6904761904761905,
           -0.7631578947368421,
           -0.8529411764705881,
           -0.9666666666666666,
           -1.1153846153846154,
           -1.3181818181818183,
           -1.6111111111111114,
           -2.071428571428571,
           -2.9,
           -4.833333333333334,
           -14.499999999999972,
           14.499999999999972,
           4.833333333333334,
           2.9000000000000017,
           2.071428571428571,
           1.6111111111111114,
           1.318181818181818,
           1.1153846153846154,
           0.9666666666666668,
           0.8529411764705881,
           0.7631578947368421,
           0.6904761904761906,
           0.6304347826086957,
           0.5800000000000001,
           0.5370370370370371,
           0.5
          ],
          [
           -0.5,
           -0.5370370370370371,
           -0.5800000000000001,
           -0.6304347826086957,
           -0.6904761904761905,
           -0.7631578947368421,
           -0.8529411764705881,
           -0.9666666666666666,
           -1.1153846153846154,
           -1.3181818181818183,
           -1.6111111111111114,
           -2.071428571428571,
           -2.9,
           -4.833333333333334,
           -14.499999999999972,
           14.499999999999972,
           4.833333333333334,
           2.9000000000000017,
           2.071428571428571,
           1.6111111111111114,
           1.318181818181818,
           1.1153846153846154,
           0.9666666666666668,
           0.8529411764705881,
           0.7631578947368421,
           0.6904761904761906,
           0.6304347826086957,
           0.5800000000000001,
           0.5370370370370371,
           0.5
          ],
          [
           -0.5,
           -0.5370370370370371,
           -0.5800000000000001,
           -0.6304347826086957,
           -0.6904761904761905,
           -0.7631578947368421,
           -0.8529411764705881,
           -0.9666666666666666,
           -1.1153846153846154,
           -1.3181818181818183,
           -1.6111111111111114,
           -2.071428571428571,
           -2.9,
           -4.833333333333334,
           -14.499999999999972,
           14.499999999999972,
           4.833333333333334,
           2.9000000000000017,
           2.071428571428571,
           1.6111111111111114,
           1.318181818181818,
           1.1153846153846154,
           0.9666666666666668,
           0.8529411764705881,
           0.7631578947368421,
           0.6904761904761906,
           0.6304347826086957,
           0.5800000000000001,
           0.5370370370370371,
           0.5
          ],
          [
           -0.5,
           -0.5370370370370371,
           -0.5800000000000001,
           -0.6304347826086957,
           -0.6904761904761905,
           -0.7631578947368421,
           -0.8529411764705881,
           -0.9666666666666666,
           -1.1153846153846154,
           -1.3181818181818183,
           -1.6111111111111114,
           -2.071428571428571,
           -2.9,
           -4.833333333333334,
           -14.499999999999972,
           14.499999999999972,
           4.833333333333334,
           2.9000000000000017,
           2.071428571428571,
           1.6111111111111114,
           1.318181818181818,
           1.1153846153846154,
           0.9666666666666668,
           0.8529411764705881,
           0.7631578947368421,
           0.6904761904761906,
           0.6304347826086957,
           0.5800000000000001,
           0.5370370370370371,
           0.5
          ],
          [
           -0.5,
           -0.5370370370370371,
           -0.5800000000000001,
           -0.6304347826086957,
           -0.6904761904761905,
           -0.7631578947368421,
           -0.8529411764705881,
           -0.9666666666666666,
           -1.1153846153846154,
           -1.3181818181818183,
           -1.6111111111111114,
           -2.071428571428571,
           -2.9,
           -4.833333333333334,
           -14.499999999999972,
           14.499999999999972,
           4.833333333333334,
           2.9000000000000017,
           2.071428571428571,
           1.6111111111111114,
           1.318181818181818,
           1.1153846153846154,
           0.9666666666666668,
           0.8529411764705881,
           0.7631578947368421,
           0.6904761904761906,
           0.6304347826086957,
           0.5800000000000001,
           0.5370370370370371,
           0.5
          ],
          [
           -0.5,
           -0.5370370370370371,
           -0.5800000000000001,
           -0.6304347826086957,
           -0.6904761904761905,
           -0.7631578947368421,
           -0.8529411764705881,
           -0.9666666666666666,
           -1.1153846153846154,
           -1.3181818181818183,
           -1.6111111111111114,
           -2.071428571428571,
           -2.9,
           -4.833333333333334,
           -14.499999999999972,
           14.499999999999972,
           4.833333333333334,
           2.9000000000000017,
           2.071428571428571,
           1.6111111111111114,
           1.318181818181818,
           1.1153846153846154,
           0.9666666666666668,
           0.8529411764705881,
           0.7631578947368421,
           0.6904761904761906,
           0.6304347826086957,
           0.5800000000000001,
           0.5370370370370371,
           0.5
          ],
          [
           -0.5,
           -0.5370370370370371,
           -0.5800000000000001,
           -0.6304347826086957,
           -0.6904761904761905,
           -0.7631578947368421,
           -0.8529411764705881,
           -0.9666666666666666,
           -1.1153846153846154,
           -1.3181818181818183,
           -1.6111111111111114,
           -2.071428571428571,
           -2.9,
           -4.833333333333334,
           -14.499999999999972,
           14.499999999999972,
           4.833333333333334,
           2.9000000000000017,
           2.071428571428571,
           1.6111111111111114,
           1.318181818181818,
           1.1153846153846154,
           0.9666666666666668,
           0.8529411764705881,
           0.7631578947368421,
           0.6904761904761906,
           0.6304347826086957,
           0.5800000000000001,
           0.5370370370370371,
           0.5
          ],
          [
           -0.5,
           -0.5370370370370371,
           -0.5800000000000001,
           -0.6304347826086957,
           -0.6904761904761905,
           -0.7631578947368421,
           -0.8529411764705881,
           -0.9666666666666666,
           -1.1153846153846154,
           -1.3181818181818183,
           -1.6111111111111114,
           -2.071428571428571,
           -2.9,
           -4.833333333333334,
           -14.499999999999972,
           14.499999999999972,
           4.833333333333334,
           2.9000000000000017,
           2.071428571428571,
           1.6111111111111114,
           1.318181818181818,
           1.1153846153846154,
           0.9666666666666668,
           0.8529411764705881,
           0.7631578947368421,
           0.6904761904761906,
           0.6304347826086957,
           0.5800000000000001,
           0.5370370370370371,
           0.5
          ],
          [
           -0.5,
           -0.5370370370370371,
           -0.5800000000000001,
           -0.6304347826086957,
           -0.6904761904761905,
           -0.7631578947368421,
           -0.8529411764705881,
           -0.9666666666666666,
           -1.1153846153846154,
           -1.3181818181818183,
           -1.6111111111111114,
           -2.071428571428571,
           -2.9,
           -4.833333333333334,
           -14.499999999999972,
           14.499999999999972,
           4.833333333333334,
           2.9000000000000017,
           2.071428571428571,
           1.6111111111111114,
           1.318181818181818,
           1.1153846153846154,
           0.9666666666666668,
           0.8529411764705881,
           0.7631578947368421,
           0.6904761904761906,
           0.6304347826086957,
           0.5800000000000001,
           0.5370370370370371,
           0.5
          ],
          [
           -0.5,
           -0.5370370370370371,
           -0.5800000000000001,
           -0.6304347826086957,
           -0.6904761904761905,
           -0.7631578947368421,
           -0.8529411764705881,
           -0.9666666666666666,
           -1.1153846153846154,
           -1.3181818181818183,
           -1.6111111111111114,
           -2.071428571428571,
           -2.9,
           -4.833333333333334,
           -14.499999999999972,
           14.499999999999972,
           4.833333333333334,
           2.9000000000000017,
           2.071428571428571,
           1.6111111111111114,
           1.318181818181818,
           1.1153846153846154,
           0.9666666666666668,
           0.8529411764705881,
           0.7631578947368421,
           0.6904761904761906,
           0.6304347826086957,
           0.5800000000000001,
           0.5370370370370371,
           0.5
          ],
          [
           -0.5,
           -0.5370370370370371,
           -0.5800000000000001,
           -0.6304347826086957,
           -0.6904761904761905,
           -0.7631578947368421,
           -0.8529411764705881,
           -0.9666666666666666,
           -1.1153846153846154,
           -1.3181818181818183,
           -1.6111111111111114,
           -2.071428571428571,
           -2.9,
           -4.833333333333334,
           -14.499999999999972,
           14.499999999999972,
           4.833333333333334,
           2.9000000000000017,
           2.071428571428571,
           1.6111111111111114,
           1.318181818181818,
           1.1153846153846154,
           0.9666666666666668,
           0.8529411764705881,
           0.7631578947368421,
           0.6904761904761906,
           0.6304347826086957,
           0.5800000000000001,
           0.5370370370370371,
           0.5
          ],
          [
           -0.5,
           -0.5370370370370371,
           -0.5800000000000001,
           -0.6304347826086957,
           -0.6904761904761905,
           -0.7631578947368421,
           -0.8529411764705881,
           -0.9666666666666666,
           -1.1153846153846154,
           -1.3181818181818183,
           -1.6111111111111114,
           -2.071428571428571,
           -2.9,
           -4.833333333333334,
           -14.499999999999972,
           14.499999999999972,
           4.833333333333334,
           2.9000000000000017,
           2.071428571428571,
           1.6111111111111114,
           1.318181818181818,
           1.1153846153846154,
           0.9666666666666668,
           0.8529411764705881,
           0.7631578947368421,
           0.6904761904761906,
           0.6304347826086957,
           0.5800000000000001,
           0.5370370370370371,
           0.5
          ],
          [
           -0.5,
           -0.5370370370370371,
           -0.5800000000000001,
           -0.6304347826086957,
           -0.6904761904761905,
           -0.7631578947368421,
           -0.8529411764705881,
           -0.9666666666666666,
           -1.1153846153846154,
           -1.3181818181818183,
           -1.6111111111111114,
           -2.071428571428571,
           -2.9,
           -4.833333333333334,
           -14.499999999999972,
           14.499999999999972,
           4.833333333333334,
           2.9000000000000017,
           2.071428571428571,
           1.6111111111111114,
           1.318181818181818,
           1.1153846153846154,
           0.9666666666666668,
           0.8529411764705881,
           0.7631578947368421,
           0.6904761904761906,
           0.6304347826086957,
           0.5800000000000001,
           0.5370370370370371,
           0.5
          ],
          [
           -0.5,
           -0.5370370370370371,
           -0.5800000000000001,
           -0.6304347826086957,
           -0.6904761904761905,
           -0.7631578947368421,
           -0.8529411764705881,
           -0.9666666666666666,
           -1.1153846153846154,
           -1.3181818181818183,
           -1.6111111111111114,
           -2.071428571428571,
           -2.9,
           -4.833333333333334,
           -14.499999999999972,
           14.499999999999972,
           4.833333333333334,
           2.9000000000000017,
           2.071428571428571,
           1.6111111111111114,
           1.318181818181818,
           1.1153846153846154,
           0.9666666666666668,
           0.8529411764705881,
           0.7631578947368421,
           0.6904761904761906,
           0.6304347826086957,
           0.5800000000000001,
           0.5370370370370371,
           0.5
          ]
         ]
        }
       ],
       "layout": {
        "autosize": false,
        "height": 500,
        "margin": {
         "b": 65,
         "l": 65,
         "r": 50,
         "t": 90
        },
        "template": {
         "data": {
          "bar": [
           {
            "error_x": {
             "color": "#2a3f5f"
            },
            "error_y": {
             "color": "#2a3f5f"
            },
            "marker": {
             "line": {
              "color": "#E5ECF6",
              "width": 0.5
             },
             "pattern": {
              "fillmode": "overlay",
              "size": 10,
              "solidity": 0.2
             }
            },
            "type": "bar"
           }
          ],
          "barpolar": [
           {
            "marker": {
             "line": {
              "color": "#E5ECF6",
              "width": 0.5
             },
             "pattern": {
              "fillmode": "overlay",
              "size": 10,
              "solidity": 0.2
             }
            },
            "type": "barpolar"
           }
          ],
          "carpet": [
           {
            "aaxis": {
             "endlinecolor": "#2a3f5f",
             "gridcolor": "white",
             "linecolor": "white",
             "minorgridcolor": "white",
             "startlinecolor": "#2a3f5f"
            },
            "baxis": {
             "endlinecolor": "#2a3f5f",
             "gridcolor": "white",
             "linecolor": "white",
             "minorgridcolor": "white",
             "startlinecolor": "#2a3f5f"
            },
            "type": "carpet"
           }
          ],
          "choropleth": [
           {
            "colorbar": {
             "outlinewidth": 0,
             "ticks": ""
            },
            "type": "choropleth"
           }
          ],
          "contour": [
           {
            "colorbar": {
             "outlinewidth": 0,
             "ticks": ""
            },
            "colorscale": [
             [
              0,
              "#0d0887"
             ],
             [
              0.1111111111111111,
              "#46039f"
             ],
             [
              0.2222222222222222,
              "#7201a8"
             ],
             [
              0.3333333333333333,
              "#9c179e"
             ],
             [
              0.4444444444444444,
              "#bd3786"
             ],
             [
              0.5555555555555556,
              "#d8576b"
             ],
             [
              0.6666666666666666,
              "#ed7953"
             ],
             [
              0.7777777777777778,
              "#fb9f3a"
             ],
             [
              0.8888888888888888,
              "#fdca26"
             ],
             [
              1,
              "#f0f921"
             ]
            ],
            "type": "contour"
           }
          ],
          "contourcarpet": [
           {
            "colorbar": {
             "outlinewidth": 0,
             "ticks": ""
            },
            "type": "contourcarpet"
           }
          ],
          "heatmap": [
           {
            "colorbar": {
             "outlinewidth": 0,
             "ticks": ""
            },
            "colorscale": [
             [
              0,
              "#0d0887"
             ],
             [
              0.1111111111111111,
              "#46039f"
             ],
             [
              0.2222222222222222,
              "#7201a8"
             ],
             [
              0.3333333333333333,
              "#9c179e"
             ],
             [
              0.4444444444444444,
              "#bd3786"
             ],
             [
              0.5555555555555556,
              "#d8576b"
             ],
             [
              0.6666666666666666,
              "#ed7953"
             ],
             [
              0.7777777777777778,
              "#fb9f3a"
             ],
             [
              0.8888888888888888,
              "#fdca26"
             ],
             [
              1,
              "#f0f921"
             ]
            ],
            "type": "heatmap"
           }
          ],
          "heatmapgl": [
           {
            "colorbar": {
             "outlinewidth": 0,
             "ticks": ""
            },
            "colorscale": [
             [
              0,
              "#0d0887"
             ],
             [
              0.1111111111111111,
              "#46039f"
             ],
             [
              0.2222222222222222,
              "#7201a8"
             ],
             [
              0.3333333333333333,
              "#9c179e"
             ],
             [
              0.4444444444444444,
              "#bd3786"
             ],
             [
              0.5555555555555556,
              "#d8576b"
             ],
             [
              0.6666666666666666,
              "#ed7953"
             ],
             [
              0.7777777777777778,
              "#fb9f3a"
             ],
             [
              0.8888888888888888,
              "#fdca26"
             ],
             [
              1,
              "#f0f921"
             ]
            ],
            "type": "heatmapgl"
           }
          ],
          "histogram": [
           {
            "marker": {
             "pattern": {
              "fillmode": "overlay",
              "size": 10,
              "solidity": 0.2
             }
            },
            "type": "histogram"
           }
          ],
          "histogram2d": [
           {
            "colorbar": {
             "outlinewidth": 0,
             "ticks": ""
            },
            "colorscale": [
             [
              0,
              "#0d0887"
             ],
             [
              0.1111111111111111,
              "#46039f"
             ],
             [
              0.2222222222222222,
              "#7201a8"
             ],
             [
              0.3333333333333333,
              "#9c179e"
             ],
             [
              0.4444444444444444,
              "#bd3786"
             ],
             [
              0.5555555555555556,
              "#d8576b"
             ],
             [
              0.6666666666666666,
              "#ed7953"
             ],
             [
              0.7777777777777778,
              "#fb9f3a"
             ],
             [
              0.8888888888888888,
              "#fdca26"
             ],
             [
              1,
              "#f0f921"
             ]
            ],
            "type": "histogram2d"
           }
          ],
          "histogram2dcontour": [
           {
            "colorbar": {
             "outlinewidth": 0,
             "ticks": ""
            },
            "colorscale": [
             [
              0,
              "#0d0887"
             ],
             [
              0.1111111111111111,
              "#46039f"
             ],
             [
              0.2222222222222222,
              "#7201a8"
             ],
             [
              0.3333333333333333,
              "#9c179e"
             ],
             [
              0.4444444444444444,
              "#bd3786"
             ],
             [
              0.5555555555555556,
              "#d8576b"
             ],
             [
              0.6666666666666666,
              "#ed7953"
             ],
             [
              0.7777777777777778,
              "#fb9f3a"
             ],
             [
              0.8888888888888888,
              "#fdca26"
             ],
             [
              1,
              "#f0f921"
             ]
            ],
            "type": "histogram2dcontour"
           }
          ],
          "mesh3d": [
           {
            "colorbar": {
             "outlinewidth": 0,
             "ticks": ""
            },
            "type": "mesh3d"
           }
          ],
          "parcoords": [
           {
            "line": {
             "colorbar": {
              "outlinewidth": 0,
              "ticks": ""
             }
            },
            "type": "parcoords"
           }
          ],
          "pie": [
           {
            "automargin": true,
            "type": "pie"
           }
          ],
          "scatter": [
           {
            "fillpattern": {
             "fillmode": "overlay",
             "size": 10,
             "solidity": 0.2
            },
            "type": "scatter"
           }
          ],
          "scatter3d": [
           {
            "line": {
             "colorbar": {
              "outlinewidth": 0,
              "ticks": ""
             }
            },
            "marker": {
             "colorbar": {
              "outlinewidth": 0,
              "ticks": ""
             }
            },
            "type": "scatter3d"
           }
          ],
          "scattercarpet": [
           {
            "marker": {
             "colorbar": {
              "outlinewidth": 0,
              "ticks": ""
             }
            },
            "type": "scattercarpet"
           }
          ],
          "scattergeo": [
           {
            "marker": {
             "colorbar": {
              "outlinewidth": 0,
              "ticks": ""
             }
            },
            "type": "scattergeo"
           }
          ],
          "scattergl": [
           {
            "marker": {
             "colorbar": {
              "outlinewidth": 0,
              "ticks": ""
             }
            },
            "type": "scattergl"
           }
          ],
          "scattermapbox": [
           {
            "marker": {
             "colorbar": {
              "outlinewidth": 0,
              "ticks": ""
             }
            },
            "type": "scattermapbox"
           }
          ],
          "scatterpolar": [
           {
            "marker": {
             "colorbar": {
              "outlinewidth": 0,
              "ticks": ""
             }
            },
            "type": "scatterpolar"
           }
          ],
          "scatterpolargl": [
           {
            "marker": {
             "colorbar": {
              "outlinewidth": 0,
              "ticks": ""
             }
            },
            "type": "scatterpolargl"
           }
          ],
          "scatterternary": [
           {
            "marker": {
             "colorbar": {
              "outlinewidth": 0,
              "ticks": ""
             }
            },
            "type": "scatterternary"
           }
          ],
          "surface": [
           {
            "colorbar": {
             "outlinewidth": 0,
             "ticks": ""
            },
            "colorscale": [
             [
              0,
              "#0d0887"
             ],
             [
              0.1111111111111111,
              "#46039f"
             ],
             [
              0.2222222222222222,
              "#7201a8"
             ],
             [
              0.3333333333333333,
              "#9c179e"
             ],
             [
              0.4444444444444444,
              "#bd3786"
             ],
             [
              0.5555555555555556,
              "#d8576b"
             ],
             [
              0.6666666666666666,
              "#ed7953"
             ],
             [
              0.7777777777777778,
              "#fb9f3a"
             ],
             [
              0.8888888888888888,
              "#fdca26"
             ],
             [
              1,
              "#f0f921"
             ]
            ],
            "type": "surface"
           }
          ],
          "table": [
           {
            "cells": {
             "fill": {
              "color": "#EBF0F8"
             },
             "line": {
              "color": "white"
             }
            },
            "header": {
             "fill": {
              "color": "#C8D4E3"
             },
             "line": {
              "color": "white"
             }
            },
            "type": "table"
           }
          ]
         },
         "layout": {
          "annotationdefaults": {
           "arrowcolor": "#2a3f5f",
           "arrowhead": 0,
           "arrowwidth": 1
          },
          "autotypenumbers": "strict",
          "coloraxis": {
           "colorbar": {
            "outlinewidth": 0,
            "ticks": ""
           }
          },
          "colorscale": {
           "diverging": [
            [
             0,
             "#8e0152"
            ],
            [
             0.1,
             "#c51b7d"
            ],
            [
             0.2,
             "#de77ae"
            ],
            [
             0.3,
             "#f1b6da"
            ],
            [
             0.4,
             "#fde0ef"
            ],
            [
             0.5,
             "#f7f7f7"
            ],
            [
             0.6,
             "#e6f5d0"
            ],
            [
             0.7,
             "#b8e186"
            ],
            [
             0.8,
             "#7fbc41"
            ],
            [
             0.9,
             "#4d9221"
            ],
            [
             1,
             "#276419"
            ]
           ],
           "sequential": [
            [
             0,
             "#0d0887"
            ],
            [
             0.1111111111111111,
             "#46039f"
            ],
            [
             0.2222222222222222,
             "#7201a8"
            ],
            [
             0.3333333333333333,
             "#9c179e"
            ],
            [
             0.4444444444444444,
             "#bd3786"
            ],
            [
             0.5555555555555556,
             "#d8576b"
            ],
            [
             0.6666666666666666,
             "#ed7953"
            ],
            [
             0.7777777777777778,
             "#fb9f3a"
            ],
            [
             0.8888888888888888,
             "#fdca26"
            ],
            [
             1,
             "#f0f921"
            ]
           ],
           "sequentialminus": [
            [
             0,
             "#0d0887"
            ],
            [
             0.1111111111111111,
             "#46039f"
            ],
            [
             0.2222222222222222,
             "#7201a8"
            ],
            [
             0.3333333333333333,
             "#9c179e"
            ],
            [
             0.4444444444444444,
             "#bd3786"
            ],
            [
             0.5555555555555556,
             "#d8576b"
            ],
            [
             0.6666666666666666,
             "#ed7953"
            ],
            [
             0.7777777777777778,
             "#fb9f3a"
            ],
            [
             0.8888888888888888,
             "#fdca26"
            ],
            [
             1,
             "#f0f921"
            ]
           ]
          },
          "colorway": [
           "#636efa",
           "#EF553B",
           "#00cc96",
           "#ab63fa",
           "#FFA15A",
           "#19d3f3",
           "#FF6692",
           "#B6E880",
           "#FF97FF",
           "#FECB52"
          ],
          "font": {
           "color": "#2a3f5f"
          },
          "geo": {
           "bgcolor": "white",
           "lakecolor": "white",
           "landcolor": "#E5ECF6",
           "showlakes": true,
           "showland": true,
           "subunitcolor": "white"
          },
          "hoverlabel": {
           "align": "left"
          },
          "hovermode": "closest",
          "mapbox": {
           "style": "light"
          },
          "paper_bgcolor": "white",
          "plot_bgcolor": "#E5ECF6",
          "polar": {
           "angularaxis": {
            "gridcolor": "white",
            "linecolor": "white",
            "ticks": ""
           },
           "bgcolor": "#E5ECF6",
           "radialaxis": {
            "gridcolor": "white",
            "linecolor": "white",
            "ticks": ""
           }
          },
          "scene": {
           "xaxis": {
            "backgroundcolor": "#E5ECF6",
            "gridcolor": "white",
            "gridwidth": 2,
            "linecolor": "white",
            "showbackground": true,
            "ticks": "",
            "zerolinecolor": "white"
           },
           "yaxis": {
            "backgroundcolor": "#E5ECF6",
            "gridcolor": "white",
            "gridwidth": 2,
            "linecolor": "white",
            "showbackground": true,
            "ticks": "",
            "zerolinecolor": "white"
           },
           "zaxis": {
            "backgroundcolor": "#E5ECF6",
            "gridcolor": "white",
            "gridwidth": 2,
            "linecolor": "white",
            "showbackground": true,
            "ticks": "",
            "zerolinecolor": "white"
           }
          },
          "shapedefaults": {
           "line": {
            "color": "#2a3f5f"
           }
          },
          "ternary": {
           "aaxis": {
            "gridcolor": "white",
            "linecolor": "white",
            "ticks": ""
           },
           "baxis": {
            "gridcolor": "white",
            "linecolor": "white",
            "ticks": ""
           },
           "bgcolor": "#E5ECF6",
           "caxis": {
            "gridcolor": "white",
            "linecolor": "white",
            "ticks": ""
           }
          },
          "title": {
           "x": 0.05
          },
          "xaxis": {
           "automargin": true,
           "gridcolor": "white",
           "linecolor": "white",
           "ticks": "",
           "title": {
            "standoff": 15
           },
           "zerolinecolor": "white",
           "zerolinewidth": 2
          },
          "yaxis": {
           "automargin": true,
           "gridcolor": "white",
           "linecolor": "white",
           "ticks": "",
           "title": {
            "standoff": 15
           },
           "zerolinecolor": "white",
           "zerolinewidth": 2
          }
         }
        },
        "title": {
         "text": ""
        },
        "width": 500
       }
      }
     },
     "metadata": {},
     "output_type": "display_data"
    },
    {
     "data": {
      "application/vnd.plotly.v1+json": {
       "config": {
        "plotlyServerURL": "https://plot.ly"
       },
       "data": [
        {
         "type": "surface",
         "x": [
          -2,
          -1.8620689655172413,
          -1.7241379310344827,
          -1.5862068965517242,
          -1.4482758620689655,
          -1.3103448275862069,
          -1.1724137931034484,
          -1.0344827586206897,
          -0.896551724137931,
          -0.7586206896551724,
          -0.6206896551724137,
          -0.48275862068965525,
          -0.3448275862068966,
          -0.2068965517241379,
          -0.06896551724137945,
          0.06896551724137945,
          0.2068965517241379,
          0.34482758620689635,
          0.48275862068965525,
          0.6206896551724137,
          0.7586206896551726,
          0.896551724137931,
          1.0344827586206895,
          1.1724137931034484,
          1.3103448275862069,
          1.4482758620689653,
          1.5862068965517242,
          1.7241379310344827,
          1.862068965517241,
          2
         ],
         "y": [
          -2,
          -1.8620689655172413,
          -1.7241379310344827,
          -1.5862068965517242,
          -1.4482758620689655,
          -1.3103448275862069,
          -1.1724137931034484,
          -1.0344827586206897,
          -0.896551724137931,
          -0.7586206896551724,
          -0.6206896551724137,
          -0.48275862068965525,
          -0.3448275862068966,
          -0.2068965517241379,
          -0.06896551724137945,
          0.06896551724137945,
          0.2068965517241379,
          0.34482758620689635,
          0.48275862068965525,
          0.6206896551724137,
          0.7586206896551726,
          0.896551724137931,
          1.0344827586206895,
          1.1724137931034484,
          1.3103448275862069,
          1.4482758620689653,
          1.5862068965517242,
          1.7241379310344827,
          1.862068965517241,
          2
         ],
         "z": [
          [
           -0.5,
           -0.5370370370370371,
           -0.5800000000000001,
           -0.6304347826086957,
           -0.6904761904761905,
           -0.7631578947368421,
           -0.8529411764705881,
           -0.9666666666666666,
           -1.1153846153846154,
           -1.3181818181818183,
           -1.6111111111111114,
           -2.071428571428571,
           -2.9,
           -4.833333333333334,
           -14.499999999999972,
           14.499999999999972,
           4.833333333333334,
           2.9000000000000017,
           2.071428571428571,
           1.6111111111111114,
           1.318181818181818,
           1.1153846153846154,
           0.9666666666666668,
           0.8529411764705881,
           0.7631578947368421,
           0.6904761904761906,
           0.6304347826086957,
           0.5800000000000001,
           0.5370370370370371,
           0.5
          ],
          [
           -0.5,
           -0.5370370370370371,
           -0.5800000000000001,
           -0.6304347826086957,
           -0.6904761904761905,
           -0.7631578947368421,
           -0.8529411764705881,
           -0.9666666666666666,
           -1.1153846153846154,
           -1.3181818181818183,
           -1.6111111111111114,
           -2.071428571428571,
           -2.9,
           -4.833333333333334,
           -14.499999999999972,
           14.499999999999972,
           4.833333333333334,
           2.9000000000000017,
           2.071428571428571,
           1.6111111111111114,
           1.318181818181818,
           1.1153846153846154,
           0.9666666666666668,
           0.8529411764705881,
           0.7631578947368421,
           0.6904761904761906,
           0.6304347826086957,
           0.5800000000000001,
           0.5370370370370371,
           0.5
          ],
          [
           -0.5,
           -0.5370370370370371,
           -0.5800000000000001,
           -0.6304347826086957,
           -0.6904761904761905,
           -0.7631578947368421,
           -0.8529411764705881,
           -0.9666666666666666,
           -1.1153846153846154,
           -1.3181818181818183,
           -1.6111111111111114,
           -2.071428571428571,
           -2.9,
           -4.833333333333334,
           -14.499999999999972,
           14.499999999999972,
           4.833333333333334,
           2.9000000000000017,
           2.071428571428571,
           1.6111111111111114,
           1.318181818181818,
           1.1153846153846154,
           0.9666666666666668,
           0.8529411764705881,
           0.7631578947368421,
           0.6904761904761906,
           0.6304347826086957,
           0.5800000000000001,
           0.5370370370370371,
           0.5
          ],
          [
           -0.5,
           -0.5370370370370371,
           -0.5800000000000001,
           -0.6304347826086957,
           -0.6904761904761905,
           -0.7631578947368421,
           -0.8529411764705881,
           -0.9666666666666666,
           -1.1153846153846154,
           -1.3181818181818183,
           -1.6111111111111114,
           -2.071428571428571,
           -2.9,
           -4.833333333333334,
           -14.499999999999972,
           14.499999999999972,
           4.833333333333334,
           2.9000000000000017,
           2.071428571428571,
           1.6111111111111114,
           1.318181818181818,
           1.1153846153846154,
           0.9666666666666668,
           0.8529411764705881,
           0.7631578947368421,
           0.6904761904761906,
           0.6304347826086957,
           0.5800000000000001,
           0.5370370370370371,
           0.5
          ],
          [
           -0.5,
           -0.5370370370370371,
           -0.5800000000000001,
           -0.6304347826086957,
           -0.6904761904761905,
           -0.7631578947368421,
           -0.8529411764705881,
           -0.9666666666666666,
           -1.1153846153846154,
           -1.3181818181818183,
           -1.6111111111111114,
           -2.071428571428571,
           -2.9,
           -4.833333333333334,
           -14.499999999999972,
           14.499999999999972,
           4.833333333333334,
           2.9000000000000017,
           2.071428571428571,
           1.6111111111111114,
           1.318181818181818,
           1.1153846153846154,
           0.9666666666666668,
           0.8529411764705881,
           0.7631578947368421,
           0.6904761904761906,
           0.6304347826086957,
           0.5800000000000001,
           0.5370370370370371,
           0.5
          ],
          [
           -0.5,
           -0.5370370370370371,
           -0.5800000000000001,
           -0.6304347826086957,
           -0.6904761904761905,
           -0.7631578947368421,
           -0.8529411764705881,
           -0.9666666666666666,
           -1.1153846153846154,
           -1.3181818181818183,
           -1.6111111111111114,
           -2.071428571428571,
           -2.9,
           -4.833333333333334,
           -14.499999999999972,
           14.499999999999972,
           4.833333333333334,
           2.9000000000000017,
           2.071428571428571,
           1.6111111111111114,
           1.318181818181818,
           1.1153846153846154,
           0.9666666666666668,
           0.8529411764705881,
           0.7631578947368421,
           0.6904761904761906,
           0.6304347826086957,
           0.5800000000000001,
           0.5370370370370371,
           0.5
          ],
          [
           -0.5,
           -0.5370370370370371,
           -0.5800000000000001,
           -0.6304347826086957,
           -0.6904761904761905,
           -0.7631578947368421,
           -0.8529411764705881,
           -0.9666666666666666,
           -1.1153846153846154,
           -1.3181818181818183,
           -1.6111111111111114,
           -2.071428571428571,
           -2.9,
           -4.833333333333334,
           -14.499999999999972,
           14.499999999999972,
           4.833333333333334,
           2.9000000000000017,
           2.071428571428571,
           1.6111111111111114,
           1.318181818181818,
           1.1153846153846154,
           0.9666666666666668,
           0.8529411764705881,
           0.7631578947368421,
           0.6904761904761906,
           0.6304347826086957,
           0.5800000000000001,
           0.5370370370370371,
           0.5
          ],
          [
           -0.5,
           -0.5370370370370371,
           -0.5800000000000001,
           -0.6304347826086957,
           -0.6904761904761905,
           -0.7631578947368421,
           -0.8529411764705881,
           -0.9666666666666666,
           -1.1153846153846154,
           -1.3181818181818183,
           -1.6111111111111114,
           -2.071428571428571,
           -2.9,
           -4.833333333333334,
           -14.499999999999972,
           14.499999999999972,
           4.833333333333334,
           2.9000000000000017,
           2.071428571428571,
           1.6111111111111114,
           1.318181818181818,
           1.1153846153846154,
           0.9666666666666668,
           0.8529411764705881,
           0.7631578947368421,
           0.6904761904761906,
           0.6304347826086957,
           0.5800000000000001,
           0.5370370370370371,
           0.5
          ],
          [
           -0.5,
           -0.5370370370370371,
           -0.5800000000000001,
           -0.6304347826086957,
           -0.6904761904761905,
           -0.7631578947368421,
           -0.8529411764705881,
           -0.9666666666666666,
           -1.1153846153846154,
           -1.3181818181818183,
           -1.6111111111111114,
           -2.071428571428571,
           -2.9,
           -4.833333333333334,
           -14.499999999999972,
           14.499999999999972,
           4.833333333333334,
           2.9000000000000017,
           2.071428571428571,
           1.6111111111111114,
           1.318181818181818,
           1.1153846153846154,
           0.9666666666666668,
           0.8529411764705881,
           0.7631578947368421,
           0.6904761904761906,
           0.6304347826086957,
           0.5800000000000001,
           0.5370370370370371,
           0.5
          ],
          [
           -0.5,
           -0.5370370370370371,
           -0.5800000000000001,
           -0.6304347826086957,
           -0.6904761904761905,
           -0.7631578947368421,
           -0.8529411764705881,
           -0.9666666666666666,
           -1.1153846153846154,
           -1.3181818181818183,
           -1.6111111111111114,
           -2.071428571428571,
           -2.9,
           -4.833333333333334,
           -14.499999999999972,
           14.499999999999972,
           4.833333333333334,
           2.9000000000000017,
           2.071428571428571,
           1.6111111111111114,
           1.318181818181818,
           1.1153846153846154,
           0.9666666666666668,
           0.8529411764705881,
           0.7631578947368421,
           0.6904761904761906,
           0.6304347826086957,
           0.5800000000000001,
           0.5370370370370371,
           0.5
          ],
          [
           -0.5,
           -0.5370370370370371,
           -0.5800000000000001,
           -0.6304347826086957,
           -0.6904761904761905,
           -0.7631578947368421,
           -0.8529411764705881,
           -0.9666666666666666,
           -1.1153846153846154,
           -1.3181818181818183,
           -1.6111111111111114,
           -2.071428571428571,
           -2.9,
           -4.833333333333334,
           -14.499999999999972,
           14.499999999999972,
           4.833333333333334,
           2.9000000000000017,
           2.071428571428571,
           1.6111111111111114,
           1.318181818181818,
           1.1153846153846154,
           0.9666666666666668,
           0.8529411764705881,
           0.7631578947368421,
           0.6904761904761906,
           0.6304347826086957,
           0.5800000000000001,
           0.5370370370370371,
           0.5
          ],
          [
           -0.5,
           -0.5370370370370371,
           -0.5800000000000001,
           -0.6304347826086957,
           -0.6904761904761905,
           -0.7631578947368421,
           -0.8529411764705881,
           -0.9666666666666666,
           -1.1153846153846154,
           -1.3181818181818183,
           -1.6111111111111114,
           -2.071428571428571,
           -2.9,
           -4.833333333333334,
           -14.499999999999972,
           14.499999999999972,
           4.833333333333334,
           2.9000000000000017,
           2.071428571428571,
           1.6111111111111114,
           1.318181818181818,
           1.1153846153846154,
           0.9666666666666668,
           0.8529411764705881,
           0.7631578947368421,
           0.6904761904761906,
           0.6304347826086957,
           0.5800000000000001,
           0.5370370370370371,
           0.5
          ],
          [
           -0.5,
           -0.5370370370370371,
           -0.5800000000000001,
           -0.6304347826086957,
           -0.6904761904761905,
           -0.7631578947368421,
           -0.8529411764705881,
           -0.9666666666666666,
           -1.1153846153846154,
           -1.3181818181818183,
           -1.6111111111111114,
           -2.071428571428571,
           -2.9,
           -4.833333333333334,
           -14.499999999999972,
           14.499999999999972,
           4.833333333333334,
           2.9000000000000017,
           2.071428571428571,
           1.6111111111111114,
           1.318181818181818,
           1.1153846153846154,
           0.9666666666666668,
           0.8529411764705881,
           0.7631578947368421,
           0.6904761904761906,
           0.6304347826086957,
           0.5800000000000001,
           0.5370370370370371,
           0.5
          ],
          [
           -0.5,
           -0.5370370370370371,
           -0.5800000000000001,
           -0.6304347826086957,
           -0.6904761904761905,
           -0.7631578947368421,
           -0.8529411764705881,
           -0.9666666666666666,
           -1.1153846153846154,
           -1.3181818181818183,
           -1.6111111111111114,
           -2.071428571428571,
           -2.9,
           -4.833333333333334,
           -14.499999999999972,
           14.499999999999972,
           4.833333333333334,
           2.9000000000000017,
           2.071428571428571,
           1.6111111111111114,
           1.318181818181818,
           1.1153846153846154,
           0.9666666666666668,
           0.8529411764705881,
           0.7631578947368421,
           0.6904761904761906,
           0.6304347826086957,
           0.5800000000000001,
           0.5370370370370371,
           0.5
          ],
          [
           -0.5,
           -0.5370370370370371,
           -0.5800000000000001,
           -0.6304347826086957,
           -0.6904761904761905,
           -0.7631578947368421,
           -0.8529411764705881,
           -0.9666666666666666,
           -1.1153846153846154,
           -1.3181818181818183,
           -1.6111111111111114,
           -2.071428571428571,
           -2.9,
           -4.833333333333334,
           -14.499999999999972,
           14.499999999999972,
           4.833333333333334,
           2.9000000000000017,
           2.071428571428571,
           1.6111111111111114,
           1.318181818181818,
           1.1153846153846154,
           0.9666666666666668,
           0.8529411764705881,
           0.7631578947368421,
           0.6904761904761906,
           0.6304347826086957,
           0.5800000000000001,
           0.5370370370370371,
           0.5
          ],
          [
           -0.5,
           -0.5370370370370371,
           -0.5800000000000001,
           -0.6304347826086957,
           -0.6904761904761905,
           -0.7631578947368421,
           -0.8529411764705881,
           -0.9666666666666666,
           -1.1153846153846154,
           -1.3181818181818183,
           -1.6111111111111114,
           -2.071428571428571,
           -2.9,
           -4.833333333333334,
           -14.499999999999972,
           14.499999999999972,
           4.833333333333334,
           2.9000000000000017,
           2.071428571428571,
           1.6111111111111114,
           1.318181818181818,
           1.1153846153846154,
           0.9666666666666668,
           0.8529411764705881,
           0.7631578947368421,
           0.6904761904761906,
           0.6304347826086957,
           0.5800000000000001,
           0.5370370370370371,
           0.5
          ],
          [
           -0.5,
           -0.5370370370370371,
           -0.5800000000000001,
           -0.6304347826086957,
           -0.6904761904761905,
           -0.7631578947368421,
           -0.8529411764705881,
           -0.9666666666666666,
           -1.1153846153846154,
           -1.3181818181818183,
           -1.6111111111111114,
           -2.071428571428571,
           -2.9,
           -4.833333333333334,
           -14.499999999999972,
           14.499999999999972,
           4.833333333333334,
           2.9000000000000017,
           2.071428571428571,
           1.6111111111111114,
           1.318181818181818,
           1.1153846153846154,
           0.9666666666666668,
           0.8529411764705881,
           0.7631578947368421,
           0.6904761904761906,
           0.6304347826086957,
           0.5800000000000001,
           0.5370370370370371,
           0.5
          ],
          [
           -0.5,
           -0.5370370370370371,
           -0.5800000000000001,
           -0.6304347826086957,
           -0.6904761904761905,
           -0.7631578947368421,
           -0.8529411764705881,
           -0.9666666666666666,
           -1.1153846153846154,
           -1.3181818181818183,
           -1.6111111111111114,
           -2.071428571428571,
           -2.9,
           -4.833333333333334,
           -14.499999999999972,
           14.499999999999972,
           4.833333333333334,
           2.9000000000000017,
           2.071428571428571,
           1.6111111111111114,
           1.318181818181818,
           1.1153846153846154,
           0.9666666666666668,
           0.8529411764705881,
           0.7631578947368421,
           0.6904761904761906,
           0.6304347826086957,
           0.5800000000000001,
           0.5370370370370371,
           0.5
          ],
          [
           -0.5,
           -0.5370370370370371,
           -0.5800000000000001,
           -0.6304347826086957,
           -0.6904761904761905,
           -0.7631578947368421,
           -0.8529411764705881,
           -0.9666666666666666,
           -1.1153846153846154,
           -1.3181818181818183,
           -1.6111111111111114,
           -2.071428571428571,
           -2.9,
           -4.833333333333334,
           -14.499999999999972,
           14.499999999999972,
           4.833333333333334,
           2.9000000000000017,
           2.071428571428571,
           1.6111111111111114,
           1.318181818181818,
           1.1153846153846154,
           0.9666666666666668,
           0.8529411764705881,
           0.7631578947368421,
           0.6904761904761906,
           0.6304347826086957,
           0.5800000000000001,
           0.5370370370370371,
           0.5
          ],
          [
           -0.5,
           -0.5370370370370371,
           -0.5800000000000001,
           -0.6304347826086957,
           -0.6904761904761905,
           -0.7631578947368421,
           -0.8529411764705881,
           -0.9666666666666666,
           -1.1153846153846154,
           -1.3181818181818183,
           -1.6111111111111114,
           -2.071428571428571,
           -2.9,
           -4.833333333333334,
           -14.499999999999972,
           14.499999999999972,
           4.833333333333334,
           2.9000000000000017,
           2.071428571428571,
           1.6111111111111114,
           1.318181818181818,
           1.1153846153846154,
           0.9666666666666668,
           0.8529411764705881,
           0.7631578947368421,
           0.6904761904761906,
           0.6304347826086957,
           0.5800000000000001,
           0.5370370370370371,
           0.5
          ],
          [
           -0.5,
           -0.5370370370370371,
           -0.5800000000000001,
           -0.6304347826086957,
           -0.6904761904761905,
           -0.7631578947368421,
           -0.8529411764705881,
           -0.9666666666666666,
           -1.1153846153846154,
           -1.3181818181818183,
           -1.6111111111111114,
           -2.071428571428571,
           -2.9,
           -4.833333333333334,
           -14.499999999999972,
           14.499999999999972,
           4.833333333333334,
           2.9000000000000017,
           2.071428571428571,
           1.6111111111111114,
           1.318181818181818,
           1.1153846153846154,
           0.9666666666666668,
           0.8529411764705881,
           0.7631578947368421,
           0.6904761904761906,
           0.6304347826086957,
           0.5800000000000001,
           0.5370370370370371,
           0.5
          ],
          [
           -0.5,
           -0.5370370370370371,
           -0.5800000000000001,
           -0.6304347826086957,
           -0.6904761904761905,
           -0.7631578947368421,
           -0.8529411764705881,
           -0.9666666666666666,
           -1.1153846153846154,
           -1.3181818181818183,
           -1.6111111111111114,
           -2.071428571428571,
           -2.9,
           -4.833333333333334,
           -14.499999999999972,
           14.499999999999972,
           4.833333333333334,
           2.9000000000000017,
           2.071428571428571,
           1.6111111111111114,
           1.318181818181818,
           1.1153846153846154,
           0.9666666666666668,
           0.8529411764705881,
           0.7631578947368421,
           0.6904761904761906,
           0.6304347826086957,
           0.5800000000000001,
           0.5370370370370371,
           0.5
          ],
          [
           -0.5,
           -0.5370370370370371,
           -0.5800000000000001,
           -0.6304347826086957,
           -0.6904761904761905,
           -0.7631578947368421,
           -0.8529411764705881,
           -0.9666666666666666,
           -1.1153846153846154,
           -1.3181818181818183,
           -1.6111111111111114,
           -2.071428571428571,
           -2.9,
           -4.833333333333334,
           -14.499999999999972,
           14.499999999999972,
           4.833333333333334,
           2.9000000000000017,
           2.071428571428571,
           1.6111111111111114,
           1.318181818181818,
           1.1153846153846154,
           0.9666666666666668,
           0.8529411764705881,
           0.7631578947368421,
           0.6904761904761906,
           0.6304347826086957,
           0.5800000000000001,
           0.5370370370370371,
           0.5
          ],
          [
           -0.5,
           -0.5370370370370371,
           -0.5800000000000001,
           -0.6304347826086957,
           -0.6904761904761905,
           -0.7631578947368421,
           -0.8529411764705881,
           -0.9666666666666666,
           -1.1153846153846154,
           -1.3181818181818183,
           -1.6111111111111114,
           -2.071428571428571,
           -2.9,
           -4.833333333333334,
           -14.499999999999972,
           14.499999999999972,
           4.833333333333334,
           2.9000000000000017,
           2.071428571428571,
           1.6111111111111114,
           1.318181818181818,
           1.1153846153846154,
           0.9666666666666668,
           0.8529411764705881,
           0.7631578947368421,
           0.6904761904761906,
           0.6304347826086957,
           0.5800000000000001,
           0.5370370370370371,
           0.5
          ],
          [
           -0.5,
           -0.5370370370370371,
           -0.5800000000000001,
           -0.6304347826086957,
           -0.6904761904761905,
           -0.7631578947368421,
           -0.8529411764705881,
           -0.9666666666666666,
           -1.1153846153846154,
           -1.3181818181818183,
           -1.6111111111111114,
           -2.071428571428571,
           -2.9,
           -4.833333333333334,
           -14.499999999999972,
           14.499999999999972,
           4.833333333333334,
           2.9000000000000017,
           2.071428571428571,
           1.6111111111111114,
           1.318181818181818,
           1.1153846153846154,
           0.9666666666666668,
           0.8529411764705881,
           0.7631578947368421,
           0.6904761904761906,
           0.6304347826086957,
           0.5800000000000001,
           0.5370370370370371,
           0.5
          ],
          [
           -0.5,
           -0.5370370370370371,
           -0.5800000000000001,
           -0.6304347826086957,
           -0.6904761904761905,
           -0.7631578947368421,
           -0.8529411764705881,
           -0.9666666666666666,
           -1.1153846153846154,
           -1.3181818181818183,
           -1.6111111111111114,
           -2.071428571428571,
           -2.9,
           -4.833333333333334,
           -14.499999999999972,
           14.499999999999972,
           4.833333333333334,
           2.9000000000000017,
           2.071428571428571,
           1.6111111111111114,
           1.318181818181818,
           1.1153846153846154,
           0.9666666666666668,
           0.8529411764705881,
           0.7631578947368421,
           0.6904761904761906,
           0.6304347826086957,
           0.5800000000000001,
           0.5370370370370371,
           0.5
          ],
          [
           -0.5,
           -0.5370370370370371,
           -0.5800000000000001,
           -0.6304347826086957,
           -0.6904761904761905,
           -0.7631578947368421,
           -0.8529411764705881,
           -0.9666666666666666,
           -1.1153846153846154,
           -1.3181818181818183,
           -1.6111111111111114,
           -2.071428571428571,
           -2.9,
           -4.833333333333334,
           -14.499999999999972,
           14.499999999999972,
           4.833333333333334,
           2.9000000000000017,
           2.071428571428571,
           1.6111111111111114,
           1.318181818181818,
           1.1153846153846154,
           0.9666666666666668,
           0.8529411764705881,
           0.7631578947368421,
           0.6904761904761906,
           0.6304347826086957,
           0.5800000000000001,
           0.5370370370370371,
           0.5
          ],
          [
           -0.5,
           -0.5370370370370371,
           -0.5800000000000001,
           -0.6304347826086957,
           -0.6904761904761905,
           -0.7631578947368421,
           -0.8529411764705881,
           -0.9666666666666666,
           -1.1153846153846154,
           -1.3181818181818183,
           -1.6111111111111114,
           -2.071428571428571,
           -2.9,
           -4.833333333333334,
           -14.499999999999972,
           14.499999999999972,
           4.833333333333334,
           2.9000000000000017,
           2.071428571428571,
           1.6111111111111114,
           1.318181818181818,
           1.1153846153846154,
           0.9666666666666668,
           0.8529411764705881,
           0.7631578947368421,
           0.6904761904761906,
           0.6304347826086957,
           0.5800000000000001,
           0.5370370370370371,
           0.5
          ],
          [
           -0.5,
           -0.5370370370370371,
           -0.5800000000000001,
           -0.6304347826086957,
           -0.6904761904761905,
           -0.7631578947368421,
           -0.8529411764705881,
           -0.9666666666666666,
           -1.1153846153846154,
           -1.3181818181818183,
           -1.6111111111111114,
           -2.071428571428571,
           -2.9,
           -4.833333333333334,
           -14.499999999999972,
           14.499999999999972,
           4.833333333333334,
           2.9000000000000017,
           2.071428571428571,
           1.6111111111111114,
           1.318181818181818,
           1.1153846153846154,
           0.9666666666666668,
           0.8529411764705881,
           0.7631578947368421,
           0.6904761904761906,
           0.6304347826086957,
           0.5800000000000001,
           0.5370370370370371,
           0.5
          ],
          [
           -0.5,
           -0.5370370370370371,
           -0.5800000000000001,
           -0.6304347826086957,
           -0.6904761904761905,
           -0.7631578947368421,
           -0.8529411764705881,
           -0.9666666666666666,
           -1.1153846153846154,
           -1.3181818181818183,
           -1.6111111111111114,
           -2.071428571428571,
           -2.9,
           -4.833333333333334,
           -14.499999999999972,
           14.499999999999972,
           4.833333333333334,
           2.9000000000000017,
           2.071428571428571,
           1.6111111111111114,
           1.318181818181818,
           1.1153846153846154,
           0.9666666666666668,
           0.8529411764705881,
           0.7631578947368421,
           0.6904761904761906,
           0.6304347826086957,
           0.5800000000000001,
           0.5370370370370371,
           0.5
          ]
         ]
        }
       ],
       "layout": {
        "autosize": false,
        "height": 500,
        "margin": {
         "b": 65,
         "l": 65,
         "r": 50,
         "t": 90
        },
        "template": {
         "data": {
          "bar": [
           {
            "error_x": {
             "color": "#2a3f5f"
            },
            "error_y": {
             "color": "#2a3f5f"
            },
            "marker": {
             "line": {
              "color": "#E5ECF6",
              "width": 0.5
             },
             "pattern": {
              "fillmode": "overlay",
              "size": 10,
              "solidity": 0.2
             }
            },
            "type": "bar"
           }
          ],
          "barpolar": [
           {
            "marker": {
             "line": {
              "color": "#E5ECF6",
              "width": 0.5
             },
             "pattern": {
              "fillmode": "overlay",
              "size": 10,
              "solidity": 0.2
             }
            },
            "type": "barpolar"
           }
          ],
          "carpet": [
           {
            "aaxis": {
             "endlinecolor": "#2a3f5f",
             "gridcolor": "white",
             "linecolor": "white",
             "minorgridcolor": "white",
             "startlinecolor": "#2a3f5f"
            },
            "baxis": {
             "endlinecolor": "#2a3f5f",
             "gridcolor": "white",
             "linecolor": "white",
             "minorgridcolor": "white",
             "startlinecolor": "#2a3f5f"
            },
            "type": "carpet"
           }
          ],
          "choropleth": [
           {
            "colorbar": {
             "outlinewidth": 0,
             "ticks": ""
            },
            "type": "choropleth"
           }
          ],
          "contour": [
           {
            "colorbar": {
             "outlinewidth": 0,
             "ticks": ""
            },
            "colorscale": [
             [
              0,
              "#0d0887"
             ],
             [
              0.1111111111111111,
              "#46039f"
             ],
             [
              0.2222222222222222,
              "#7201a8"
             ],
             [
              0.3333333333333333,
              "#9c179e"
             ],
             [
              0.4444444444444444,
              "#bd3786"
             ],
             [
              0.5555555555555556,
              "#d8576b"
             ],
             [
              0.6666666666666666,
              "#ed7953"
             ],
             [
              0.7777777777777778,
              "#fb9f3a"
             ],
             [
              0.8888888888888888,
              "#fdca26"
             ],
             [
              1,
              "#f0f921"
             ]
            ],
            "type": "contour"
           }
          ],
          "contourcarpet": [
           {
            "colorbar": {
             "outlinewidth": 0,
             "ticks": ""
            },
            "type": "contourcarpet"
           }
          ],
          "heatmap": [
           {
            "colorbar": {
             "outlinewidth": 0,
             "ticks": ""
            },
            "colorscale": [
             [
              0,
              "#0d0887"
             ],
             [
              0.1111111111111111,
              "#46039f"
             ],
             [
              0.2222222222222222,
              "#7201a8"
             ],
             [
              0.3333333333333333,
              "#9c179e"
             ],
             [
              0.4444444444444444,
              "#bd3786"
             ],
             [
              0.5555555555555556,
              "#d8576b"
             ],
             [
              0.6666666666666666,
              "#ed7953"
             ],
             [
              0.7777777777777778,
              "#fb9f3a"
             ],
             [
              0.8888888888888888,
              "#fdca26"
             ],
             [
              1,
              "#f0f921"
             ]
            ],
            "type": "heatmap"
           }
          ],
          "heatmapgl": [
           {
            "colorbar": {
             "outlinewidth": 0,
             "ticks": ""
            },
            "colorscale": [
             [
              0,
              "#0d0887"
             ],
             [
              0.1111111111111111,
              "#46039f"
             ],
             [
              0.2222222222222222,
              "#7201a8"
             ],
             [
              0.3333333333333333,
              "#9c179e"
             ],
             [
              0.4444444444444444,
              "#bd3786"
             ],
             [
              0.5555555555555556,
              "#d8576b"
             ],
             [
              0.6666666666666666,
              "#ed7953"
             ],
             [
              0.7777777777777778,
              "#fb9f3a"
             ],
             [
              0.8888888888888888,
              "#fdca26"
             ],
             [
              1,
              "#f0f921"
             ]
            ],
            "type": "heatmapgl"
           }
          ],
          "histogram": [
           {
            "marker": {
             "pattern": {
              "fillmode": "overlay",
              "size": 10,
              "solidity": 0.2
             }
            },
            "type": "histogram"
           }
          ],
          "histogram2d": [
           {
            "colorbar": {
             "outlinewidth": 0,
             "ticks": ""
            },
            "colorscale": [
             [
              0,
              "#0d0887"
             ],
             [
              0.1111111111111111,
              "#46039f"
             ],
             [
              0.2222222222222222,
              "#7201a8"
             ],
             [
              0.3333333333333333,
              "#9c179e"
             ],
             [
              0.4444444444444444,
              "#bd3786"
             ],
             [
              0.5555555555555556,
              "#d8576b"
             ],
             [
              0.6666666666666666,
              "#ed7953"
             ],
             [
              0.7777777777777778,
              "#fb9f3a"
             ],
             [
              0.8888888888888888,
              "#fdca26"
             ],
             [
              1,
              "#f0f921"
             ]
            ],
            "type": "histogram2d"
           }
          ],
          "histogram2dcontour": [
           {
            "colorbar": {
             "outlinewidth": 0,
             "ticks": ""
            },
            "colorscale": [
             [
              0,
              "#0d0887"
             ],
             [
              0.1111111111111111,
              "#46039f"
             ],
             [
              0.2222222222222222,
              "#7201a8"
             ],
             [
              0.3333333333333333,
              "#9c179e"
             ],
             [
              0.4444444444444444,
              "#bd3786"
             ],
             [
              0.5555555555555556,
              "#d8576b"
             ],
             [
              0.6666666666666666,
              "#ed7953"
             ],
             [
              0.7777777777777778,
              "#fb9f3a"
             ],
             [
              0.8888888888888888,
              "#fdca26"
             ],
             [
              1,
              "#f0f921"
             ]
            ],
            "type": "histogram2dcontour"
           }
          ],
          "mesh3d": [
           {
            "colorbar": {
             "outlinewidth": 0,
             "ticks": ""
            },
            "type": "mesh3d"
           }
          ],
          "parcoords": [
           {
            "line": {
             "colorbar": {
              "outlinewidth": 0,
              "ticks": ""
             }
            },
            "type": "parcoords"
           }
          ],
          "pie": [
           {
            "automargin": true,
            "type": "pie"
           }
          ],
          "scatter": [
           {
            "fillpattern": {
             "fillmode": "overlay",
             "size": 10,
             "solidity": 0.2
            },
            "type": "scatter"
           }
          ],
          "scatter3d": [
           {
            "line": {
             "colorbar": {
              "outlinewidth": 0,
              "ticks": ""
             }
            },
            "marker": {
             "colorbar": {
              "outlinewidth": 0,
              "ticks": ""
             }
            },
            "type": "scatter3d"
           }
          ],
          "scattercarpet": [
           {
            "marker": {
             "colorbar": {
              "outlinewidth": 0,
              "ticks": ""
             }
            },
            "type": "scattercarpet"
           }
          ],
          "scattergeo": [
           {
            "marker": {
             "colorbar": {
              "outlinewidth": 0,
              "ticks": ""
             }
            },
            "type": "scattergeo"
           }
          ],
          "scattergl": [
           {
            "marker": {
             "colorbar": {
              "outlinewidth": 0,
              "ticks": ""
             }
            },
            "type": "scattergl"
           }
          ],
          "scattermapbox": [
           {
            "marker": {
             "colorbar": {
              "outlinewidth": 0,
              "ticks": ""
             }
            },
            "type": "scattermapbox"
           }
          ],
          "scatterpolar": [
           {
            "marker": {
             "colorbar": {
              "outlinewidth": 0,
              "ticks": ""
             }
            },
            "type": "scatterpolar"
           }
          ],
          "scatterpolargl": [
           {
            "marker": {
             "colorbar": {
              "outlinewidth": 0,
              "ticks": ""
             }
            },
            "type": "scatterpolargl"
           }
          ],
          "scatterternary": [
           {
            "marker": {
             "colorbar": {
              "outlinewidth": 0,
              "ticks": ""
             }
            },
            "type": "scatterternary"
           }
          ],
          "surface": [
           {
            "colorbar": {
             "outlinewidth": 0,
             "ticks": ""
            },
            "colorscale": [
             [
              0,
              "#0d0887"
             ],
             [
              0.1111111111111111,
              "#46039f"
             ],
             [
              0.2222222222222222,
              "#7201a8"
             ],
             [
              0.3333333333333333,
              "#9c179e"
             ],
             [
              0.4444444444444444,
              "#bd3786"
             ],
             [
              0.5555555555555556,
              "#d8576b"
             ],
             [
              0.6666666666666666,
              "#ed7953"
             ],
             [
              0.7777777777777778,
              "#fb9f3a"
             ],
             [
              0.8888888888888888,
              "#fdca26"
             ],
             [
              1,
              "#f0f921"
             ]
            ],
            "type": "surface"
           }
          ],
          "table": [
           {
            "cells": {
             "fill": {
              "color": "#EBF0F8"
             },
             "line": {
              "color": "white"
             }
            },
            "header": {
             "fill": {
              "color": "#C8D4E3"
             },
             "line": {
              "color": "white"
             }
            },
            "type": "table"
           }
          ]
         },
         "layout": {
          "annotationdefaults": {
           "arrowcolor": "#2a3f5f",
           "arrowhead": 0,
           "arrowwidth": 1
          },
          "autotypenumbers": "strict",
          "coloraxis": {
           "colorbar": {
            "outlinewidth": 0,
            "ticks": ""
           }
          },
          "colorscale": {
           "diverging": [
            [
             0,
             "#8e0152"
            ],
            [
             0.1,
             "#c51b7d"
            ],
            [
             0.2,
             "#de77ae"
            ],
            [
             0.3,
             "#f1b6da"
            ],
            [
             0.4,
             "#fde0ef"
            ],
            [
             0.5,
             "#f7f7f7"
            ],
            [
             0.6,
             "#e6f5d0"
            ],
            [
             0.7,
             "#b8e186"
            ],
            [
             0.8,
             "#7fbc41"
            ],
            [
             0.9,
             "#4d9221"
            ],
            [
             1,
             "#276419"
            ]
           ],
           "sequential": [
            [
             0,
             "#0d0887"
            ],
            [
             0.1111111111111111,
             "#46039f"
            ],
            [
             0.2222222222222222,
             "#7201a8"
            ],
            [
             0.3333333333333333,
             "#9c179e"
            ],
            [
             0.4444444444444444,
             "#bd3786"
            ],
            [
             0.5555555555555556,
             "#d8576b"
            ],
            [
             0.6666666666666666,
             "#ed7953"
            ],
            [
             0.7777777777777778,
             "#fb9f3a"
            ],
            [
             0.8888888888888888,
             "#fdca26"
            ],
            [
             1,
             "#f0f921"
            ]
           ],
           "sequentialminus": [
            [
             0,
             "#0d0887"
            ],
            [
             0.1111111111111111,
             "#46039f"
            ],
            [
             0.2222222222222222,
             "#7201a8"
            ],
            [
             0.3333333333333333,
             "#9c179e"
            ],
            [
             0.4444444444444444,
             "#bd3786"
            ],
            [
             0.5555555555555556,
             "#d8576b"
            ],
            [
             0.6666666666666666,
             "#ed7953"
            ],
            [
             0.7777777777777778,
             "#fb9f3a"
            ],
            [
             0.8888888888888888,
             "#fdca26"
            ],
            [
             1,
             "#f0f921"
            ]
           ]
          },
          "colorway": [
           "#636efa",
           "#EF553B",
           "#00cc96",
           "#ab63fa",
           "#FFA15A",
           "#19d3f3",
           "#FF6692",
           "#B6E880",
           "#FF97FF",
           "#FECB52"
          ],
          "font": {
           "color": "#2a3f5f"
          },
          "geo": {
           "bgcolor": "white",
           "lakecolor": "white",
           "landcolor": "#E5ECF6",
           "showlakes": true,
           "showland": true,
           "subunitcolor": "white"
          },
          "hoverlabel": {
           "align": "left"
          },
          "hovermode": "closest",
          "mapbox": {
           "style": "light"
          },
          "paper_bgcolor": "white",
          "plot_bgcolor": "#E5ECF6",
          "polar": {
           "angularaxis": {
            "gridcolor": "white",
            "linecolor": "white",
            "ticks": ""
           },
           "bgcolor": "#E5ECF6",
           "radialaxis": {
            "gridcolor": "white",
            "linecolor": "white",
            "ticks": ""
           }
          },
          "scene": {
           "xaxis": {
            "backgroundcolor": "#E5ECF6",
            "gridcolor": "white",
            "gridwidth": 2,
            "linecolor": "white",
            "showbackground": true,
            "ticks": "",
            "zerolinecolor": "white"
           },
           "yaxis": {
            "backgroundcolor": "#E5ECF6",
            "gridcolor": "white",
            "gridwidth": 2,
            "linecolor": "white",
            "showbackground": true,
            "ticks": "",
            "zerolinecolor": "white"
           },
           "zaxis": {
            "backgroundcolor": "#E5ECF6",
            "gridcolor": "white",
            "gridwidth": 2,
            "linecolor": "white",
            "showbackground": true,
            "ticks": "",
            "zerolinecolor": "white"
           }
          },
          "shapedefaults": {
           "line": {
            "color": "#2a3f5f"
           }
          },
          "ternary": {
           "aaxis": {
            "gridcolor": "white",
            "linecolor": "white",
            "ticks": ""
           },
           "baxis": {
            "gridcolor": "white",
            "linecolor": "white",
            "ticks": ""
           },
           "bgcolor": "#E5ECF6",
           "caxis": {
            "gridcolor": "white",
            "linecolor": "white",
            "ticks": ""
           }
          },
          "title": {
           "x": 0.05
          },
          "xaxis": {
           "automargin": true,
           "gridcolor": "white",
           "linecolor": "white",
           "ticks": "",
           "title": {
            "standoff": 15
           },
           "zerolinecolor": "white",
           "zerolinewidth": 2
          },
          "yaxis": {
           "automargin": true,
           "gridcolor": "white",
           "linecolor": "white",
           "ticks": "",
           "title": {
            "standoff": 15
           },
           "zerolinecolor": "white",
           "zerolinewidth": 2
          }
         }
        },
        "title": {
         "text": ""
        },
        "width": 500
       }
      }
     },
     "metadata": {},
     "output_type": "display_data"
    },
    {
     "data": {
      "application/vnd.plotly.v1+json": {
       "config": {
        "plotlyServerURL": "https://plot.ly"
       },
       "data": [
        {
         "type": "surface",
         "x": [
          -2,
          -1.8620689655172413,
          -1.7241379310344827,
          -1.5862068965517242,
          -1.4482758620689655,
          -1.3103448275862069,
          -1.1724137931034484,
          -1.0344827586206897,
          -0.896551724137931,
          -0.7586206896551724,
          -0.6206896551724137,
          -0.48275862068965525,
          -0.3448275862068966,
          -0.2068965517241379,
          -0.06896551724137945,
          0.06896551724137945,
          0.2068965517241379,
          0.34482758620689635,
          0.48275862068965525,
          0.6206896551724137,
          0.7586206896551726,
          0.896551724137931,
          1.0344827586206895,
          1.1724137931034484,
          1.3103448275862069,
          1.4482758620689653,
          1.5862068965517242,
          1.7241379310344827,
          1.862068965517241,
          2
         ],
         "y": [
          -2,
          -1.8620689655172413,
          -1.7241379310344827,
          -1.5862068965517242,
          -1.4482758620689655,
          -1.3103448275862069,
          -1.1724137931034484,
          -1.0344827586206897,
          -0.896551724137931,
          -0.7586206896551724,
          -0.6206896551724137,
          -0.48275862068965525,
          -0.3448275862068966,
          -0.2068965517241379,
          -0.06896551724137945,
          0.06896551724137945,
          0.2068965517241379,
          0.34482758620689635,
          0.48275862068965525,
          0.6206896551724137,
          0.7586206896551726,
          0.896551724137931,
          1.0344827586206895,
          1.1724137931034484,
          1.3103448275862069,
          1.4482758620689653,
          1.5862068965517242,
          1.7241379310344827,
          1.862068965517241,
          2
         ],
         "z": [
          [
           0.375,
           0.34170630202140306,
           0.31079072532699165,
           0.2822532699167658,
           0.25609393579072537,
           0.2323127229488704,
           0.21090963139120097,
           0.19188466111771701,
           0.17523781212841855,
           0.1609690844233056,
           0.1490784780023781,
           0.13956599286563615,
           0.13243162901307967,
           0.1276753864447087,
           0.1252972651605232,
           0.1252972651605232,
           0.1276753864447087,
           0.13243162901307967,
           0.13956599286563615,
           0.1490784780023781,
           0.1609690844233056,
           0.17523781212841855,
           0.191884661117717,
           0.21090963139120097,
           0.2323127229488704,
           0.25609393579072526,
           0.2822532699167658,
           0.31079072532699165,
           0.34170630202140306,
           0.375
          ],
          [
           0.45397678199461466,
           0.4127229080932785,
           0.37441573947060913,
           0.3390552761266068,
           0.3066415180612712,
           0.27717446527460243,
           0.2506541177666007,
           0.22708047553726565,
           0.2064535385865976,
           0.18877330691459634,
           0.174039780521262,
           0.16225295940659454,
           0.15341284357059393,
           0.14751943301326018,
           0.14457272773459331,
           0.14457272773459331,
           0.14751943301326018,
           0.1534128435705939,
           0.16225295940659454,
           0.174039780521262,
           0.18877330691459637,
           0.2064535385865976,
           0.22708047553726565,
           0.2506541177666007,
           0.27717446527460243,
           0.3066415180612711,
           0.3390552761266068,
           0.37441573947060913,
           0.41272290809327844,
           0.45397678199461466
          ],
          [
           0.558424,
           0.5064560000000001,
           0.45820000000000005,
           0.4136560000000001,
           0.3728240000000001,
           0.335704,
           0.30229600000000006,
           0.27260000000000006,
           0.24661600000000003,
           0.224344,
           0.20578400000000002,
           0.19093600000000002,
           0.17980000000000002,
           0.172376,
           0.168664,
           0.168664,
           0.172376,
           0.17980000000000002,
           0.19093600000000002,
           0.20578400000000002,
           0.22434400000000004,
           0.24661600000000003,
           0.2726,
           0.30229600000000006,
           0.335704,
           0.372824,
           0.4136560000000001,
           0.45820000000000005,
           0.506456,
           0.558424
          ],
          [
           0.699854113585929,
           0.6331162159940822,
           0.5711453110873673,
           0.5139413988657845,
           0.46150447932933336,
           0.4138345524780142,
           0.370931618311827,
           0.3327956768307717,
           0.2994267280348483,
           0.27082477192405685,
           0.24698980849839725,
           0.22792183775786962,
           0.21362085970247388,
           0.20408687433221004,
           0.19931988164707812,
           0.19931988164707812,
           0.20408687433221004,
           0.21362085970247385,
           0.22792183775786962,
           0.24698980849839725,
           0.27082477192405685,
           0.2994267280348483,
           0.33279567683077166,
           0.370931618311827,
           0.4138345524780142,
           0.46150447932933325,
           0.5139413988657845,
           0.5711453110873673,
           0.6331162159940822,
           0.699854113585929
          ],
          [
           0.8967579095130115,
           0.8090783932620668,
           0.727661699600475,
           0.6525078285282367,
           0.5836167800453516,
           0.5209885541518194,
           0.4646231508476407,
           0.414520570132815,
           0.3706808120073426,
           0.33310387647122336,
           0.30178976352445736,
           0.2767384731670446,
           0.257950005398985,
           0.24542436022027855,
           0.23916153763092537,
           0.23916153763092537,
           0.24542436022027855,
           0.25795000539898494,
           0.2767384731670446,
           0.30178976352445736,
           0.33310387647122347,
           0.3706808120073426,
           0.414520570132815,
           0.4646231508476407,
           0.5209885541518194,
           0.5836167800453513,
           0.6525078285282367,
           0.727661699600475,
           0.8090783932620665,
           0.8967579095130115
          ],
          [
           1.1801465228167372,
           1.061761918647033,
           0.9518333576323079,
           0.8503608397725617,
           0.7573443650677942,
           0.6727839335180055,
           0.5966795451231959,
           0.529031199883365,
           0.4698388977985129,
           0.41910263886863974,
           0.3768224230937454,
           0.34299825047383004,
           0.31763012100889343,
           0.3007180346989357,
           0.2922619915439568,
           0.2922619915439568,
           0.3007180346989357,
           0.3176301210088934,
           0.34299825047383004,
           0.3768224230937454,
           0.4191026388686398,
           0.4698388977985129,
           0.5290311998833649,
           0.5966795451231959,
           0.6727839335180055,
           0.757344365067794,
           0.8503608397725617,
           0.9518333576323079,
           1.0617619186470328,
           1.1801465228167372
          ],
          [
           1.60479849379198,
           1.4395226948911046,
           1.2860523101974348,
           1.1443873397109707,
           1.0145277834317115,
           0.8964736413596578,
           0.7902249134948096,
           0.6957815998371666,
           0.6131437003867289,
           0.5423112151434967,
           0.4832841441074698,
           0.4360624872786484,
           0.4006462446570323,
           0.3770354162426215,
           0.3652300020354161,
           0.3652300020354161,
           0.3770354162426215,
           0.4006462446570322,
           0.4360624872786484,
           0.4832841441074698,
           0.5423112151434968,
           0.6131437003867289,
           0.6957815998371664,
           0.7902249134948096,
           0.8964736413596578,
           1.0145277834317112,
           1.1443873397109707,
           1.2860523101974348,
           1.4395226948911046,
           1.60479849379198
          ],
          [
           2.273814814814814,
           2.033222222222222,
           1.809814814814814,
           1.6035925925925925,
           1.4145555555555553,
           1.2427037037037034,
           1.0880370370370371,
           0.9505555555555553,
           0.8302592592592591,
           0.727148148148148,
           0.641222222222222,
           0.5724814814814815,
           0.5209259259259258,
           0.4865555555555554,
           0.4693703703703702,
           0.4693703703703702,
           0.4865555555555554,
           0.5209259259259258,
           0.5724814814814815,
           0.641222222222222,
           0.7271481481481481,
           0.8302592592592591,
           0.9505555555555553,
           1.0880370370370371,
           1.2427037037037034,
           1.414555555555555,
           1.6035925925925925,
           1.809814814814814,
           2.0332222222222214,
           2.273814814814814
          ],
          [
           3.397303140646335,
           3.0277082385070546,
           2.684512972234865,
           2.367717341829768,
           2.0773213472917615,
           1.8133249886208462,
           1.5757282658170233,
           1.3645311788802912,
           1.1797337278106508,
           1.0213359126081019,
           0.8893377332726443,
           0.7837391898042785,
           0.704540282203004,
           0.651741010468821,
           0.6253413746017296,
           0.6253413746017296,
           0.651741010468821,
           0.7045402822030039,
           0.7837391898042785,
           0.8893377332726443,
           1.0213359126081019,
           1.1797337278106508,
           1.364531178880291,
           1.5757282658170233,
           1.8133249886208462,
           2.0773213472917607,
           2.367717341829768,
           2.684512972234865,
           3.027708238507054,
           3.397303140646335
          ],
          [
           5.449755822689708,
           4.839688204357626,
           4.2731968444778365,
           3.7502817430503383,
           3.2709429000751316,
           2.8351803155522166,
           2.442993989481593,
           2.094383921863261,
           1.7893501126972204,
           1.5278925619834711,
           1.3100112697220134,
           1.1357062359128476,
           1.0049774605559731,
           0.91782494365139,
           0.8742486851990985,
           0.8742486851990985,
           0.91782494365139,
           1.004977460555973,
           1.1357062359128476,
           1.3100112697220134,
           1.5278925619834716,
           1.7893501126972204,
           2.0943839218632605,
           2.442993989481593,
           2.8351803155522166,
           3.2709429000751307,
           3.7502817430503383,
           4.2731968444778365,
           4.839688204357625,
           5.449755822689708
          ],
          [
           9.661694101508921,
           8.547839506172844,
           7.5135459533607705,
           6.558813443072706,
           5.683641975308645,
           4.88803155006859,
           4.171982167352541,
           3.535493827160496,
           2.9785665294924564,
           2.5012002743484234,
           2.1033950617283956,
           1.785150891632374,
           1.5464677640603572,
           1.3873456790123462,
           1.3077846364883408,
           1.3077846364883408,
           1.3873456790123462,
           1.5464677640603568,
           1.785150891632374,
           2.1033950617283956,
           2.501200274348424,
           2.9785665294924564,
           3.5354938271604945,
           4.171982167352541,
           4.88803155006859,
           5.683641975308643,
           6.558813443072706,
           7.5135459533607705,
           8.54783950617284,
           9.661694101508921
          ],
          [
           19.92164723032069,
           17.554300291545182,
           15.356049562682207,
           13.326895043731774,
           11.466836734693874,
           9.775874635568508,
           8.254008746355684,
           6.901239067055392,
           5.717565597667636,
           4.702988338192418,
           3.8575072886297357,
           3.181122448979591,
           2.673833819241982,
           2.335641399416909,
           2.1665451895043724,
           2.1665451895043724,
           2.335641399416909,
           2.673833819241981,
           3.181122448979591,
           3.8575072886297357,
           4.7029883381924185,
           5.717565597667636,
           6.90123906705539,
           8.254008746355684,
           9.775874635568508,
           11.466836734693869,
           13.326895043731774,
           15.356049562682207,
           17.55430029154518,
           19.92164723032069
          ],
          [
           52.983,
           46.48699999999999,
           40.45499999999999,
           34.88699999999999,
           29.782999999999994,
           25.142999999999994,
           20.967000000000002,
           17.255,
           14.007,
           11.222999999999997,
           8.902999999999997,
           7.047,
           5.654999999999999,
           4.726999999999999,
           4.263,
           4.263,
           4.726999999999999,
           5.654999999999998,
           7.047,
           8.902999999999997,
           11.223,
           14.007,
           17.254999999999995,
           20.967000000000002,
           25.142999999999994,
           29.782999999999983,
           34.88699999999999,
           40.45499999999999,
           46.48699999999998,
           52.983
          ],
          [
           237.50462962962973,
           207.43055555555563,
           179.50462962962968,
           153.72685185185193,
           130.09722222222229,
           108.61574074074078,
           89.28240740740746,
           72.09722222222226,
           57.060185185185205,
           44.171296296296305,
           33.43055555555556,
           24.837962962962976,
           18.393518518518526,
           14.097222222222225,
           11.949074074074078,
           11.949074074074078,
           14.097222222222225,
           18.393518518518515,
           24.837962962962976,
           33.43055555555556,
           44.171296296296326,
           57.060185185185205,
           72.09722222222223,
           89.28240740740746,
           108.61574074074078,
           130.09722222222223,
           153.72685185185193,
           179.50462962962968,
           207.43055555555557,
           237.50462962962973
          ],
          [
           6202.374999999963,
           5390.374999999968,
           4636.374999999972,
           3940.3749999999773,
           3302.374999999981,
           2722.3749999999836,
           2200.3749999999877,
           1736.3749999999902,
           1330.3749999999923,
           982.3749999999942,
           692.3749999999959,
           460.3749999999976,
           286.3749999999985,
           170.37499999999918,
           112.37499999999957,
           112.37499999999957,
           170.37499999999918,
           286.3749999999983,
           460.3749999999976,
           692.3749999999959,
           982.3749999999948,
           1330.3749999999923,
           1736.3749999999895,
           2200.3749999999877,
           2722.3749999999836,
           3302.3749999999795,
           3940.3749999999773,
           4636.374999999972,
           5390.374999999966,
           6202.374999999963
          ],
          [
           -5992.124999999964,
           -5180.124999999969,
           -4426.124999999973,
           -3730.124999999978,
           -3092.124999999982,
           -2512.1249999999845,
           -1990.1249999999884,
           -1526.124999999991,
           -1120.1249999999932,
           -772.1249999999951,
           -482.12499999999676,
           -250.12499999999844,
           -76.12499999999936,
           39.87499999999999,
           97.87499999999959,
           97.87499999999959,
           39.87499999999999,
           -76.12499999999912,
           -250.12499999999844,
           -482.12499999999676,
           -772.1249999999956,
           -1120.1249999999932,
           -1526.1249999999902,
           -1990.1249999999884,
           -2512.1249999999845,
           -3092.1249999999804,
           -3730.124999999978,
           -4426.124999999973,
           -5180.124999999967,
           -5992.124999999964
          ],
          [
           -214.1435185185186,
           -184.0694444444445,
           -156.14351851851856,
           -130.36574074074082,
           -106.73611111111117,
           -85.25462962962966,
           -65.92129629629635,
           -48.73611111111114,
           -33.69907407407409,
           -20.81018518518519,
           -10.069444444444445,
           -1.476851851851859,
           4.967592592592592,
           9.263888888888891,
           11.412037037037038,
           11.412037037037038,
           9.263888888888891,
           4.9675925925926006,
           -1.476851851851859,
           -10.069444444444445,
           -20.810185185185208,
           -33.69907407407409,
           -48.736111111111114,
           -65.92129629629635,
           -85.25462962962966,
           -106.73611111111111,
           -130.36574074074082,
           -156.14351851851856,
           -184.06944444444446,
           -214.1435185185186
          ],
          [
           -44.57300000000008,
           -38.07700000000007,
           -32.04500000000005,
           -26.477000000000054,
           -21.373000000000044,
           -16.73300000000003,
           -12.557000000000029,
           -8.84500000000002,
           -5.597000000000013,
           -2.8130000000000064,
           -0.49300000000000216,
           1.3629999999999989,
           2.755000000000002,
           3.6830000000000043,
           4.147000000000005,
           4.147000000000005,
           3.6830000000000043,
           2.7550000000000043,
           1.3629999999999989,
           -0.49300000000000216,
           -2.8130000000000104,
           -5.597000000000013,
           -8.845000000000015,
           -12.557000000000029,
           -16.73300000000003,
           -21.37300000000003,
           -26.477000000000054,
           -32.04500000000005,
           -38.077000000000055,
           -44.57300000000008
          ],
          [
           -15.63083090379008,
           -13.26348396501457,
           -11.065233236151595,
           -9.036078717201164,
           -7.176020408163263,
           -5.485058309037898,
           -3.9631924198250723,
           -2.6104227405247804,
           -1.4267492711370255,
           -0.41217201166180667,
           0.4333090379008752,
           1.10969387755102,
           1.6169825072886292,
           1.9551749271137022,
           2.1242711370262386,
           2.1242711370262386,
           1.9551749271137022,
           1.6169825072886301,
           1.10969387755102,
           0.4333090379008752,
           -0.41217201166180817,
           -1.4267492711370255,
           -2.6104227405247786,
           -3.9631924198250723,
           -5.485058309037898,
           -7.176020408163259,
           -9.036078717201164,
           -11.065233236151595,
           -13.263483965014567,
           -15.63083090379008
          ],
          [
           -7.0660150891632405,
           -5.952160493827163,
           -4.917866941015091,
           -3.963134430727026,
           -3.087962962962965,
           -2.292352537722909,
           -1.5763031550068605,
           -0.9398148148148159,
           -0.38288751714677693,
           0.09447873799725653,
           0.4922839506172842,
           0.8105281207133059,
           1.0492112482853224,
           1.2083333333333337,
           1.2878943758573391,
           1.2878943758573391,
           1.2083333333333337,
           1.049211248285323,
           0.8105281207133059,
           0.4922839506172842,
           0.09447873799725584,
           -0.38288751714677693,
           -0.9398148148148149,
           -1.5763031550068605,
           -2.292352537722909,
           -3.0879629629629632,
           -3.963134430727026,
           -4.917866941015091,
           -5.9521604938271615,
           -7.0660150891632405
          ],
          [
           -3.71215251690458,
           -3.1020848985724996,
           -2.5355935386927095,
           -2.012678437265213,
           -1.5333395942900065,
           -1.0975770097670914,
           -0.7053906836964685,
           -0.3567806160781365,
           -0.051746806912095995,
           0.20971074380165305,
           0.42759203606311047,
           0.6018970698722762,
           0.7326258452291506,
           0.8197783621337337,
           0.8633546205860251,
           0.8633546205860251,
           0.8197783621337337,
           0.7326258452291509,
           0.6018970698722762,
           0.42759203606311047,
           0.20971074380165267,
           -0.051746806912095995,
           -0.356780616078136,
           -0.7053906836964685,
           -1.0975770097670914,
           -1.5333395942900054,
           -2.012678437265213,
           -2.5355935386927095,
           -3.1020848985724987,
           -3.71215251690458
          ],
          [
           -2.1532203004096493,
           -1.7836253982703685,
           -1.4404301319981787,
           -1.1236345015930815,
           -0.8332385070550752,
           -0.5692421483841601,
           -0.33164542558033705,
           -0.12044833864360502,
           0.06434911242603546,
           0.22274692762858447,
           0.35474510696404193,
           0.4603436504324077,
           0.5395425580336822,
           0.5923418297678652,
           0.6187414656349567,
           0.6187414656349567,
           0.5923418297678652,
           0.5395425580336823,
           0.4603436504324077,
           0.35474510696404193,
           0.22274692762858425,
           0.06434911242603546,
           -0.1204483386436047,
           -0.33164542558033705,
           -0.5692421483841601,
           -0.8332385070550745,
           -1.1236345015930815,
           -1.4404301319981787,
           -1.7836253982703678,
           -2.1532203004096493
          ],
          [
           -1.339370370370371,
           -1.0987777777777783,
           -0.8753703703703705,
           -0.6691481481481486,
           -0.48011111111111143,
           -0.3082592592592594,
           -0.1535925925925929,
           -0.016111111111111267,
           0.10418518518518512,
           0.20729629629629634,
           0.29322222222222233,
           0.361962962962963,
           0.41351851851851856,
           0.44788888888888895,
           0.4650740740740742,
           0.4650740740740742,
           0.44788888888888895,
           0.4135185185185187,
           0.361962962962963,
           0.29322222222222233,
           0.20729629629629617,
           0.10418518518518512,
           -0.016111111111111066,
           -0.1535925925925929,
           -0.3082592592592594,
           -0.48011111111111104,
           -0.6691481481481486,
           -0.8753703703703705,
           -1.0987777777777779,
           -1.339370370370371
          ],
          [
           -0.877289843272949,
           -0.7120140443720738,
           -0.5585436596784038,
           -0.41687868919193966,
           -0.28701913291268055,
           -0.16896499084062677,
           -0.0627162629757786,
           0.03172705068186441,
           0.11436495013230204,
           0.1851974353755343,
           0.24422450641156115,
           0.2914461632403826,
           0.32686240586199866,
           0.3504732342764095,
           0.36227864848361485,
           0.36227864848361485,
           0.3504732342764095,
           0.3268624058619988,
           0.2914461632403826,
           0.24422450641156115,
           0.18519743537553418,
           0.11436495013230204,
           0.03172705068186455,
           -0.0627162629757786,
           -0.16896499084062677,
           -0.2870191329126803,
           -0.41687868919193966,
           -0.5585436596784038,
           -0.7120140443720735,
           -0.877289843272949
          ],
          [
           -0.5977365505175682,
           -0.47935194634786416,
           -0.36942338533313884,
           -0.2679508674733927,
           -0.17493439276862524,
           -0.09037396121883655,
           -0.01426957282402692,
           0.05337877241580401,
           0.11257107450065605,
           0.16330733343052925,
           0.20558754920542358,
           0.23941172182533899,
           0.26477985129027554,
           0.2816919376002333,
           0.29014798075521214,
           0.29014798075521214,
           0.2816919376002333,
           0.2647798512902756,
           0.23941172182533899,
           0.20558754920542358,
           0.16330733343052917,
           0.11257107450065605,
           0.053378772415804104,
           -0.01426957282402692,
           -0.09037396121883655,
           -0.17493439276862505,
           -0.2679508674733927,
           -0.36942338533313884,
           -0.47935194634786393,
           -0.5977365505175682
          ],
          [
           -0.4200005398984993,
           -0.33232102364755445,
           -0.2509043299859627,
           -0.17575045891372437,
           -0.10685941043083912,
           -0.04423118453730702,
           0.012134218766871737,
           0.06223679948169741,
           0.10607655760716986,
           0.1436534931432891,
           0.17496760609005513,
           0.20001889644746793,
           0.21880736421552752,
           0.23133300939423396,
           0.23759583198358716,
           0.23759583198358716,
           0.23133300939423396,
           0.21880736421552757,
           0.20001889644746793,
           0.17496760609005513,
           0.14365349314328904,
           0.10607655760716986,
           0.062236799481697476,
           0.012134218766871737,
           -0.04423118453730702,
           -0.10685941043083898,
           -0.17575045891372437,
           -0.2509043299859627,
           -0.3323210236475543,
           -0.4200005398984993
          ],
          [
           -0.3024060984630557,
           -0.23566820087120896,
           -0.17369729596449401,
           -0.11649338374291116,
           -0.0640564642064601,
           -0.016386537355140927,
           0.026516396811046228,
           0.06465233829210155,
           0.09802128708802496,
           0.12662324319881646,
           0.15045820662447604,
           0.16952617736500367,
           0.1838271554203994,
           0.19336114079066324,
           0.19812813347579517,
           0.19812813347579517,
           0.19336114079066324,
           0.18382715542039943,
           0.16952617736500367,
           0.15045820662447604,
           0.12662324319881643,
           0.09802128708802496,
           0.06465233829210161,
           0.026516396811046228,
           -0.016386537355140927,
           -0.06405646420646,
           -0.11649338374291116,
           -0.17369729596449401,
           -0.23566820087120885,
           -0.3024060984630557
          ],
          [
           -0.22202400000000005,
           -0.17005600000000004,
           -0.12179999999999998,
           -0.07725600000000006,
           -0.03642400000000004,
           0.0006960000000000023,
           0.03410399999999996,
           0.06379999999999998,
           0.089784,
           0.11205600000000002,
           0.13061600000000004,
           0.145464,
           0.15660000000000002,
           0.16402400000000003,
           0.16773600000000002,
           0.16773600000000002,
           0.16402400000000003,
           0.15660000000000004,
           0.145464,
           0.13061600000000004,
           0.112056,
           0.089784,
           0.06380000000000002,
           0.03410399999999996,
           0.0006960000000000023,
           -0.03642399999999995,
           -0.07725600000000006,
           -0.12179999999999998,
           -0.17005599999999996,
           -0.22202400000000005
          ],
          [
           -0.16556800284509485,
           -0.12431412894375865,
           -0.08600696032108929,
           -0.0506464969770869,
           -0.018232738911751305,
           0.011234313874917435,
           0.03775466138291923,
           0.06132830361225422,
           0.08195524056292233,
           0.09963547223492357,
           0.11436899862825793,
           0.1261558197429254,
           0.134995935578926,
           0.14088934613625975,
           0.14383605141492664,
           0.14383605141492664,
           0.14088934613625975,
           0.13499593557892603,
           0.1261558197429254,
           0.11436899862825793,
           0.09963547223492354,
           0.08195524056292233,
           0.061328303612254255,
           0.03775466138291923,
           0.011234313874917435,
           -0.018232738911751235,
           -0.0506464969770869,
           -0.08600696032108929,
           -0.12431412894375858,
           -0.16556800284509485
          ],
          [
           -0.125,
           -0.09170630202140309,
           -0.060790725326991646,
           -0.032253269916765775,
           -0.006093935790725341,
           0.017687277051129616,
           0.039090368608799025,
           0.058115338882282985,
           0.07476218787158145,
           0.08903091557669442,
           0.10092152199762189,
           0.11043400713436385,
           0.11756837098692033,
           0.12232461355529133,
           0.12470273483947682,
           0.12470273483947682,
           0.12232461355529133,
           0.11756837098692034,
           0.11043400713436385,
           0.10092152199762189,
           0.0890309155766944,
           0.07476218787158145,
           0.05811533888228301,
           0.039090368608799025,
           0.017687277051129616,
           -0.006093935790725286,
           -0.032253269916765775,
           -0.060790725326991646,
           -0.09170630202140304,
           -0.125
          ]
         ]
        }
       ],
       "layout": {
        "autosize": false,
        "height": 500,
        "margin": {
         "b": 65,
         "l": 65,
         "r": 50,
         "t": 90
        },
        "template": {
         "data": {
          "bar": [
           {
            "error_x": {
             "color": "#2a3f5f"
            },
            "error_y": {
             "color": "#2a3f5f"
            },
            "marker": {
             "line": {
              "color": "#E5ECF6",
              "width": 0.5
             },
             "pattern": {
              "fillmode": "overlay",
              "size": 10,
              "solidity": 0.2
             }
            },
            "type": "bar"
           }
          ],
          "barpolar": [
           {
            "marker": {
             "line": {
              "color": "#E5ECF6",
              "width": 0.5
             },
             "pattern": {
              "fillmode": "overlay",
              "size": 10,
              "solidity": 0.2
             }
            },
            "type": "barpolar"
           }
          ],
          "carpet": [
           {
            "aaxis": {
             "endlinecolor": "#2a3f5f",
             "gridcolor": "white",
             "linecolor": "white",
             "minorgridcolor": "white",
             "startlinecolor": "#2a3f5f"
            },
            "baxis": {
             "endlinecolor": "#2a3f5f",
             "gridcolor": "white",
             "linecolor": "white",
             "minorgridcolor": "white",
             "startlinecolor": "#2a3f5f"
            },
            "type": "carpet"
           }
          ],
          "choropleth": [
           {
            "colorbar": {
             "outlinewidth": 0,
             "ticks": ""
            },
            "type": "choropleth"
           }
          ],
          "contour": [
           {
            "colorbar": {
             "outlinewidth": 0,
             "ticks": ""
            },
            "colorscale": [
             [
              0,
              "#0d0887"
             ],
             [
              0.1111111111111111,
              "#46039f"
             ],
             [
              0.2222222222222222,
              "#7201a8"
             ],
             [
              0.3333333333333333,
              "#9c179e"
             ],
             [
              0.4444444444444444,
              "#bd3786"
             ],
             [
              0.5555555555555556,
              "#d8576b"
             ],
             [
              0.6666666666666666,
              "#ed7953"
             ],
             [
              0.7777777777777778,
              "#fb9f3a"
             ],
             [
              0.8888888888888888,
              "#fdca26"
             ],
             [
              1,
              "#f0f921"
             ]
            ],
            "type": "contour"
           }
          ],
          "contourcarpet": [
           {
            "colorbar": {
             "outlinewidth": 0,
             "ticks": ""
            },
            "type": "contourcarpet"
           }
          ],
          "heatmap": [
           {
            "colorbar": {
             "outlinewidth": 0,
             "ticks": ""
            },
            "colorscale": [
             [
              0,
              "#0d0887"
             ],
             [
              0.1111111111111111,
              "#46039f"
             ],
             [
              0.2222222222222222,
              "#7201a8"
             ],
             [
              0.3333333333333333,
              "#9c179e"
             ],
             [
              0.4444444444444444,
              "#bd3786"
             ],
             [
              0.5555555555555556,
              "#d8576b"
             ],
             [
              0.6666666666666666,
              "#ed7953"
             ],
             [
              0.7777777777777778,
              "#fb9f3a"
             ],
             [
              0.8888888888888888,
              "#fdca26"
             ],
             [
              1,
              "#f0f921"
             ]
            ],
            "type": "heatmap"
           }
          ],
          "heatmapgl": [
           {
            "colorbar": {
             "outlinewidth": 0,
             "ticks": ""
            },
            "colorscale": [
             [
              0,
              "#0d0887"
             ],
             [
              0.1111111111111111,
              "#46039f"
             ],
             [
              0.2222222222222222,
              "#7201a8"
             ],
             [
              0.3333333333333333,
              "#9c179e"
             ],
             [
              0.4444444444444444,
              "#bd3786"
             ],
             [
              0.5555555555555556,
              "#d8576b"
             ],
             [
              0.6666666666666666,
              "#ed7953"
             ],
             [
              0.7777777777777778,
              "#fb9f3a"
             ],
             [
              0.8888888888888888,
              "#fdca26"
             ],
             [
              1,
              "#f0f921"
             ]
            ],
            "type": "heatmapgl"
           }
          ],
          "histogram": [
           {
            "marker": {
             "pattern": {
              "fillmode": "overlay",
              "size": 10,
              "solidity": 0.2
             }
            },
            "type": "histogram"
           }
          ],
          "histogram2d": [
           {
            "colorbar": {
             "outlinewidth": 0,
             "ticks": ""
            },
            "colorscale": [
             [
              0,
              "#0d0887"
             ],
             [
              0.1111111111111111,
              "#46039f"
             ],
             [
              0.2222222222222222,
              "#7201a8"
             ],
             [
              0.3333333333333333,
              "#9c179e"
             ],
             [
              0.4444444444444444,
              "#bd3786"
             ],
             [
              0.5555555555555556,
              "#d8576b"
             ],
             [
              0.6666666666666666,
              "#ed7953"
             ],
             [
              0.7777777777777778,
              "#fb9f3a"
             ],
             [
              0.8888888888888888,
              "#fdca26"
             ],
             [
              1,
              "#f0f921"
             ]
            ],
            "type": "histogram2d"
           }
          ],
          "histogram2dcontour": [
           {
            "colorbar": {
             "outlinewidth": 0,
             "ticks": ""
            },
            "colorscale": [
             [
              0,
              "#0d0887"
             ],
             [
              0.1111111111111111,
              "#46039f"
             ],
             [
              0.2222222222222222,
              "#7201a8"
             ],
             [
              0.3333333333333333,
              "#9c179e"
             ],
             [
              0.4444444444444444,
              "#bd3786"
             ],
             [
              0.5555555555555556,
              "#d8576b"
             ],
             [
              0.6666666666666666,
              "#ed7953"
             ],
             [
              0.7777777777777778,
              "#fb9f3a"
             ],
             [
              0.8888888888888888,
              "#fdca26"
             ],
             [
              1,
              "#f0f921"
             ]
            ],
            "type": "histogram2dcontour"
           }
          ],
          "mesh3d": [
           {
            "colorbar": {
             "outlinewidth": 0,
             "ticks": ""
            },
            "type": "mesh3d"
           }
          ],
          "parcoords": [
           {
            "line": {
             "colorbar": {
              "outlinewidth": 0,
              "ticks": ""
             }
            },
            "type": "parcoords"
           }
          ],
          "pie": [
           {
            "automargin": true,
            "type": "pie"
           }
          ],
          "scatter": [
           {
            "fillpattern": {
             "fillmode": "overlay",
             "size": 10,
             "solidity": 0.2
            },
            "type": "scatter"
           }
          ],
          "scatter3d": [
           {
            "line": {
             "colorbar": {
              "outlinewidth": 0,
              "ticks": ""
             }
            },
            "marker": {
             "colorbar": {
              "outlinewidth": 0,
              "ticks": ""
             }
            },
            "type": "scatter3d"
           }
          ],
          "scattercarpet": [
           {
            "marker": {
             "colorbar": {
              "outlinewidth": 0,
              "ticks": ""
             }
            },
            "type": "scattercarpet"
           }
          ],
          "scattergeo": [
           {
            "marker": {
             "colorbar": {
              "outlinewidth": 0,
              "ticks": ""
             }
            },
            "type": "scattergeo"
           }
          ],
          "scattergl": [
           {
            "marker": {
             "colorbar": {
              "outlinewidth": 0,
              "ticks": ""
             }
            },
            "type": "scattergl"
           }
          ],
          "scattermapbox": [
           {
            "marker": {
             "colorbar": {
              "outlinewidth": 0,
              "ticks": ""
             }
            },
            "type": "scattermapbox"
           }
          ],
          "scatterpolar": [
           {
            "marker": {
             "colorbar": {
              "outlinewidth": 0,
              "ticks": ""
             }
            },
            "type": "scatterpolar"
           }
          ],
          "scatterpolargl": [
           {
            "marker": {
             "colorbar": {
              "outlinewidth": 0,
              "ticks": ""
             }
            },
            "type": "scatterpolargl"
           }
          ],
          "scatterternary": [
           {
            "marker": {
             "colorbar": {
              "outlinewidth": 0,
              "ticks": ""
             }
            },
            "type": "scatterternary"
           }
          ],
          "surface": [
           {
            "colorbar": {
             "outlinewidth": 0,
             "ticks": ""
            },
            "colorscale": [
             [
              0,
              "#0d0887"
             ],
             [
              0.1111111111111111,
              "#46039f"
             ],
             [
              0.2222222222222222,
              "#7201a8"
             ],
             [
              0.3333333333333333,
              "#9c179e"
             ],
             [
              0.4444444444444444,
              "#bd3786"
             ],
             [
              0.5555555555555556,
              "#d8576b"
             ],
             [
              0.6666666666666666,
              "#ed7953"
             ],
             [
              0.7777777777777778,
              "#fb9f3a"
             ],
             [
              0.8888888888888888,
              "#fdca26"
             ],
             [
              1,
              "#f0f921"
             ]
            ],
            "type": "surface"
           }
          ],
          "table": [
           {
            "cells": {
             "fill": {
              "color": "#EBF0F8"
             },
             "line": {
              "color": "white"
             }
            },
            "header": {
             "fill": {
              "color": "#C8D4E3"
             },
             "line": {
              "color": "white"
             }
            },
            "type": "table"
           }
          ]
         },
         "layout": {
          "annotationdefaults": {
           "arrowcolor": "#2a3f5f",
           "arrowhead": 0,
           "arrowwidth": 1
          },
          "autotypenumbers": "strict",
          "coloraxis": {
           "colorbar": {
            "outlinewidth": 0,
            "ticks": ""
           }
          },
          "colorscale": {
           "diverging": [
            [
             0,
             "#8e0152"
            ],
            [
             0.1,
             "#c51b7d"
            ],
            [
             0.2,
             "#de77ae"
            ],
            [
             0.3,
             "#f1b6da"
            ],
            [
             0.4,
             "#fde0ef"
            ],
            [
             0.5,
             "#f7f7f7"
            ],
            [
             0.6,
             "#e6f5d0"
            ],
            [
             0.7,
             "#b8e186"
            ],
            [
             0.8,
             "#7fbc41"
            ],
            [
             0.9,
             "#4d9221"
            ],
            [
             1,
             "#276419"
            ]
           ],
           "sequential": [
            [
             0,
             "#0d0887"
            ],
            [
             0.1111111111111111,
             "#46039f"
            ],
            [
             0.2222222222222222,
             "#7201a8"
            ],
            [
             0.3333333333333333,
             "#9c179e"
            ],
            [
             0.4444444444444444,
             "#bd3786"
            ],
            [
             0.5555555555555556,
             "#d8576b"
            ],
            [
             0.6666666666666666,
             "#ed7953"
            ],
            [
             0.7777777777777778,
             "#fb9f3a"
            ],
            [
             0.8888888888888888,
             "#fdca26"
            ],
            [
             1,
             "#f0f921"
            ]
           ],
           "sequentialminus": [
            [
             0,
             "#0d0887"
            ],
            [
             0.1111111111111111,
             "#46039f"
            ],
            [
             0.2222222222222222,
             "#7201a8"
            ],
            [
             0.3333333333333333,
             "#9c179e"
            ],
            [
             0.4444444444444444,
             "#bd3786"
            ],
            [
             0.5555555555555556,
             "#d8576b"
            ],
            [
             0.6666666666666666,
             "#ed7953"
            ],
            [
             0.7777777777777778,
             "#fb9f3a"
            ],
            [
             0.8888888888888888,
             "#fdca26"
            ],
            [
             1,
             "#f0f921"
            ]
           ]
          },
          "colorway": [
           "#636efa",
           "#EF553B",
           "#00cc96",
           "#ab63fa",
           "#FFA15A",
           "#19d3f3",
           "#FF6692",
           "#B6E880",
           "#FF97FF",
           "#FECB52"
          ],
          "font": {
           "color": "#2a3f5f"
          },
          "geo": {
           "bgcolor": "white",
           "lakecolor": "white",
           "landcolor": "#E5ECF6",
           "showlakes": true,
           "showland": true,
           "subunitcolor": "white"
          },
          "hoverlabel": {
           "align": "left"
          },
          "hovermode": "closest",
          "mapbox": {
           "style": "light"
          },
          "paper_bgcolor": "white",
          "plot_bgcolor": "#E5ECF6",
          "polar": {
           "angularaxis": {
            "gridcolor": "white",
            "linecolor": "white",
            "ticks": ""
           },
           "bgcolor": "#E5ECF6",
           "radialaxis": {
            "gridcolor": "white",
            "linecolor": "white",
            "ticks": ""
           }
          },
          "scene": {
           "xaxis": {
            "backgroundcolor": "#E5ECF6",
            "gridcolor": "white",
            "gridwidth": 2,
            "linecolor": "white",
            "showbackground": true,
            "ticks": "",
            "zerolinecolor": "white"
           },
           "yaxis": {
            "backgroundcolor": "#E5ECF6",
            "gridcolor": "white",
            "gridwidth": 2,
            "linecolor": "white",
            "showbackground": true,
            "ticks": "",
            "zerolinecolor": "white"
           },
           "zaxis": {
            "backgroundcolor": "#E5ECF6",
            "gridcolor": "white",
            "gridwidth": 2,
            "linecolor": "white",
            "showbackground": true,
            "ticks": "",
            "zerolinecolor": "white"
           }
          },
          "shapedefaults": {
           "line": {
            "color": "#2a3f5f"
           }
          },
          "ternary": {
           "aaxis": {
            "gridcolor": "white",
            "linecolor": "white",
            "ticks": ""
           },
           "baxis": {
            "gridcolor": "white",
            "linecolor": "white",
            "ticks": ""
           },
           "bgcolor": "#E5ECF6",
           "caxis": {
            "gridcolor": "white",
            "linecolor": "white",
            "ticks": ""
           }
          },
          "title": {
           "x": 0.05
          },
          "xaxis": {
           "automargin": true,
           "gridcolor": "white",
           "linecolor": "white",
           "ticks": "",
           "title": {
            "standoff": 15
           },
           "zerolinecolor": "white",
           "zerolinewidth": 2
          },
          "yaxis": {
           "automargin": true,
           "gridcolor": "white",
           "linecolor": "white",
           "ticks": "",
           "title": {
            "standoff": 15
           },
           "zerolinecolor": "white",
           "zerolinewidth": 2
          }
         }
        },
        "title": {
         "text": ""
        },
        "width": 500
       }
      }
     },
     "metadata": {},
     "output_type": "display_data"
    },
    {
     "data": {
      "application/vnd.plotly.v1+json": {
       "config": {
        "plotlyServerURL": "https://plot.ly"
       },
       "data": [
        {
         "type": "surface",
         "x": [
          -2,
          -1.8620689655172413,
          -1.7241379310344827,
          -1.5862068965517242,
          -1.4482758620689655,
          -1.3103448275862069,
          -1.1724137931034484,
          -1.0344827586206897,
          -0.896551724137931,
          -0.7586206896551724,
          -0.6206896551724137,
          -0.48275862068965525,
          -0.3448275862068966,
          -0.2068965517241379,
          -0.06896551724137945,
          0.06896551724137945,
          0.2068965517241379,
          0.34482758620689635,
          0.48275862068965525,
          0.6206896551724137,
          0.7586206896551726,
          0.896551724137931,
          1.0344827586206895,
          1.1724137931034484,
          1.3103448275862069,
          1.4482758620689653,
          1.5862068965517242,
          1.7241379310344827,
          1.862068965517241,
          2
         ],
         "y": [
          -2,
          -1.8620689655172413,
          -1.7241379310344827,
          -1.5862068965517242,
          -1.4482758620689655,
          -1.3103448275862069,
          -1.1724137931034484,
          -1.0344827586206897,
          -0.896551724137931,
          -0.7586206896551724,
          -0.6206896551724137,
          -0.48275862068965525,
          -0.3448275862068966,
          -0.2068965517241379,
          -0.06896551724137945,
          0.06896551724137945,
          0.2068965517241379,
          0.34482758620689635,
          0.48275862068965525,
          0.6206896551724137,
          0.7586206896551726,
          0.896551724137931,
          1.0344827586206895,
          1.1724137931034484,
          1.3103448275862069,
          1.4482758620689653,
          1.5862068965517242,
          1.7241379310344827,
          1.862068965517241,
          2
         ],
         "z": [
          [
           0.375,
           0.34170630202140306,
           0.31079072532699165,
           0.2822532699167658,
           0.25609393579072537,
           0.2323127229488704,
           0.21090963139120097,
           0.19188466111771701,
           0.17523781212841855,
           0.1609690844233056,
           0.1490784780023781,
           0.13956599286563615,
           0.13243162901307967,
           0.1276753864447087,
           0.1252972651605232,
           0.1252972651605232,
           0.1276753864447087,
           0.13243162901307967,
           0.13956599286563615,
           0.1490784780023781,
           0.1609690844233056,
           0.17523781212841855,
           0.191884661117717,
           0.21090963139120097,
           0.2323127229488704,
           0.25609393579072526,
           0.2822532699167658,
           0.31079072532699165,
           0.34170630202140306,
           0.375
          ],
          [
           0.45397678199461466,
           0.4127229080932785,
           0.37441573947060913,
           0.3390552761266068,
           0.3066415180612712,
           0.27717446527460243,
           0.2506541177666007,
           0.22708047553726565,
           0.2064535385865976,
           0.18877330691459634,
           0.174039780521262,
           0.16225295940659454,
           0.15341284357059393,
           0.14751943301326018,
           0.14457272773459331,
           0.14457272773459331,
           0.14751943301326018,
           0.1534128435705939,
           0.16225295940659454,
           0.174039780521262,
           0.18877330691459637,
           0.2064535385865976,
           0.22708047553726565,
           0.2506541177666007,
           0.27717446527460243,
           0.3066415180612711,
           0.3390552761266068,
           0.37441573947060913,
           0.41272290809327844,
           0.45397678199461466
          ],
          [
           0.558424,
           0.5064560000000001,
           0.45820000000000005,
           0.4136560000000001,
           0.3728240000000001,
           0.335704,
           0.30229600000000006,
           0.27260000000000006,
           0.24661600000000003,
           0.224344,
           0.20578400000000002,
           0.19093600000000002,
           0.17980000000000002,
           0.172376,
           0.168664,
           0.168664,
           0.172376,
           0.17980000000000002,
           0.19093600000000002,
           0.20578400000000002,
           0.22434400000000004,
           0.24661600000000003,
           0.2726,
           0.30229600000000006,
           0.335704,
           0.372824,
           0.4136560000000001,
           0.45820000000000005,
           0.506456,
           0.558424
          ],
          [
           0.699854113585929,
           0.6331162159940822,
           0.5711453110873673,
           0.5139413988657845,
           0.46150447932933336,
           0.4138345524780142,
           0.370931618311827,
           0.3327956768307717,
           0.2994267280348483,
           0.27082477192405685,
           0.24698980849839725,
           0.22792183775786962,
           0.21362085970247388,
           0.20408687433221004,
           0.19931988164707812,
           0.19931988164707812,
           0.20408687433221004,
           0.21362085970247385,
           0.22792183775786962,
           0.24698980849839725,
           0.27082477192405685,
           0.2994267280348483,
           0.33279567683077166,
           0.370931618311827,
           0.4138345524780142,
           0.46150447932933325,
           0.5139413988657845,
           0.5711453110873673,
           0.6331162159940822,
           0.699854113585929
          ],
          [
           0.8967579095130115,
           0.8090783932620668,
           0.727661699600475,
           0.6525078285282367,
           0.5836167800453516,
           0.5209885541518194,
           0.4646231508476407,
           0.414520570132815,
           0.3706808120073426,
           0.33310387647122336,
           0.30178976352445736,
           0.2767384731670446,
           0.257950005398985,
           0.24542436022027855,
           0.23916153763092537,
           0.23916153763092537,
           0.24542436022027855,
           0.25795000539898494,
           0.2767384731670446,
           0.30178976352445736,
           0.33310387647122347,
           0.3706808120073426,
           0.414520570132815,
           0.4646231508476407,
           0.5209885541518194,
           0.5836167800453513,
           0.6525078285282367,
           0.727661699600475,
           0.8090783932620665,
           0.8967579095130115
          ],
          [
           1.1801465228167372,
           1.061761918647033,
           0.9518333576323079,
           0.8503608397725617,
           0.7573443650677942,
           0.6727839335180055,
           0.5966795451231959,
           0.529031199883365,
           0.4698388977985129,
           0.41910263886863974,
           0.3768224230937454,
           0.34299825047383004,
           0.31763012100889343,
           0.3007180346989357,
           0.2922619915439568,
           0.2922619915439568,
           0.3007180346989357,
           0.3176301210088934,
           0.34299825047383004,
           0.3768224230937454,
           0.4191026388686398,
           0.4698388977985129,
           0.5290311998833649,
           0.5966795451231959,
           0.6727839335180055,
           0.757344365067794,
           0.8503608397725617,
           0.9518333576323079,
           1.0617619186470328,
           1.1801465228167372
          ],
          [
           1.60479849379198,
           1.4395226948911046,
           1.2860523101974348,
           1.1443873397109707,
           1.0145277834317115,
           0.8964736413596578,
           0.7902249134948096,
           0.6957815998371666,
           0.6131437003867289,
           0.5423112151434967,
           0.4832841441074698,
           0.4360624872786484,
           0.4006462446570323,
           0.3770354162426215,
           0.3652300020354161,
           0.3652300020354161,
           0.3770354162426215,
           0.4006462446570322,
           0.4360624872786484,
           0.4832841441074698,
           0.5423112151434968,
           0.6131437003867289,
           0.6957815998371664,
           0.7902249134948096,
           0.8964736413596578,
           1.0145277834317112,
           1.1443873397109707,
           1.2860523101974348,
           1.4395226948911046,
           1.60479849379198
          ],
          [
           2.273814814814814,
           2.033222222222222,
           1.809814814814814,
           1.6035925925925925,
           1.4145555555555553,
           1.2427037037037034,
           1.0880370370370371,
           0.9505555555555553,
           0.8302592592592591,
           0.727148148148148,
           0.641222222222222,
           0.5724814814814815,
           0.5209259259259258,
           0.4865555555555554,
           0.4693703703703702,
           0.4693703703703702,
           0.4865555555555554,
           0.5209259259259258,
           0.5724814814814815,
           0.641222222222222,
           0.7271481481481481,
           0.8302592592592591,
           0.9505555555555553,
           1.0880370370370371,
           1.2427037037037034,
           1.414555555555555,
           1.6035925925925925,
           1.809814814814814,
           2.0332222222222214,
           2.273814814814814
          ],
          [
           3.397303140646335,
           3.0277082385070546,
           2.684512972234865,
           2.367717341829768,
           2.0773213472917615,
           1.8133249886208462,
           1.5757282658170233,
           1.3645311788802912,
           1.1797337278106508,
           1.0213359126081019,
           0.8893377332726443,
           0.7837391898042785,
           0.704540282203004,
           0.651741010468821,
           0.6253413746017296,
           0.6253413746017296,
           0.651741010468821,
           0.7045402822030039,
           0.7837391898042785,
           0.8893377332726443,
           1.0213359126081019,
           1.1797337278106508,
           1.364531178880291,
           1.5757282658170233,
           1.8133249886208462,
           2.0773213472917607,
           2.367717341829768,
           2.684512972234865,
           3.027708238507054,
           3.397303140646335
          ],
          [
           5.449755822689708,
           4.839688204357626,
           4.2731968444778365,
           3.7502817430503383,
           3.2709429000751316,
           2.8351803155522166,
           2.442993989481593,
           2.094383921863261,
           1.7893501126972204,
           1.5278925619834711,
           1.3100112697220134,
           1.1357062359128476,
           1.0049774605559731,
           0.91782494365139,
           0.8742486851990985,
           0.8742486851990985,
           0.91782494365139,
           1.004977460555973,
           1.1357062359128476,
           1.3100112697220134,
           1.5278925619834716,
           1.7893501126972204,
           2.0943839218632605,
           2.442993989481593,
           2.8351803155522166,
           3.2709429000751307,
           3.7502817430503383,
           4.2731968444778365,
           4.839688204357625,
           5.449755822689708
          ],
          [
           9.661694101508921,
           8.547839506172844,
           7.5135459533607705,
           6.558813443072706,
           5.683641975308645,
           4.88803155006859,
           4.171982167352541,
           3.535493827160496,
           2.9785665294924564,
           2.5012002743484234,
           2.1033950617283956,
           1.785150891632374,
           1.5464677640603572,
           1.3873456790123462,
           1.3077846364883408,
           1.3077846364883408,
           1.3873456790123462,
           1.5464677640603568,
           1.785150891632374,
           2.1033950617283956,
           2.501200274348424,
           2.9785665294924564,
           3.5354938271604945,
           4.171982167352541,
           4.88803155006859,
           5.683641975308643,
           6.558813443072706,
           7.5135459533607705,
           8.54783950617284,
           9.661694101508921
          ],
          [
           19.92164723032069,
           17.554300291545182,
           15.356049562682207,
           13.326895043731774,
           11.466836734693874,
           9.775874635568508,
           8.254008746355684,
           6.901239067055392,
           5.717565597667636,
           4.702988338192418,
           3.8575072886297357,
           3.181122448979591,
           2.673833819241982,
           2.335641399416909,
           2.1665451895043724,
           2.1665451895043724,
           2.335641399416909,
           2.673833819241981,
           3.181122448979591,
           3.8575072886297357,
           4.7029883381924185,
           5.717565597667636,
           6.90123906705539,
           8.254008746355684,
           9.775874635568508,
           11.466836734693869,
           13.326895043731774,
           15.356049562682207,
           17.55430029154518,
           19.92164723032069
          ],
          [
           52.983,
           46.48699999999999,
           40.45499999999999,
           34.88699999999999,
           29.782999999999994,
           25.142999999999994,
           20.967000000000002,
           17.255,
           14.007,
           11.222999999999997,
           8.902999999999997,
           7.047,
           5.654999999999999,
           4.726999999999999,
           4.263,
           4.263,
           4.726999999999999,
           5.654999999999998,
           7.047,
           8.902999999999997,
           11.223,
           14.007,
           17.254999999999995,
           20.967000000000002,
           25.142999999999994,
           29.782999999999983,
           34.88699999999999,
           40.45499999999999,
           46.48699999999998,
           52.983
          ],
          [
           237.50462962962973,
           207.43055555555563,
           179.50462962962968,
           153.72685185185193,
           130.09722222222229,
           108.61574074074078,
           89.28240740740746,
           72.09722222222226,
           57.060185185185205,
           44.171296296296305,
           33.43055555555556,
           24.837962962962976,
           18.393518518518526,
           14.097222222222225,
           11.949074074074078,
           11.949074074074078,
           14.097222222222225,
           18.393518518518515,
           24.837962962962976,
           33.43055555555556,
           44.171296296296326,
           57.060185185185205,
           72.09722222222223,
           89.28240740740746,
           108.61574074074078,
           130.09722222222223,
           153.72685185185193,
           179.50462962962968,
           207.43055555555557,
           237.50462962962973
          ],
          [
           6202.374999999963,
           5390.374999999968,
           4636.374999999972,
           3940.3749999999773,
           3302.374999999981,
           2722.3749999999836,
           2200.3749999999877,
           1736.3749999999902,
           1330.3749999999923,
           982.3749999999942,
           692.3749999999959,
           460.3749999999976,
           286.3749999999985,
           170.37499999999918,
           112.37499999999957,
           112.37499999999957,
           170.37499999999918,
           286.3749999999983,
           460.3749999999976,
           692.3749999999959,
           982.3749999999948,
           1330.3749999999923,
           1736.3749999999895,
           2200.3749999999877,
           2722.3749999999836,
           3302.3749999999795,
           3940.3749999999773,
           4636.374999999972,
           5390.374999999966,
           6202.374999999963
          ],
          [
           -5992.124999999964,
           -5180.124999999969,
           -4426.124999999973,
           -3730.124999999978,
           -3092.124999999982,
           -2512.1249999999845,
           -1990.1249999999884,
           -1526.124999999991,
           -1120.1249999999932,
           -772.1249999999951,
           -482.12499999999676,
           -250.12499999999844,
           -76.12499999999936,
           39.87499999999999,
           97.87499999999959,
           97.87499999999959,
           39.87499999999999,
           -76.12499999999912,
           -250.12499999999844,
           -482.12499999999676,
           -772.1249999999956,
           -1120.1249999999932,
           -1526.1249999999902,
           -1990.1249999999884,
           -2512.1249999999845,
           -3092.1249999999804,
           -3730.124999999978,
           -4426.124999999973,
           -5180.124999999967,
           -5992.124999999964
          ],
          [
           -214.1435185185186,
           -184.0694444444445,
           -156.14351851851856,
           -130.36574074074082,
           -106.73611111111117,
           -85.25462962962966,
           -65.92129629629635,
           -48.73611111111114,
           -33.69907407407409,
           -20.81018518518519,
           -10.069444444444445,
           -1.476851851851859,
           4.967592592592592,
           9.263888888888891,
           11.412037037037038,
           11.412037037037038,
           9.263888888888891,
           4.9675925925926006,
           -1.476851851851859,
           -10.069444444444445,
           -20.810185185185208,
           -33.69907407407409,
           -48.736111111111114,
           -65.92129629629635,
           -85.25462962962966,
           -106.73611111111111,
           -130.36574074074082,
           -156.14351851851856,
           -184.06944444444446,
           -214.1435185185186
          ],
          [
           -44.57300000000008,
           -38.07700000000007,
           -32.04500000000005,
           -26.477000000000054,
           -21.373000000000044,
           -16.73300000000003,
           -12.557000000000029,
           -8.84500000000002,
           -5.597000000000013,
           -2.8130000000000064,
           -0.49300000000000216,
           1.3629999999999989,
           2.755000000000002,
           3.6830000000000043,
           4.147000000000005,
           4.147000000000005,
           3.6830000000000043,
           2.7550000000000043,
           1.3629999999999989,
           -0.49300000000000216,
           -2.8130000000000104,
           -5.597000000000013,
           -8.845000000000015,
           -12.557000000000029,
           -16.73300000000003,
           -21.37300000000003,
           -26.477000000000054,
           -32.04500000000005,
           -38.077000000000055,
           -44.57300000000008
          ],
          [
           -15.63083090379008,
           -13.26348396501457,
           -11.065233236151595,
           -9.036078717201164,
           -7.176020408163263,
           -5.485058309037898,
           -3.9631924198250723,
           -2.6104227405247804,
           -1.4267492711370255,
           -0.41217201166180667,
           0.4333090379008752,
           1.10969387755102,
           1.6169825072886292,
           1.9551749271137022,
           2.1242711370262386,
           2.1242711370262386,
           1.9551749271137022,
           1.6169825072886301,
           1.10969387755102,
           0.4333090379008752,
           -0.41217201166180817,
           -1.4267492711370255,
           -2.6104227405247786,
           -3.9631924198250723,
           -5.485058309037898,
           -7.176020408163259,
           -9.036078717201164,
           -11.065233236151595,
           -13.263483965014567,
           -15.63083090379008
          ],
          [
           -7.0660150891632405,
           -5.952160493827163,
           -4.917866941015091,
           -3.963134430727026,
           -3.087962962962965,
           -2.292352537722909,
           -1.5763031550068605,
           -0.9398148148148159,
           -0.38288751714677693,
           0.09447873799725653,
           0.4922839506172842,
           0.8105281207133059,
           1.0492112482853224,
           1.2083333333333337,
           1.2878943758573391,
           1.2878943758573391,
           1.2083333333333337,
           1.049211248285323,
           0.8105281207133059,
           0.4922839506172842,
           0.09447873799725584,
           -0.38288751714677693,
           -0.9398148148148149,
           -1.5763031550068605,
           -2.292352537722909,
           -3.0879629629629632,
           -3.963134430727026,
           -4.917866941015091,
           -5.9521604938271615,
           -7.0660150891632405
          ],
          [
           -3.71215251690458,
           -3.1020848985724996,
           -2.5355935386927095,
           -2.012678437265213,
           -1.5333395942900065,
           -1.0975770097670914,
           -0.7053906836964685,
           -0.3567806160781365,
           -0.051746806912095995,
           0.20971074380165305,
           0.42759203606311047,
           0.6018970698722762,
           0.7326258452291506,
           0.8197783621337337,
           0.8633546205860251,
           0.8633546205860251,
           0.8197783621337337,
           0.7326258452291509,
           0.6018970698722762,
           0.42759203606311047,
           0.20971074380165267,
           -0.051746806912095995,
           -0.356780616078136,
           -0.7053906836964685,
           -1.0975770097670914,
           -1.5333395942900054,
           -2.012678437265213,
           -2.5355935386927095,
           -3.1020848985724987,
           -3.71215251690458
          ],
          [
           -2.1532203004096493,
           -1.7836253982703685,
           -1.4404301319981787,
           -1.1236345015930815,
           -0.8332385070550752,
           -0.5692421483841601,
           -0.33164542558033705,
           -0.12044833864360502,
           0.06434911242603546,
           0.22274692762858447,
           0.35474510696404193,
           0.4603436504324077,
           0.5395425580336822,
           0.5923418297678652,
           0.6187414656349567,
           0.6187414656349567,
           0.5923418297678652,
           0.5395425580336823,
           0.4603436504324077,
           0.35474510696404193,
           0.22274692762858425,
           0.06434911242603546,
           -0.1204483386436047,
           -0.33164542558033705,
           -0.5692421483841601,
           -0.8332385070550745,
           -1.1236345015930815,
           -1.4404301319981787,
           -1.7836253982703678,
           -2.1532203004096493
          ],
          [
           -1.339370370370371,
           -1.0987777777777783,
           -0.8753703703703705,
           -0.6691481481481486,
           -0.48011111111111143,
           -0.3082592592592594,
           -0.1535925925925929,
           -0.016111111111111267,
           0.10418518518518512,
           0.20729629629629634,
           0.29322222222222233,
           0.361962962962963,
           0.41351851851851856,
           0.44788888888888895,
           0.4650740740740742,
           0.4650740740740742,
           0.44788888888888895,
           0.4135185185185187,
           0.361962962962963,
           0.29322222222222233,
           0.20729629629629617,
           0.10418518518518512,
           -0.016111111111111066,
           -0.1535925925925929,
           -0.3082592592592594,
           -0.48011111111111104,
           -0.6691481481481486,
           -0.8753703703703705,
           -1.0987777777777779,
           -1.339370370370371
          ],
          [
           -0.877289843272949,
           -0.7120140443720738,
           -0.5585436596784038,
           -0.41687868919193966,
           -0.28701913291268055,
           -0.16896499084062677,
           -0.0627162629757786,
           0.03172705068186441,
           0.11436495013230204,
           0.1851974353755343,
           0.24422450641156115,
           0.2914461632403826,
           0.32686240586199866,
           0.3504732342764095,
           0.36227864848361485,
           0.36227864848361485,
           0.3504732342764095,
           0.3268624058619988,
           0.2914461632403826,
           0.24422450641156115,
           0.18519743537553418,
           0.11436495013230204,
           0.03172705068186455,
           -0.0627162629757786,
           -0.16896499084062677,
           -0.2870191329126803,
           -0.41687868919193966,
           -0.5585436596784038,
           -0.7120140443720735,
           -0.877289843272949
          ],
          [
           -0.5977365505175682,
           -0.47935194634786416,
           -0.36942338533313884,
           -0.2679508674733927,
           -0.17493439276862524,
           -0.09037396121883655,
           -0.01426957282402692,
           0.05337877241580401,
           0.11257107450065605,
           0.16330733343052925,
           0.20558754920542358,
           0.23941172182533899,
           0.26477985129027554,
           0.2816919376002333,
           0.29014798075521214,
           0.29014798075521214,
           0.2816919376002333,
           0.2647798512902756,
           0.23941172182533899,
           0.20558754920542358,
           0.16330733343052917,
           0.11257107450065605,
           0.053378772415804104,
           -0.01426957282402692,
           -0.09037396121883655,
           -0.17493439276862505,
           -0.2679508674733927,
           -0.36942338533313884,
           -0.47935194634786393,
           -0.5977365505175682
          ],
          [
           -0.4200005398984993,
           -0.33232102364755445,
           -0.2509043299859627,
           -0.17575045891372437,
           -0.10685941043083912,
           -0.04423118453730702,
           0.012134218766871737,
           0.06223679948169741,
           0.10607655760716986,
           0.1436534931432891,
           0.17496760609005513,
           0.20001889644746793,
           0.21880736421552752,
           0.23133300939423396,
           0.23759583198358716,
           0.23759583198358716,
           0.23133300939423396,
           0.21880736421552757,
           0.20001889644746793,
           0.17496760609005513,
           0.14365349314328904,
           0.10607655760716986,
           0.062236799481697476,
           0.012134218766871737,
           -0.04423118453730702,
           -0.10685941043083898,
           -0.17575045891372437,
           -0.2509043299859627,
           -0.3323210236475543,
           -0.4200005398984993
          ],
          [
           -0.3024060984630557,
           -0.23566820087120896,
           -0.17369729596449401,
           -0.11649338374291116,
           -0.0640564642064601,
           -0.016386537355140927,
           0.026516396811046228,
           0.06465233829210155,
           0.09802128708802496,
           0.12662324319881646,
           0.15045820662447604,
           0.16952617736500367,
           0.1838271554203994,
           0.19336114079066324,
           0.19812813347579517,
           0.19812813347579517,
           0.19336114079066324,
           0.18382715542039943,
           0.16952617736500367,
           0.15045820662447604,
           0.12662324319881643,
           0.09802128708802496,
           0.06465233829210161,
           0.026516396811046228,
           -0.016386537355140927,
           -0.06405646420646,
           -0.11649338374291116,
           -0.17369729596449401,
           -0.23566820087120885,
           -0.3024060984630557
          ],
          [
           -0.22202400000000005,
           -0.17005600000000004,
           -0.12179999999999998,
           -0.07725600000000006,
           -0.03642400000000004,
           0.0006960000000000023,
           0.03410399999999996,
           0.06379999999999998,
           0.089784,
           0.11205600000000002,
           0.13061600000000004,
           0.145464,
           0.15660000000000002,
           0.16402400000000003,
           0.16773600000000002,
           0.16773600000000002,
           0.16402400000000003,
           0.15660000000000004,
           0.145464,
           0.13061600000000004,
           0.112056,
           0.089784,
           0.06380000000000002,
           0.03410399999999996,
           0.0006960000000000023,
           -0.03642399999999995,
           -0.07725600000000006,
           -0.12179999999999998,
           -0.17005599999999996,
           -0.22202400000000005
          ],
          [
           -0.16556800284509485,
           -0.12431412894375865,
           -0.08600696032108929,
           -0.0506464969770869,
           -0.018232738911751305,
           0.011234313874917435,
           0.03775466138291923,
           0.06132830361225422,
           0.08195524056292233,
           0.09963547223492357,
           0.11436899862825793,
           0.1261558197429254,
           0.134995935578926,
           0.14088934613625975,
           0.14383605141492664,
           0.14383605141492664,
           0.14088934613625975,
           0.13499593557892603,
           0.1261558197429254,
           0.11436899862825793,
           0.09963547223492354,
           0.08195524056292233,
           0.061328303612254255,
           0.03775466138291923,
           0.011234313874917435,
           -0.018232738911751235,
           -0.0506464969770869,
           -0.08600696032108929,
           -0.12431412894375858,
           -0.16556800284509485
          ],
          [
           -0.125,
           -0.09170630202140309,
           -0.060790725326991646,
           -0.032253269916765775,
           -0.006093935790725341,
           0.017687277051129616,
           0.039090368608799025,
           0.058115338882282985,
           0.07476218787158145,
           0.08903091557669442,
           0.10092152199762189,
           0.11043400713436385,
           0.11756837098692033,
           0.12232461355529133,
           0.12470273483947682,
           0.12470273483947682,
           0.12232461355529133,
           0.11756837098692034,
           0.11043400713436385,
           0.10092152199762189,
           0.0890309155766944,
           0.07476218787158145,
           0.05811533888228301,
           0.039090368608799025,
           0.017687277051129616,
           -0.006093935790725286,
           -0.032253269916765775,
           -0.060790725326991646,
           -0.09170630202140304,
           -0.125
          ]
         ]
        }
       ],
       "layout": {
        "autosize": false,
        "height": 500,
        "margin": {
         "b": 65,
         "l": 65,
         "r": 50,
         "t": 90
        },
        "template": {
         "data": {
          "bar": [
           {
            "error_x": {
             "color": "#2a3f5f"
            },
            "error_y": {
             "color": "#2a3f5f"
            },
            "marker": {
             "line": {
              "color": "#E5ECF6",
              "width": 0.5
             },
             "pattern": {
              "fillmode": "overlay",
              "size": 10,
              "solidity": 0.2
             }
            },
            "type": "bar"
           }
          ],
          "barpolar": [
           {
            "marker": {
             "line": {
              "color": "#E5ECF6",
              "width": 0.5
             },
             "pattern": {
              "fillmode": "overlay",
              "size": 10,
              "solidity": 0.2
             }
            },
            "type": "barpolar"
           }
          ],
          "carpet": [
           {
            "aaxis": {
             "endlinecolor": "#2a3f5f",
             "gridcolor": "white",
             "linecolor": "white",
             "minorgridcolor": "white",
             "startlinecolor": "#2a3f5f"
            },
            "baxis": {
             "endlinecolor": "#2a3f5f",
             "gridcolor": "white",
             "linecolor": "white",
             "minorgridcolor": "white",
             "startlinecolor": "#2a3f5f"
            },
            "type": "carpet"
           }
          ],
          "choropleth": [
           {
            "colorbar": {
             "outlinewidth": 0,
             "ticks": ""
            },
            "type": "choropleth"
           }
          ],
          "contour": [
           {
            "colorbar": {
             "outlinewidth": 0,
             "ticks": ""
            },
            "colorscale": [
             [
              0,
              "#0d0887"
             ],
             [
              0.1111111111111111,
              "#46039f"
             ],
             [
              0.2222222222222222,
              "#7201a8"
             ],
             [
              0.3333333333333333,
              "#9c179e"
             ],
             [
              0.4444444444444444,
              "#bd3786"
             ],
             [
              0.5555555555555556,
              "#d8576b"
             ],
             [
              0.6666666666666666,
              "#ed7953"
             ],
             [
              0.7777777777777778,
              "#fb9f3a"
             ],
             [
              0.8888888888888888,
              "#fdca26"
             ],
             [
              1,
              "#f0f921"
             ]
            ],
            "type": "contour"
           }
          ],
          "contourcarpet": [
           {
            "colorbar": {
             "outlinewidth": 0,
             "ticks": ""
            },
            "type": "contourcarpet"
           }
          ],
          "heatmap": [
           {
            "colorbar": {
             "outlinewidth": 0,
             "ticks": ""
            },
            "colorscale": [
             [
              0,
              "#0d0887"
             ],
             [
              0.1111111111111111,
              "#46039f"
             ],
             [
              0.2222222222222222,
              "#7201a8"
             ],
             [
              0.3333333333333333,
              "#9c179e"
             ],
             [
              0.4444444444444444,
              "#bd3786"
             ],
             [
              0.5555555555555556,
              "#d8576b"
             ],
             [
              0.6666666666666666,
              "#ed7953"
             ],
             [
              0.7777777777777778,
              "#fb9f3a"
             ],
             [
              0.8888888888888888,
              "#fdca26"
             ],
             [
              1,
              "#f0f921"
             ]
            ],
            "type": "heatmap"
           }
          ],
          "heatmapgl": [
           {
            "colorbar": {
             "outlinewidth": 0,
             "ticks": ""
            },
            "colorscale": [
             [
              0,
              "#0d0887"
             ],
             [
              0.1111111111111111,
              "#46039f"
             ],
             [
              0.2222222222222222,
              "#7201a8"
             ],
             [
              0.3333333333333333,
              "#9c179e"
             ],
             [
              0.4444444444444444,
              "#bd3786"
             ],
             [
              0.5555555555555556,
              "#d8576b"
             ],
             [
              0.6666666666666666,
              "#ed7953"
             ],
             [
              0.7777777777777778,
              "#fb9f3a"
             ],
             [
              0.8888888888888888,
              "#fdca26"
             ],
             [
              1,
              "#f0f921"
             ]
            ],
            "type": "heatmapgl"
           }
          ],
          "histogram": [
           {
            "marker": {
             "pattern": {
              "fillmode": "overlay",
              "size": 10,
              "solidity": 0.2
             }
            },
            "type": "histogram"
           }
          ],
          "histogram2d": [
           {
            "colorbar": {
             "outlinewidth": 0,
             "ticks": ""
            },
            "colorscale": [
             [
              0,
              "#0d0887"
             ],
             [
              0.1111111111111111,
              "#46039f"
             ],
             [
              0.2222222222222222,
              "#7201a8"
             ],
             [
              0.3333333333333333,
              "#9c179e"
             ],
             [
              0.4444444444444444,
              "#bd3786"
             ],
             [
              0.5555555555555556,
              "#d8576b"
             ],
             [
              0.6666666666666666,
              "#ed7953"
             ],
             [
              0.7777777777777778,
              "#fb9f3a"
             ],
             [
              0.8888888888888888,
              "#fdca26"
             ],
             [
              1,
              "#f0f921"
             ]
            ],
            "type": "histogram2d"
           }
          ],
          "histogram2dcontour": [
           {
            "colorbar": {
             "outlinewidth": 0,
             "ticks": ""
            },
            "colorscale": [
             [
              0,
              "#0d0887"
             ],
             [
              0.1111111111111111,
              "#46039f"
             ],
             [
              0.2222222222222222,
              "#7201a8"
             ],
             [
              0.3333333333333333,
              "#9c179e"
             ],
             [
              0.4444444444444444,
              "#bd3786"
             ],
             [
              0.5555555555555556,
              "#d8576b"
             ],
             [
              0.6666666666666666,
              "#ed7953"
             ],
             [
              0.7777777777777778,
              "#fb9f3a"
             ],
             [
              0.8888888888888888,
              "#fdca26"
             ],
             [
              1,
              "#f0f921"
             ]
            ],
            "type": "histogram2dcontour"
           }
          ],
          "mesh3d": [
           {
            "colorbar": {
             "outlinewidth": 0,
             "ticks": ""
            },
            "type": "mesh3d"
           }
          ],
          "parcoords": [
           {
            "line": {
             "colorbar": {
              "outlinewidth": 0,
              "ticks": ""
             }
            },
            "type": "parcoords"
           }
          ],
          "pie": [
           {
            "automargin": true,
            "type": "pie"
           }
          ],
          "scatter": [
           {
            "fillpattern": {
             "fillmode": "overlay",
             "size": 10,
             "solidity": 0.2
            },
            "type": "scatter"
           }
          ],
          "scatter3d": [
           {
            "line": {
             "colorbar": {
              "outlinewidth": 0,
              "ticks": ""
             }
            },
            "marker": {
             "colorbar": {
              "outlinewidth": 0,
              "ticks": ""
             }
            },
            "type": "scatter3d"
           }
          ],
          "scattercarpet": [
           {
            "marker": {
             "colorbar": {
              "outlinewidth": 0,
              "ticks": ""
             }
            },
            "type": "scattercarpet"
           }
          ],
          "scattergeo": [
           {
            "marker": {
             "colorbar": {
              "outlinewidth": 0,
              "ticks": ""
             }
            },
            "type": "scattergeo"
           }
          ],
          "scattergl": [
           {
            "marker": {
             "colorbar": {
              "outlinewidth": 0,
              "ticks": ""
             }
            },
            "type": "scattergl"
           }
          ],
          "scattermapbox": [
           {
            "marker": {
             "colorbar": {
              "outlinewidth": 0,
              "ticks": ""
             }
            },
            "type": "scattermapbox"
           }
          ],
          "scatterpolar": [
           {
            "marker": {
             "colorbar": {
              "outlinewidth": 0,
              "ticks": ""
             }
            },
            "type": "scatterpolar"
           }
          ],
          "scatterpolargl": [
           {
            "marker": {
             "colorbar": {
              "outlinewidth": 0,
              "ticks": ""
             }
            },
            "type": "scatterpolargl"
           }
          ],
          "scatterternary": [
           {
            "marker": {
             "colorbar": {
              "outlinewidth": 0,
              "ticks": ""
             }
            },
            "type": "scatterternary"
           }
          ],
          "surface": [
           {
            "colorbar": {
             "outlinewidth": 0,
             "ticks": ""
            },
            "colorscale": [
             [
              0,
              "#0d0887"
             ],
             [
              0.1111111111111111,
              "#46039f"
             ],
             [
              0.2222222222222222,
              "#7201a8"
             ],
             [
              0.3333333333333333,
              "#9c179e"
             ],
             [
              0.4444444444444444,
              "#bd3786"
             ],
             [
              0.5555555555555556,
              "#d8576b"
             ],
             [
              0.6666666666666666,
              "#ed7953"
             ],
             [
              0.7777777777777778,
              "#fb9f3a"
             ],
             [
              0.8888888888888888,
              "#fdca26"
             ],
             [
              1,
              "#f0f921"
             ]
            ],
            "type": "surface"
           }
          ],
          "table": [
           {
            "cells": {
             "fill": {
              "color": "#EBF0F8"
             },
             "line": {
              "color": "white"
             }
            },
            "header": {
             "fill": {
              "color": "#C8D4E3"
             },
             "line": {
              "color": "white"
             }
            },
            "type": "table"
           }
          ]
         },
         "layout": {
          "annotationdefaults": {
           "arrowcolor": "#2a3f5f",
           "arrowhead": 0,
           "arrowwidth": 1
          },
          "autotypenumbers": "strict",
          "coloraxis": {
           "colorbar": {
            "outlinewidth": 0,
            "ticks": ""
           }
          },
          "colorscale": {
           "diverging": [
            [
             0,
             "#8e0152"
            ],
            [
             0.1,
             "#c51b7d"
            ],
            [
             0.2,
             "#de77ae"
            ],
            [
             0.3,
             "#f1b6da"
            ],
            [
             0.4,
             "#fde0ef"
            ],
            [
             0.5,
             "#f7f7f7"
            ],
            [
             0.6,
             "#e6f5d0"
            ],
            [
             0.7,
             "#b8e186"
            ],
            [
             0.8,
             "#7fbc41"
            ],
            [
             0.9,
             "#4d9221"
            ],
            [
             1,
             "#276419"
            ]
           ],
           "sequential": [
            [
             0,
             "#0d0887"
            ],
            [
             0.1111111111111111,
             "#46039f"
            ],
            [
             0.2222222222222222,
             "#7201a8"
            ],
            [
             0.3333333333333333,
             "#9c179e"
            ],
            [
             0.4444444444444444,
             "#bd3786"
            ],
            [
             0.5555555555555556,
             "#d8576b"
            ],
            [
             0.6666666666666666,
             "#ed7953"
            ],
            [
             0.7777777777777778,
             "#fb9f3a"
            ],
            [
             0.8888888888888888,
             "#fdca26"
            ],
            [
             1,
             "#f0f921"
            ]
           ],
           "sequentialminus": [
            [
             0,
             "#0d0887"
            ],
            [
             0.1111111111111111,
             "#46039f"
            ],
            [
             0.2222222222222222,
             "#7201a8"
            ],
            [
             0.3333333333333333,
             "#9c179e"
            ],
            [
             0.4444444444444444,
             "#bd3786"
            ],
            [
             0.5555555555555556,
             "#d8576b"
            ],
            [
             0.6666666666666666,
             "#ed7953"
            ],
            [
             0.7777777777777778,
             "#fb9f3a"
            ],
            [
             0.8888888888888888,
             "#fdca26"
            ],
            [
             1,
             "#f0f921"
            ]
           ]
          },
          "colorway": [
           "#636efa",
           "#EF553B",
           "#00cc96",
           "#ab63fa",
           "#FFA15A",
           "#19d3f3",
           "#FF6692",
           "#B6E880",
           "#FF97FF",
           "#FECB52"
          ],
          "font": {
           "color": "#2a3f5f"
          },
          "geo": {
           "bgcolor": "white",
           "lakecolor": "white",
           "landcolor": "#E5ECF6",
           "showlakes": true,
           "showland": true,
           "subunitcolor": "white"
          },
          "hoverlabel": {
           "align": "left"
          },
          "hovermode": "closest",
          "mapbox": {
           "style": "light"
          },
          "paper_bgcolor": "white",
          "plot_bgcolor": "#E5ECF6",
          "polar": {
           "angularaxis": {
            "gridcolor": "white",
            "linecolor": "white",
            "ticks": ""
           },
           "bgcolor": "#E5ECF6",
           "radialaxis": {
            "gridcolor": "white",
            "linecolor": "white",
            "ticks": ""
           }
          },
          "scene": {
           "xaxis": {
            "backgroundcolor": "#E5ECF6",
            "gridcolor": "white",
            "gridwidth": 2,
            "linecolor": "white",
            "showbackground": true,
            "ticks": "",
            "zerolinecolor": "white"
           },
           "yaxis": {
            "backgroundcolor": "#E5ECF6",
            "gridcolor": "white",
            "gridwidth": 2,
            "linecolor": "white",
            "showbackground": true,
            "ticks": "",
            "zerolinecolor": "white"
           },
           "zaxis": {
            "backgroundcolor": "#E5ECF6",
            "gridcolor": "white",
            "gridwidth": 2,
            "linecolor": "white",
            "showbackground": true,
            "ticks": "",
            "zerolinecolor": "white"
           }
          },
          "shapedefaults": {
           "line": {
            "color": "#2a3f5f"
           }
          },
          "ternary": {
           "aaxis": {
            "gridcolor": "white",
            "linecolor": "white",
            "ticks": ""
           },
           "baxis": {
            "gridcolor": "white",
            "linecolor": "white",
            "ticks": ""
           },
           "bgcolor": "#E5ECF6",
           "caxis": {
            "gridcolor": "white",
            "linecolor": "white",
            "ticks": ""
           }
          },
          "title": {
           "x": 0.05
          },
          "xaxis": {
           "automargin": true,
           "gridcolor": "white",
           "linecolor": "white",
           "ticks": "",
           "title": {
            "standoff": 15
           },
           "zerolinecolor": "white",
           "zerolinewidth": 2
          },
          "yaxis": {
           "automargin": true,
           "gridcolor": "white",
           "linecolor": "white",
           "ticks": "",
           "title": {
            "standoff": 15
           },
           "zerolinecolor": "white",
           "zerolinewidth": 2
          }
         }
        },
        "title": {
         "text": ""
        },
        "width": 500
       }
      }
     },
     "metadata": {},
     "output_type": "display_data"
    }
   ],
   "source": [
    "\n",
    "\n",
    "def g_common(mean, var):\n",
    "    return np.array([[1/var, 0], [0, 1/2/var**2]])\n",
    "\n",
    "def g_theta(theta_1, theta_2):\n",
    "    return - 1/2/theta_1**3 * np.array([[theta_2**2 - theta_1, -theta_1*theta_2], [-theta_2*theta_1, theta_1]])\n",
    "\n",
    "\n",
    "def create_z(x, y, func):\n",
    "    z = np.zeros((len(x), len(y)))\n",
    "    for i in range(len(x)):\n",
    "        for j in range(len(y)):\n",
    "            z[i, j] = func(x[i], y[j])\n",
    "    return z\n",
    "\n",
    "def fig_scalar_3d(x, y, z, title=\"\"):\n",
    "    fig = go.Figure(data=[go.Surface(z=z, x=x, y=y)])\n",
    "    fig.update_layout(title=title, autosize=False,\n",
    "                    width=500, height=500,\n",
    "                    margin=dict(l=65, r=50, b=65, t=90))\n",
    "    return fig\n",
    "\n",
    "\n",
    "x, y = np.linspace(-2, 2, 30), np.linspace(-2, 2, 30)\n",
    "z_common_00 = create_z(x, y, lambda x, y: g_common(x,y)[0,0])\n",
    "z_common_11 = create_z(x, y, lambda x, y: g_common(x,y)[0,0])\n",
    "z_theta_00 = create_z(x, y, lambda x, y: g_theta(x,y)[0,0])\n",
    "z_theta_11 = create_z(x, y, lambda x, y: g_theta(x,y)[0,0])\n",
    "\n",
    "\n",
    "fig_scalar_3d(x,y,z_common_00).show()\n",
    "fig_scalar_3d(x,y,z_common_11).show()\n",
    "fig_scalar_3d(x,y,z_theta_00).show()\n",
    "fig_scalar_3d(x,y,z_theta_11).show()\n"
   ]
  },
  {
   "cell_type": "code",
   "execution_count": 14,
   "metadata": {},
   "outputs": [
    {
     "data": {
      "text/html": [
       "<div>\n",
       "<style scoped>\n",
       "    .dataframe tbody tr th:only-of-type {\n",
       "        vertical-align: middle;\n",
       "    }\n",
       "\n",
       "    .dataframe tbody tr th {\n",
       "        vertical-align: top;\n",
       "    }\n",
       "\n",
       "    .dataframe thead th {\n",
       "        text-align: right;\n",
       "    }\n",
       "</style>\n",
       "<table border=\"1\" class=\"dataframe\">\n",
       "  <thead>\n",
       "    <tr style=\"text-align: right;\">\n",
       "      <th></th>\n",
       "      <th>Unnamed: 0</th>\n",
       "      <th>0</th>\n",
       "      <th>1</th>\n",
       "      <th>2</th>\n",
       "      <th>3</th>\n",
       "      <th>4</th>\n",
       "      <th>5</th>\n",
       "      <th>6</th>\n",
       "      <th>7</th>\n",
       "      <th>8</th>\n",
       "      <th>...</th>\n",
       "      <th>14</th>\n",
       "      <th>15</th>\n",
       "      <th>16</th>\n",
       "      <th>17</th>\n",
       "      <th>18</th>\n",
       "      <th>19</th>\n",
       "      <th>20</th>\n",
       "      <th>21</th>\n",
       "      <th>22</th>\n",
       "      <th>23</th>\n",
       "    </tr>\n",
       "  </thead>\n",
       "  <tbody>\n",
       "    <tr>\n",
       "      <th>0</th>\n",
       "      <td>0</td>\n",
       "      <td>27.809850</td>\n",
       "      <td>49.61936</td>\n",
       "      <td>83.080670</td>\n",
       "      <td>116.66320</td>\n",
       "      <td>130.41400</td>\n",
       "      <td>150.72060</td>\n",
       "      <td>220.1871</td>\n",
       "      <td>156.1536</td>\n",
       "      <td>148.6416</td>\n",
       "      <td>...</td>\n",
       "      <td>49.96142</td>\n",
       "      <td>21.89279</td>\n",
       "      <td>17.02552</td>\n",
       "      <td>11.743170</td>\n",
       "      <td>14.752260</td>\n",
       "      <td>13.667100</td>\n",
       "      <td>5.677561</td>\n",
       "      <td>3.312340</td>\n",
       "      <td>1.156517</td>\n",
       "      <td>-0.147662</td>\n",
       "    </tr>\n",
       "    <tr>\n",
       "      <th>1</th>\n",
       "      <td>1</td>\n",
       "      <td>27.719660</td>\n",
       "      <td>48.55022</td>\n",
       "      <td>65.213740</td>\n",
       "      <td>95.27666</td>\n",
       "      <td>116.99640</td>\n",
       "      <td>133.90560</td>\n",
       "      <td>152.3412</td>\n",
       "      <td>151.9340</td>\n",
       "      <td>160.1139</td>\n",
       "      <td>...</td>\n",
       "      <td>33.08871</td>\n",
       "      <td>38.40972</td>\n",
       "      <td>44.24843</td>\n",
       "      <td>69.578600</td>\n",
       "      <td>4.019351</td>\n",
       "      <td>3.050024</td>\n",
       "      <td>3.039719</td>\n",
       "      <td>2.996142</td>\n",
       "      <td>2.967954</td>\n",
       "      <td>1.999594</td>\n",
       "    </tr>\n",
       "    <tr>\n",
       "      <th>2</th>\n",
       "      <td>2</td>\n",
       "      <td>30.426700</td>\n",
       "      <td>33.47752</td>\n",
       "      <td>44.809530</td>\n",
       "      <td>62.47495</td>\n",
       "      <td>77.43523</td>\n",
       "      <td>104.21530</td>\n",
       "      <td>102.7393</td>\n",
       "      <td>137.0004</td>\n",
       "      <td>186.0706</td>\n",
       "      <td>...</td>\n",
       "      <td>48.47132</td>\n",
       "      <td>74.71461</td>\n",
       "      <td>60.09090</td>\n",
       "      <td>7.073525</td>\n",
       "      <td>6.089851</td>\n",
       "      <td>6.537450</td>\n",
       "      <td>6.666096</td>\n",
       "      <td>7.306965</td>\n",
       "      <td>5.736840</td>\n",
       "      <td>3.625628</td>\n",
       "    </tr>\n",
       "    <tr>\n",
       "      <th>3</th>\n",
       "      <td>3</td>\n",
       "      <td>16.665490</td>\n",
       "      <td>30.10860</td>\n",
       "      <td>39.969520</td>\n",
       "      <td>44.12225</td>\n",
       "      <td>59.57512</td>\n",
       "      <td>77.56929</td>\n",
       "      <td>106.8925</td>\n",
       "      <td>166.5539</td>\n",
       "      <td>175.2381</td>\n",
       "      <td>...</td>\n",
       "      <td>60.55916</td>\n",
       "      <td>55.92124</td>\n",
       "      <td>15.17284</td>\n",
       "      <td>8.248324</td>\n",
       "      <td>36.680870</td>\n",
       "      <td>61.934130</td>\n",
       "      <td>20.268670</td>\n",
       "      <td>68.588190</td>\n",
       "      <td>46.498120</td>\n",
       "      <td>0.236010</td>\n",
       "    </tr>\n",
       "    <tr>\n",
       "      <th>4</th>\n",
       "      <td>4</td>\n",
       "      <td>8.815617</td>\n",
       "      <td>18.35160</td>\n",
       "      <td>8.658275</td>\n",
       "      <td>27.58590</td>\n",
       "      <td>48.62691</td>\n",
       "      <td>60.18013</td>\n",
       "      <td>91.3286</td>\n",
       "      <td>145.7109</td>\n",
       "      <td>116.0653</td>\n",
       "      <td>...</td>\n",
       "      <td>47.42691</td>\n",
       "      <td>69.20731</td>\n",
       "      <td>44.95468</td>\n",
       "      <td>29.171970</td>\n",
       "      <td>17.916740</td>\n",
       "      <td>16.255150</td>\n",
       "      <td>14.655590</td>\n",
       "      <td>17.260480</td>\n",
       "      <td>31.222450</td>\n",
       "      <td>46.717040</td>\n",
       "    </tr>\n",
       "  </tbody>\n",
       "</table>\n",
       "<p>5 rows × 25 columns</p>\n",
       "</div>"
      ],
      "text/plain": [
       "   Unnamed: 0          0         1          2          3          4  \\\n",
       "0           0  27.809850  49.61936  83.080670  116.66320  130.41400   \n",
       "1           1  27.719660  48.55022  65.213740   95.27666  116.99640   \n",
       "2           2  30.426700  33.47752  44.809530   62.47495   77.43523   \n",
       "3           3  16.665490  30.10860  39.969520   44.12225   59.57512   \n",
       "4           4   8.815617  18.35160   8.658275   27.58590   48.62691   \n",
       "\n",
       "           5         6         7         8  ...        14        15        16  \\\n",
       "0  150.72060  220.1871  156.1536  148.6416  ...  49.96142  21.89279  17.02552   \n",
       "1  133.90560  152.3412  151.9340  160.1139  ...  33.08871  38.40972  44.24843   \n",
       "2  104.21530  102.7393  137.0004  186.0706  ...  48.47132  74.71461  60.09090   \n",
       "3   77.56929  106.8925  166.5539  175.2381  ...  60.55916  55.92124  15.17284   \n",
       "4   60.18013   91.3286  145.7109  116.0653  ...  47.42691  69.20731  44.95468   \n",
       "\n",
       "          17         18         19         20         21         22         23  \n",
       "0  11.743170  14.752260  13.667100   5.677561   3.312340   1.156517  -0.147662  \n",
       "1  69.578600   4.019351   3.050024   3.039719   2.996142   2.967954   1.999594  \n",
       "2   7.073525   6.089851   6.537450   6.666096   7.306965   5.736840   3.625628  \n",
       "3   8.248324  36.680870  61.934130  20.268670  68.588190  46.498120   0.236010  \n",
       "4  29.171970  17.916740  16.255150  14.655590  17.260480  31.222450  46.717040  \n",
       "\n",
       "[5 rows x 25 columns]"
      ]
     },
     "metadata": {},
     "output_type": "display_data"
    }
   ],
   "source": [
    "import pandas as pd\n",
    "z_data = pd.read_csv('https://raw.githubusercontent.com/plotly/datasets/master/api_docs/mt_bruno_elevation.csv')\n",
    "display(z_data.head())"
   ]
  },
  {
   "cell_type": "code",
   "execution_count": 35,
   "metadata": {},
   "outputs": [
    {
     "data": {
      "application/vnd.plotly.v1+json": {
       "config": {
        "plotlyServerURL": "https://plot.ly"
       },
       "data": [
        {
         "type": "surface",
         "x": [
          -2,
          -1.8620689655172413,
          -1.7241379310344827,
          -1.5862068965517242,
          -1.4482758620689655,
          -1.3103448275862069,
          -1.1724137931034484,
          -1.0344827586206897,
          -0.896551724137931,
          -0.7586206896551724,
          -0.6206896551724137,
          -0.48275862068965525,
          -0.3448275862068966,
          -0.2068965517241379,
          -0.06896551724137945,
          0.06896551724137945,
          0.2068965517241379,
          0.34482758620689635,
          0.48275862068965525,
          0.6206896551724137,
          0.7586206896551726,
          0.896551724137931,
          1.0344827586206895,
          1.1724137931034484,
          1.3103448275862069,
          1.4482758620689653,
          1.5862068965517242,
          1.7241379310344827,
          1.862068965517241,
          2
         ],
         "y": [
          -2,
          -1.8620689655172413,
          -1.7241379310344827,
          -1.5862068965517242,
          -1.4482758620689655,
          -1.3103448275862069,
          -1.1724137931034484,
          -1.0344827586206897,
          -0.896551724137931,
          -0.7586206896551724,
          -0.6206896551724137,
          -0.48275862068965525,
          -0.3448275862068966,
          -0.2068965517241379,
          -0.06896551724137945,
          0.06896551724137945,
          0.2068965517241379,
          0.34482758620689635,
          0.48275862068965525,
          0.6206896551724137,
          0.7586206896551726,
          0.896551724137931,
          1.0344827586206895,
          1.1724137931034484,
          1.3103448275862069,
          1.4482758620689653,
          1.5862068965517242,
          1.7241379310344827,
          1.862068965517241,
          2
         ],
         "z": [
          [
           -0.5,
           -0.5370370370370371,
           -0.5800000000000001,
           -0.6304347826086957,
           -0.6904761904761905,
           -0.7631578947368421,
           -0.8529411764705881,
           -0.9666666666666666,
           -1.1153846153846154,
           -1.3181818181818183,
           -1.6111111111111114,
           -2.071428571428571,
           -2.9,
           -4.833333333333334,
           -14.499999999999972,
           14.499999999999972,
           4.833333333333334,
           2.9000000000000017,
           2.071428571428571,
           1.6111111111111114,
           1.318181818181818,
           1.1153846153846154,
           0.9666666666666668,
           0.8529411764705881,
           0.7631578947368421,
           0.6904761904761906,
           0.6304347826086957,
           0.5800000000000001,
           0.5370370370370371,
           0.5
          ],
          [
           -0.5,
           -0.5370370370370371,
           -0.5800000000000001,
           -0.6304347826086957,
           -0.6904761904761905,
           -0.7631578947368421,
           -0.8529411764705881,
           -0.9666666666666666,
           -1.1153846153846154,
           -1.3181818181818183,
           -1.6111111111111114,
           -2.071428571428571,
           -2.9,
           -4.833333333333334,
           -14.499999999999972,
           14.499999999999972,
           4.833333333333334,
           2.9000000000000017,
           2.071428571428571,
           1.6111111111111114,
           1.318181818181818,
           1.1153846153846154,
           0.9666666666666668,
           0.8529411764705881,
           0.7631578947368421,
           0.6904761904761906,
           0.6304347826086957,
           0.5800000000000001,
           0.5370370370370371,
           0.5
          ],
          [
           -0.5,
           -0.5370370370370371,
           -0.5800000000000001,
           -0.6304347826086957,
           -0.6904761904761905,
           -0.7631578947368421,
           -0.8529411764705881,
           -0.9666666666666666,
           -1.1153846153846154,
           -1.3181818181818183,
           -1.6111111111111114,
           -2.071428571428571,
           -2.9,
           -4.833333333333334,
           -14.499999999999972,
           14.499999999999972,
           4.833333333333334,
           2.9000000000000017,
           2.071428571428571,
           1.6111111111111114,
           1.318181818181818,
           1.1153846153846154,
           0.9666666666666668,
           0.8529411764705881,
           0.7631578947368421,
           0.6904761904761906,
           0.6304347826086957,
           0.5800000000000001,
           0.5370370370370371,
           0.5
          ],
          [
           -0.5,
           -0.5370370370370371,
           -0.5800000000000001,
           -0.6304347826086957,
           -0.6904761904761905,
           -0.7631578947368421,
           -0.8529411764705881,
           -0.9666666666666666,
           -1.1153846153846154,
           -1.3181818181818183,
           -1.6111111111111114,
           -2.071428571428571,
           -2.9,
           -4.833333333333334,
           -14.499999999999972,
           14.499999999999972,
           4.833333333333334,
           2.9000000000000017,
           2.071428571428571,
           1.6111111111111114,
           1.318181818181818,
           1.1153846153846154,
           0.9666666666666668,
           0.8529411764705881,
           0.7631578947368421,
           0.6904761904761906,
           0.6304347826086957,
           0.5800000000000001,
           0.5370370370370371,
           0.5
          ],
          [
           -0.5,
           -0.5370370370370371,
           -0.5800000000000001,
           -0.6304347826086957,
           -0.6904761904761905,
           -0.7631578947368421,
           -0.8529411764705881,
           -0.9666666666666666,
           -1.1153846153846154,
           -1.3181818181818183,
           -1.6111111111111114,
           -2.071428571428571,
           -2.9,
           -4.833333333333334,
           -14.499999999999972,
           14.499999999999972,
           4.833333333333334,
           2.9000000000000017,
           2.071428571428571,
           1.6111111111111114,
           1.318181818181818,
           1.1153846153846154,
           0.9666666666666668,
           0.8529411764705881,
           0.7631578947368421,
           0.6904761904761906,
           0.6304347826086957,
           0.5800000000000001,
           0.5370370370370371,
           0.5
          ],
          [
           -0.5,
           -0.5370370370370371,
           -0.5800000000000001,
           -0.6304347826086957,
           -0.6904761904761905,
           -0.7631578947368421,
           -0.8529411764705881,
           -0.9666666666666666,
           -1.1153846153846154,
           -1.3181818181818183,
           -1.6111111111111114,
           -2.071428571428571,
           -2.9,
           -4.833333333333334,
           -14.499999999999972,
           14.499999999999972,
           4.833333333333334,
           2.9000000000000017,
           2.071428571428571,
           1.6111111111111114,
           1.318181818181818,
           1.1153846153846154,
           0.9666666666666668,
           0.8529411764705881,
           0.7631578947368421,
           0.6904761904761906,
           0.6304347826086957,
           0.5800000000000001,
           0.5370370370370371,
           0.5
          ],
          [
           -0.5,
           -0.5370370370370371,
           -0.5800000000000001,
           -0.6304347826086957,
           -0.6904761904761905,
           -0.7631578947368421,
           -0.8529411764705881,
           -0.9666666666666666,
           -1.1153846153846154,
           -1.3181818181818183,
           -1.6111111111111114,
           -2.071428571428571,
           -2.9,
           -4.833333333333334,
           -14.499999999999972,
           14.499999999999972,
           4.833333333333334,
           2.9000000000000017,
           2.071428571428571,
           1.6111111111111114,
           1.318181818181818,
           1.1153846153846154,
           0.9666666666666668,
           0.8529411764705881,
           0.7631578947368421,
           0.6904761904761906,
           0.6304347826086957,
           0.5800000000000001,
           0.5370370370370371,
           0.5
          ],
          [
           -0.5,
           -0.5370370370370371,
           -0.5800000000000001,
           -0.6304347826086957,
           -0.6904761904761905,
           -0.7631578947368421,
           -0.8529411764705881,
           -0.9666666666666666,
           -1.1153846153846154,
           -1.3181818181818183,
           -1.6111111111111114,
           -2.071428571428571,
           -2.9,
           -4.833333333333334,
           -14.499999999999972,
           14.499999999999972,
           4.833333333333334,
           2.9000000000000017,
           2.071428571428571,
           1.6111111111111114,
           1.318181818181818,
           1.1153846153846154,
           0.9666666666666668,
           0.8529411764705881,
           0.7631578947368421,
           0.6904761904761906,
           0.6304347826086957,
           0.5800000000000001,
           0.5370370370370371,
           0.5
          ],
          [
           -0.5,
           -0.5370370370370371,
           -0.5800000000000001,
           -0.6304347826086957,
           -0.6904761904761905,
           -0.7631578947368421,
           -0.8529411764705881,
           -0.9666666666666666,
           -1.1153846153846154,
           -1.3181818181818183,
           -1.6111111111111114,
           -2.071428571428571,
           -2.9,
           -4.833333333333334,
           -14.499999999999972,
           14.499999999999972,
           4.833333333333334,
           2.9000000000000017,
           2.071428571428571,
           1.6111111111111114,
           1.318181818181818,
           1.1153846153846154,
           0.9666666666666668,
           0.8529411764705881,
           0.7631578947368421,
           0.6904761904761906,
           0.6304347826086957,
           0.5800000000000001,
           0.5370370370370371,
           0.5
          ],
          [
           -0.5,
           -0.5370370370370371,
           -0.5800000000000001,
           -0.6304347826086957,
           -0.6904761904761905,
           -0.7631578947368421,
           -0.8529411764705881,
           -0.9666666666666666,
           -1.1153846153846154,
           -1.3181818181818183,
           -1.6111111111111114,
           -2.071428571428571,
           -2.9,
           -4.833333333333334,
           -14.499999999999972,
           14.499999999999972,
           4.833333333333334,
           2.9000000000000017,
           2.071428571428571,
           1.6111111111111114,
           1.318181818181818,
           1.1153846153846154,
           0.9666666666666668,
           0.8529411764705881,
           0.7631578947368421,
           0.6904761904761906,
           0.6304347826086957,
           0.5800000000000001,
           0.5370370370370371,
           0.5
          ],
          [
           -0.5,
           -0.5370370370370371,
           -0.5800000000000001,
           -0.6304347826086957,
           -0.6904761904761905,
           -0.7631578947368421,
           -0.8529411764705881,
           -0.9666666666666666,
           -1.1153846153846154,
           -1.3181818181818183,
           -1.6111111111111114,
           -2.071428571428571,
           -2.9,
           -4.833333333333334,
           -14.499999999999972,
           14.499999999999972,
           4.833333333333334,
           2.9000000000000017,
           2.071428571428571,
           1.6111111111111114,
           1.318181818181818,
           1.1153846153846154,
           0.9666666666666668,
           0.8529411764705881,
           0.7631578947368421,
           0.6904761904761906,
           0.6304347826086957,
           0.5800000000000001,
           0.5370370370370371,
           0.5
          ],
          [
           -0.5,
           -0.5370370370370371,
           -0.5800000000000001,
           -0.6304347826086957,
           -0.6904761904761905,
           -0.7631578947368421,
           -0.8529411764705881,
           -0.9666666666666666,
           -1.1153846153846154,
           -1.3181818181818183,
           -1.6111111111111114,
           -2.071428571428571,
           -2.9,
           -4.833333333333334,
           -14.499999999999972,
           14.499999999999972,
           4.833333333333334,
           2.9000000000000017,
           2.071428571428571,
           1.6111111111111114,
           1.318181818181818,
           1.1153846153846154,
           0.9666666666666668,
           0.8529411764705881,
           0.7631578947368421,
           0.6904761904761906,
           0.6304347826086957,
           0.5800000000000001,
           0.5370370370370371,
           0.5
          ],
          [
           -0.5,
           -0.5370370370370371,
           -0.5800000000000001,
           -0.6304347826086957,
           -0.6904761904761905,
           -0.7631578947368421,
           -0.8529411764705881,
           -0.9666666666666666,
           -1.1153846153846154,
           -1.3181818181818183,
           -1.6111111111111114,
           -2.071428571428571,
           -2.9,
           -4.833333333333334,
           -14.499999999999972,
           14.499999999999972,
           4.833333333333334,
           2.9000000000000017,
           2.071428571428571,
           1.6111111111111114,
           1.318181818181818,
           1.1153846153846154,
           0.9666666666666668,
           0.8529411764705881,
           0.7631578947368421,
           0.6904761904761906,
           0.6304347826086957,
           0.5800000000000001,
           0.5370370370370371,
           0.5
          ],
          [
           -0.5,
           -0.5370370370370371,
           -0.5800000000000001,
           -0.6304347826086957,
           -0.6904761904761905,
           -0.7631578947368421,
           -0.8529411764705881,
           -0.9666666666666666,
           -1.1153846153846154,
           -1.3181818181818183,
           -1.6111111111111114,
           -2.071428571428571,
           -2.9,
           -4.833333333333334,
           -14.499999999999972,
           14.499999999999972,
           4.833333333333334,
           2.9000000000000017,
           2.071428571428571,
           1.6111111111111114,
           1.318181818181818,
           1.1153846153846154,
           0.9666666666666668,
           0.8529411764705881,
           0.7631578947368421,
           0.6904761904761906,
           0.6304347826086957,
           0.5800000000000001,
           0.5370370370370371,
           0.5
          ],
          [
           -0.5,
           -0.5370370370370371,
           -0.5800000000000001,
           -0.6304347826086957,
           -0.6904761904761905,
           -0.7631578947368421,
           -0.8529411764705881,
           -0.9666666666666666,
           -1.1153846153846154,
           -1.3181818181818183,
           -1.6111111111111114,
           -2.071428571428571,
           -2.9,
           -4.833333333333334,
           -14.499999999999972,
           14.499999999999972,
           4.833333333333334,
           2.9000000000000017,
           2.071428571428571,
           1.6111111111111114,
           1.318181818181818,
           1.1153846153846154,
           0.9666666666666668,
           0.8529411764705881,
           0.7631578947368421,
           0.6904761904761906,
           0.6304347826086957,
           0.5800000000000001,
           0.5370370370370371,
           0.5
          ],
          [
           -0.5,
           -0.5370370370370371,
           -0.5800000000000001,
           -0.6304347826086957,
           -0.6904761904761905,
           -0.7631578947368421,
           -0.8529411764705881,
           -0.9666666666666666,
           -1.1153846153846154,
           -1.3181818181818183,
           -1.6111111111111114,
           -2.071428571428571,
           -2.9,
           -4.833333333333334,
           -14.499999999999972,
           14.499999999999972,
           4.833333333333334,
           2.9000000000000017,
           2.071428571428571,
           1.6111111111111114,
           1.318181818181818,
           1.1153846153846154,
           0.9666666666666668,
           0.8529411764705881,
           0.7631578947368421,
           0.6904761904761906,
           0.6304347826086957,
           0.5800000000000001,
           0.5370370370370371,
           0.5
          ],
          [
           -0.5,
           -0.5370370370370371,
           -0.5800000000000001,
           -0.6304347826086957,
           -0.6904761904761905,
           -0.7631578947368421,
           -0.8529411764705881,
           -0.9666666666666666,
           -1.1153846153846154,
           -1.3181818181818183,
           -1.6111111111111114,
           -2.071428571428571,
           -2.9,
           -4.833333333333334,
           -14.499999999999972,
           14.499999999999972,
           4.833333333333334,
           2.9000000000000017,
           2.071428571428571,
           1.6111111111111114,
           1.318181818181818,
           1.1153846153846154,
           0.9666666666666668,
           0.8529411764705881,
           0.7631578947368421,
           0.6904761904761906,
           0.6304347826086957,
           0.5800000000000001,
           0.5370370370370371,
           0.5
          ],
          [
           -0.5,
           -0.5370370370370371,
           -0.5800000000000001,
           -0.6304347826086957,
           -0.6904761904761905,
           -0.7631578947368421,
           -0.8529411764705881,
           -0.9666666666666666,
           -1.1153846153846154,
           -1.3181818181818183,
           -1.6111111111111114,
           -2.071428571428571,
           -2.9,
           -4.833333333333334,
           -14.499999999999972,
           14.499999999999972,
           4.833333333333334,
           2.9000000000000017,
           2.071428571428571,
           1.6111111111111114,
           1.318181818181818,
           1.1153846153846154,
           0.9666666666666668,
           0.8529411764705881,
           0.7631578947368421,
           0.6904761904761906,
           0.6304347826086957,
           0.5800000000000001,
           0.5370370370370371,
           0.5
          ],
          [
           -0.5,
           -0.5370370370370371,
           -0.5800000000000001,
           -0.6304347826086957,
           -0.6904761904761905,
           -0.7631578947368421,
           -0.8529411764705881,
           -0.9666666666666666,
           -1.1153846153846154,
           -1.3181818181818183,
           -1.6111111111111114,
           -2.071428571428571,
           -2.9,
           -4.833333333333334,
           -14.499999999999972,
           14.499999999999972,
           4.833333333333334,
           2.9000000000000017,
           2.071428571428571,
           1.6111111111111114,
           1.318181818181818,
           1.1153846153846154,
           0.9666666666666668,
           0.8529411764705881,
           0.7631578947368421,
           0.6904761904761906,
           0.6304347826086957,
           0.5800000000000001,
           0.5370370370370371,
           0.5
          ],
          [
           -0.5,
           -0.5370370370370371,
           -0.5800000000000001,
           -0.6304347826086957,
           -0.6904761904761905,
           -0.7631578947368421,
           -0.8529411764705881,
           -0.9666666666666666,
           -1.1153846153846154,
           -1.3181818181818183,
           -1.6111111111111114,
           -2.071428571428571,
           -2.9,
           -4.833333333333334,
           -14.499999999999972,
           14.499999999999972,
           4.833333333333334,
           2.9000000000000017,
           2.071428571428571,
           1.6111111111111114,
           1.318181818181818,
           1.1153846153846154,
           0.9666666666666668,
           0.8529411764705881,
           0.7631578947368421,
           0.6904761904761906,
           0.6304347826086957,
           0.5800000000000001,
           0.5370370370370371,
           0.5
          ],
          [
           -0.5,
           -0.5370370370370371,
           -0.5800000000000001,
           -0.6304347826086957,
           -0.6904761904761905,
           -0.7631578947368421,
           -0.8529411764705881,
           -0.9666666666666666,
           -1.1153846153846154,
           -1.3181818181818183,
           -1.6111111111111114,
           -2.071428571428571,
           -2.9,
           -4.833333333333334,
           -14.499999999999972,
           14.499999999999972,
           4.833333333333334,
           2.9000000000000017,
           2.071428571428571,
           1.6111111111111114,
           1.318181818181818,
           1.1153846153846154,
           0.9666666666666668,
           0.8529411764705881,
           0.7631578947368421,
           0.6904761904761906,
           0.6304347826086957,
           0.5800000000000001,
           0.5370370370370371,
           0.5
          ],
          [
           -0.5,
           -0.5370370370370371,
           -0.5800000000000001,
           -0.6304347826086957,
           -0.6904761904761905,
           -0.7631578947368421,
           -0.8529411764705881,
           -0.9666666666666666,
           -1.1153846153846154,
           -1.3181818181818183,
           -1.6111111111111114,
           -2.071428571428571,
           -2.9,
           -4.833333333333334,
           -14.499999999999972,
           14.499999999999972,
           4.833333333333334,
           2.9000000000000017,
           2.071428571428571,
           1.6111111111111114,
           1.318181818181818,
           1.1153846153846154,
           0.9666666666666668,
           0.8529411764705881,
           0.7631578947368421,
           0.6904761904761906,
           0.6304347826086957,
           0.5800000000000001,
           0.5370370370370371,
           0.5
          ],
          [
           -0.5,
           -0.5370370370370371,
           -0.5800000000000001,
           -0.6304347826086957,
           -0.6904761904761905,
           -0.7631578947368421,
           -0.8529411764705881,
           -0.9666666666666666,
           -1.1153846153846154,
           -1.3181818181818183,
           -1.6111111111111114,
           -2.071428571428571,
           -2.9,
           -4.833333333333334,
           -14.499999999999972,
           14.499999999999972,
           4.833333333333334,
           2.9000000000000017,
           2.071428571428571,
           1.6111111111111114,
           1.318181818181818,
           1.1153846153846154,
           0.9666666666666668,
           0.8529411764705881,
           0.7631578947368421,
           0.6904761904761906,
           0.6304347826086957,
           0.5800000000000001,
           0.5370370370370371,
           0.5
          ],
          [
           -0.5,
           -0.5370370370370371,
           -0.5800000000000001,
           -0.6304347826086957,
           -0.6904761904761905,
           -0.7631578947368421,
           -0.8529411764705881,
           -0.9666666666666666,
           -1.1153846153846154,
           -1.3181818181818183,
           -1.6111111111111114,
           -2.071428571428571,
           -2.9,
           -4.833333333333334,
           -14.499999999999972,
           14.499999999999972,
           4.833333333333334,
           2.9000000000000017,
           2.071428571428571,
           1.6111111111111114,
           1.318181818181818,
           1.1153846153846154,
           0.9666666666666668,
           0.8529411764705881,
           0.7631578947368421,
           0.6904761904761906,
           0.6304347826086957,
           0.5800000000000001,
           0.5370370370370371,
           0.5
          ],
          [
           -0.5,
           -0.5370370370370371,
           -0.5800000000000001,
           -0.6304347826086957,
           -0.6904761904761905,
           -0.7631578947368421,
           -0.8529411764705881,
           -0.9666666666666666,
           -1.1153846153846154,
           -1.3181818181818183,
           -1.6111111111111114,
           -2.071428571428571,
           -2.9,
           -4.833333333333334,
           -14.499999999999972,
           14.499999999999972,
           4.833333333333334,
           2.9000000000000017,
           2.071428571428571,
           1.6111111111111114,
           1.318181818181818,
           1.1153846153846154,
           0.9666666666666668,
           0.8529411764705881,
           0.7631578947368421,
           0.6904761904761906,
           0.6304347826086957,
           0.5800000000000001,
           0.5370370370370371,
           0.5
          ],
          [
           -0.5,
           -0.5370370370370371,
           -0.5800000000000001,
           -0.6304347826086957,
           -0.6904761904761905,
           -0.7631578947368421,
           -0.8529411764705881,
           -0.9666666666666666,
           -1.1153846153846154,
           -1.3181818181818183,
           -1.6111111111111114,
           -2.071428571428571,
           -2.9,
           -4.833333333333334,
           -14.499999999999972,
           14.499999999999972,
           4.833333333333334,
           2.9000000000000017,
           2.071428571428571,
           1.6111111111111114,
           1.318181818181818,
           1.1153846153846154,
           0.9666666666666668,
           0.8529411764705881,
           0.7631578947368421,
           0.6904761904761906,
           0.6304347826086957,
           0.5800000000000001,
           0.5370370370370371,
           0.5
          ],
          [
           -0.5,
           -0.5370370370370371,
           -0.5800000000000001,
           -0.6304347826086957,
           -0.6904761904761905,
           -0.7631578947368421,
           -0.8529411764705881,
           -0.9666666666666666,
           -1.1153846153846154,
           -1.3181818181818183,
           -1.6111111111111114,
           -2.071428571428571,
           -2.9,
           -4.833333333333334,
           -14.499999999999972,
           14.499999999999972,
           4.833333333333334,
           2.9000000000000017,
           2.071428571428571,
           1.6111111111111114,
           1.318181818181818,
           1.1153846153846154,
           0.9666666666666668,
           0.8529411764705881,
           0.7631578947368421,
           0.6904761904761906,
           0.6304347826086957,
           0.5800000000000001,
           0.5370370370370371,
           0.5
          ],
          [
           -0.5,
           -0.5370370370370371,
           -0.5800000000000001,
           -0.6304347826086957,
           -0.6904761904761905,
           -0.7631578947368421,
           -0.8529411764705881,
           -0.9666666666666666,
           -1.1153846153846154,
           -1.3181818181818183,
           -1.6111111111111114,
           -2.071428571428571,
           -2.9,
           -4.833333333333334,
           -14.499999999999972,
           14.499999999999972,
           4.833333333333334,
           2.9000000000000017,
           2.071428571428571,
           1.6111111111111114,
           1.318181818181818,
           1.1153846153846154,
           0.9666666666666668,
           0.8529411764705881,
           0.7631578947368421,
           0.6904761904761906,
           0.6304347826086957,
           0.5800000000000001,
           0.5370370370370371,
           0.5
          ],
          [
           -0.5,
           -0.5370370370370371,
           -0.5800000000000001,
           -0.6304347826086957,
           -0.6904761904761905,
           -0.7631578947368421,
           -0.8529411764705881,
           -0.9666666666666666,
           -1.1153846153846154,
           -1.3181818181818183,
           -1.6111111111111114,
           -2.071428571428571,
           -2.9,
           -4.833333333333334,
           -14.499999999999972,
           14.499999999999972,
           4.833333333333334,
           2.9000000000000017,
           2.071428571428571,
           1.6111111111111114,
           1.318181818181818,
           1.1153846153846154,
           0.9666666666666668,
           0.8529411764705881,
           0.7631578947368421,
           0.6904761904761906,
           0.6304347826086957,
           0.5800000000000001,
           0.5370370370370371,
           0.5
          ],
          [
           -0.5,
           -0.5370370370370371,
           -0.5800000000000001,
           -0.6304347826086957,
           -0.6904761904761905,
           -0.7631578947368421,
           -0.8529411764705881,
           -0.9666666666666666,
           -1.1153846153846154,
           -1.3181818181818183,
           -1.6111111111111114,
           -2.071428571428571,
           -2.9,
           -4.833333333333334,
           -14.499999999999972,
           14.499999999999972,
           4.833333333333334,
           2.9000000000000017,
           2.071428571428571,
           1.6111111111111114,
           1.318181818181818,
           1.1153846153846154,
           0.9666666666666668,
           0.8529411764705881,
           0.7631578947368421,
           0.6904761904761906,
           0.6304347826086957,
           0.5800000000000001,
           0.5370370370370371,
           0.5
          ]
         ]
        }
       ],
       "frames": [
        {
         "layout": {
          "scene": {
           "camera": {
            "eye": {
             "x": -1.25,
             "y": 2,
             "z": 0.5
            }
           }
          }
         }
        },
        {
         "layout": {
          "scene": {
           "camera": {
            "eye": {
             "x": -1.0440883733038757,
             "y": 2.1148001013645867,
             "z": 0.5
            }
           }
          }
         }
        },
        {
         "layout": {
          "scene": {
           "camera": {
            "eye": {
             "x": -0.8277445607114295,
             "y": 2.20846981917631,
             "z": 0.5
            }
           }
          }
         }
        },
        {
         "layout": {
          "scene": {
           "camera": {
            "eye": {
             "x": -0.6031301980843282,
             "y": 2.2800732365778864,
             "z": 0.5
            }
           }
          }
         }
        },
        {
         "layout": {
          "scene": {
           "camera": {
            "eye": {
             "x": -0.37248955788630533,
             "y": 2.3288949158915835,
             "z": 0.5
            }
           }
          }
         }
        },
        {
         "layout": {
          "scene": {
           "camera": {
            "eye": {
             "x": -0.13812712515455994,
             "y": 2.3544470470359995,
             "z": 0.5
            }
           }
          }
         }
        },
        {
         "layout": {
          "scene": {
           "camera": {
            "eye": {
             "x": 0.0976154281529733,
             "y": 2.3564743215631507,
             "z": 0.5
            }
           }
          }
         }
        },
        {
         "layout": {
          "scene": {
           "camera": {
            "eye": {
             "x": 0.33238264036977183,
             "y": 2.3349564836160908,
             "z": 0.5
            }
           }
          }
         }
        },
        {
         "layout": {
          "scene": {
           "camera": {
            "eye": {
             "x": 0.5638287951150887,
             "y": 2.2901085323187345,
             "z": 0.5
            }
           }
          }
         }
        },
        {
         "layout": {
          "scene": {
           "camera": {
            "eye": {
             "x": 0.789641358916636,
             "y": 2.222378573575683,
             "z": 0.5
            }
           }
          }
         }
        },
        {
         "layout": {
          "scene": {
           "camera": {
            "eye": {
             "x": 1.0075640872806182,
             "y": 2.13244334274615,
             "z": 0.5
            }
           }
          }
         }
        },
        {
         "layout": {
          "scene": {
           "camera": {
            "eye": {
             "x": 1.215419568340899,
             "y": 2.021201442927949,
             "z": 0.5
            }
           }
          }
         }
        },
        {
         "layout": {
          "scene": {
           "camera": {
            "eye": {
             "x": 1.411130978838611,
             "y": 1.8897643664123798,
             "z": 0.5
            }
           }
          }
         }
        },
        {
         "layout": {
          "scene": {
           "camera": {
            "eye": {
             "x": 1.5927428350536517,
             "y": 1.7394453890206658,
             "z": 0.5
            }
           }
          }
         }
        },
        {
         "layout": {
          "scene": {
           "camera": {
            "eye": {
             "x": 1.7584405313516194,
             "y": 1.571746448286057,
             "z": 0.5
            }
           }
          }
         }
        },
        {
         "layout": {
          "scene": {
           "camera": {
            "eye": {
             "x": 1.9065684711234803,
             "y": 1.388343136590474,
             "z": 0.5
            }
           }
          }
         }
        },
        {
         "layout": {
          "scene": {
           "camera": {
            "eye": {
             "x": 2.0356466089596212,
             "y": 1.1910679591993036,
             "z": 0.5
            }
           }
          }
         }
        },
        {
         "layout": {
          "scene": {
           "camera": {
            "eye": {
             "x": 2.144385238774343,
             "y": 0.981892024474536,
             "z": 0.5
            }
           }
          }
         }
        },
        {
         "layout": {
          "scene": {
           "camera": {
            "eye": {
             "x": 2.2316978801227494,
             "y": 0.7629053492115697,
             "z": 0.5
            }
           }
          }
         }
        },
        {
         "layout": {
          "scene": {
           "camera": {
            "eye": {
             "x": 2.2967121339542085,
             "y": 0.5362959758822609,
             "z": 0.5
            }
           }
          }
         }
        },
        {
         "layout": {
          "scene": {
           "camera": {
            "eye": {
             "x": 2.3387783993352915,
             "y": 0.3043281104378174,
             "z": 0.5
            }
           }
          }
         }
        },
        {
         "layout": {
          "scene": {
           "camera": {
            "eye": {
             "x": 2.3574763640475696,
             "y": 0.06931949911137747,
             "z": 0.5
            }
           }
          }
         }
        },
        {
         "layout": {
          "scene": {
           "camera": {
            "eye": {
             "x": 2.3526192042083625,
             "y": -0.16638172973620402,
             "z": 0.5
            }
           }
          }
         }
        },
        {
         "layout": {
          "scene": {
           "camera": {
            "eye": {
             "x": 2.3242554509532205,
             "y": -0.40042052733874867,
             "z": 0.5
            }
           }
          }
         }
        },
        {
         "layout": {
          "scene": {
           "camera": {
            "eye": {
             "x": 2.2726685055288582,
             "y": -0.6304584553935533,
             "z": 0.5
            }
           }
          }
         }
        },
        {
         "layout": {
          "scene": {
           "camera": {
            "eye": {
             "x": 2.19837380764158,
             "y": -0.8541970509639218,
             "z": 0.5
            }
           }
          }
         }
        },
        {
         "layout": {
          "scene": {
           "camera": {
            "eye": {
             "x": 2.1021136853541122,
             "y": -1.0694007919610644,
             "z": 0.5
            }
           }
          }
         }
        },
        {
         "layout": {
          "scene": {
           "camera": {
            "eye": {
             "x": 1.9848499379889861,
             "y": -1.2739194337418351,
             "z": 0.5
            }
           }
          }
         }
        },
        {
         "layout": {
          "scene": {
           "camera": {
            "eye": {
             "x": 1.8477542261476323,
             "y": -1.4657094936424357,
             "z": 0.5
            }
           }
          }
         }
        },
        {
         "layout": {
          "scene": {
           "camera": {
            "eye": {
             "x": 1.6921963648649523,
             "y": -1.6428546687817038,
             "z": 0.5
            }
           }
          }
         }
        },
        {
         "layout": {
          "scene": {
           "camera": {
            "eye": {
             "x": 1.5197306368702912,
             "y": -1.8035849831260569,
             "z": 0.5
            }
           }
          }
         }
        },
        {
         "layout": {
          "scene": {
           "camera": {
            "eye": {
             "x": 1.3320802627081803,
             "y": -1.9462944725049458,
             "z": 0.5
            }
           }
          }
         }
        },
        {
         "layout": {
          "scene": {
           "camera": {
            "eye": {
             "x": 1.1311201828882813,
             "y": -2.0695572308739814,
             "z": 0.5
            }
           }
          }
         }
        },
        {
         "layout": {
          "scene": {
           "camera": {
            "eye": {
             "x": 0.9188583240995838,
             "y": -2.1721416574967907,
             "z": 0.5
            }
           }
          }
         }
        },
        {
         "layout": {
          "scene": {
           "camera": {
            "eye": {
             "x": 0.6974155366706627,
             "y": -2.2530227626924613,
             "z": 0.5
            }
           }
          }
         }
        },
        {
         "layout": {
          "scene": {
           "camera": {
            "eye": {
             "x": 0.46900440373425567,
             "y": -2.3113924091936173,
             "z": 0.5
            }
           }
          }
         }
        },
        {
         "layout": {
          "scene": {
           "camera": {
            "eye": {
             "x": 0.2359071338279789,
             "y": -2.3466673867868595,
             "z": 0.5
            }
           }
          }
         }
        },
        {
         "layout": {
          "scene": {
           "camera": {
            "eye": {
             "x": 0.0004527578210231642,
             "y": -2.358495239556433,
             "z": 0.5
            }
           }
          }
         }
        },
        {
         "layout": {
          "scene": {
           "camera": {
            "eye": {
             "x": -0.23500614199241787,
             "y": -2.346757787507232,
             "z": 0.5
            }
           }
          }
         }
        },
        {
         "layout": {
          "scene": {
           "camera": {
            "eye": {
             "x": -0.46811693811777333,
             "y": -2.3115723073802474,
             "z": 0.5
            }
           }
          }
         }
        },
        {
         "layout": {
          "scene": {
           "camera": {
            "eye": {
             "x": -0.6965504645363415,
             "y": -2.253290360862134,
             "z": 0.5
            }
           }
          }
         }
        },
        {
         "layout": {
          "scene": {
           "camera": {
            "eye": {
             "x": -0.918024288962236,
             "y": -2.1724942818970505,
             "z": 0.5
            }
           }
          }
         }
        },
        {
         "layout": {
          "scene": {
           "camera": {
            "eye": {
             "x": -1.130325518151302,
             "y": -2.0699913581983838,
             "z": 0.5
            }
           }
          }
         }
        },
        {
         "layout": {
          "scene": {
           "camera": {
            "eye": {
             "x": -1.3313329083989405,
             "y": -1.9468057650967694,
             "z": 0.5
            }
           }
          }
         }
        },
        {
         "layout": {
          "scene": {
           "camera": {
            "eye": {
             "x": -1.519038060306008,
             "y": -1.8041683323187339,
             "z": 0.5
            }
           }
          }
         }
        },
        {
         "layout": {
          "scene": {
           "camera": {
            "eye": {
             "x": -1.6915654860417193,
             "y": -1.6435042459429308,
             "z": 0.5
            }
           }
          }
         }
        },
        {
         "layout": {
          "scene": {
           "camera": {
            "eye": {
             "x": -1.8471913485981115,
             "y": -1.4664188084119385,
             "z": 0.5
            }
           }
          }
         }
        },
        {
         "layout": {
          "scene": {
           "camera": {
            "eye": {
             "x": -1.9843606857995884,
             "y": -1.2746813988809071,
             "z": 0.5
            }
           }
          }
         }
        },
        {
         "layout": {
          "scene": {
           "camera": {
            "eye": {
             "x": -2.10170294697099,
             "y": -1.070207794165906,
             "z": 0.5
            }
           }
          }
         }
        },
        {
         "layout": {
          "scene": {
           "camera": {
            "eye": {
             "x": -2.1980456870268847,
             "y": -0.855041026935264,
             "z": 0.5
            }
           }
          }
         }
        },
        {
         "layout": {
          "scene": {
           "camera": {
            "eye": {
             "x": -2.27242628115531,
             "y": -0.6313309724024705,
             "z": 0.5
            }
           }
          }
         }
        },
        {
         "layout": {
          "scene": {
           "camera": {
            "eye": {
             "x": -2.3241015430466905,
             "y": -0.4013128674837031,
             "z": 0.5
            }
           }
          }
         }
        },
        {
         "layout": {
          "scene": {
           "camera": {
            "eye": {
             "x": -2.352555150565778,
             "y": -0.16728497704943712,
             "z": 0.5
            }
           }
          }
         }
        },
        {
         "layout": {
          "scene": {
           "camera": {
            "eye": {
             "x": -2.3575028046717534,
             "y": 0.06841436957844715,
             "z": 0.5
            }
           }
          }
         }
        },
        {
         "layout": {
          "scene": {
           "camera": {
            "eye": {
             "x": -2.3388950700402678,
             "y": 0.3034301424402852,
             "z": 0.5
            }
           }
          }
         }
        },
        {
         "layout": {
          "scene": {
           "camera": {
            "eye": {
             "x": -2.296917869004859,
             "y": 0.53541414161953,
             "z": 0.5
            }
           }
          }
         }
        },
        {
         "layout": {
          "scene": {
           "camera": {
            "eye": {
             "x": -2.2319906238824543,
             "y": 0.7620484596800993,
             "z": 0.5
            }
           }
          }
         }
        },
        {
         "layout": {
          "scene": {
           "camera": {
            "eye": {
             "x": -2.144762066244225,
             "y": 0.9810686414312726,
             "z": 0.5
            }
           }
          }
         }
        },
        {
         "layout": {
          "scene": {
           "camera": {
            "eye": {
             "x": -2.036103755004162,
             "y": 1.190286309615443,
             "z": 0.5
            }
           }
          }
         }
        },
        {
         "layout": {
          "scene": {
           "camera": {
            "eye": {
             "x": -1.9071013680905171,
             "y": 1.3876110304502767,
             "z": 0.5
            }
           }
          }
         }
        },
        {
         "layout": {
          "scene": {
           "camera": {
            "eye": {
             "x": -1.7590438547108094,
             "y": 1.5710712005520748,
             "z": 0.5
            }
           }
          }
         }
        },
        {
         "layout": {
          "scene": {
           "camera": {
            "eye": {
             "x": -1.5934105565974208,
             "y": 1.7388337465450507,
             "z": 0.5
            }
           }
          }
         }
        },
        {
         "layout": {
          "scene": {
           "camera": {
            "eye": {
             "x": -1.4118564269140148,
             "y": 1.8892224405245646,
             "z": 0.5
            }
           }
          }
         }
        }
       ],
       "layout": {
        "autosize": false,
        "height": 500,
        "margin": {
         "b": 65,
         "l": 65,
         "r": 50,
         "t": 90
        },
        "template": {
         "data": {
          "bar": [
           {
            "error_x": {
             "color": "#2a3f5f"
            },
            "error_y": {
             "color": "#2a3f5f"
            },
            "marker": {
             "line": {
              "color": "#E5ECF6",
              "width": 0.5
             },
             "pattern": {
              "fillmode": "overlay",
              "size": 10,
              "solidity": 0.2
             }
            },
            "type": "bar"
           }
          ],
          "barpolar": [
           {
            "marker": {
             "line": {
              "color": "#E5ECF6",
              "width": 0.5
             },
             "pattern": {
              "fillmode": "overlay",
              "size": 10,
              "solidity": 0.2
             }
            },
            "type": "barpolar"
           }
          ],
          "carpet": [
           {
            "aaxis": {
             "endlinecolor": "#2a3f5f",
             "gridcolor": "white",
             "linecolor": "white",
             "minorgridcolor": "white",
             "startlinecolor": "#2a3f5f"
            },
            "baxis": {
             "endlinecolor": "#2a3f5f",
             "gridcolor": "white",
             "linecolor": "white",
             "minorgridcolor": "white",
             "startlinecolor": "#2a3f5f"
            },
            "type": "carpet"
           }
          ],
          "choropleth": [
           {
            "colorbar": {
             "outlinewidth": 0,
             "ticks": ""
            },
            "type": "choropleth"
           }
          ],
          "contour": [
           {
            "colorbar": {
             "outlinewidth": 0,
             "ticks": ""
            },
            "colorscale": [
             [
              0,
              "#0d0887"
             ],
             [
              0.1111111111111111,
              "#46039f"
             ],
             [
              0.2222222222222222,
              "#7201a8"
             ],
             [
              0.3333333333333333,
              "#9c179e"
             ],
             [
              0.4444444444444444,
              "#bd3786"
             ],
             [
              0.5555555555555556,
              "#d8576b"
             ],
             [
              0.6666666666666666,
              "#ed7953"
             ],
             [
              0.7777777777777778,
              "#fb9f3a"
             ],
             [
              0.8888888888888888,
              "#fdca26"
             ],
             [
              1,
              "#f0f921"
             ]
            ],
            "type": "contour"
           }
          ],
          "contourcarpet": [
           {
            "colorbar": {
             "outlinewidth": 0,
             "ticks": ""
            },
            "type": "contourcarpet"
           }
          ],
          "heatmap": [
           {
            "colorbar": {
             "outlinewidth": 0,
             "ticks": ""
            },
            "colorscale": [
             [
              0,
              "#0d0887"
             ],
             [
              0.1111111111111111,
              "#46039f"
             ],
             [
              0.2222222222222222,
              "#7201a8"
             ],
             [
              0.3333333333333333,
              "#9c179e"
             ],
             [
              0.4444444444444444,
              "#bd3786"
             ],
             [
              0.5555555555555556,
              "#d8576b"
             ],
             [
              0.6666666666666666,
              "#ed7953"
             ],
             [
              0.7777777777777778,
              "#fb9f3a"
             ],
             [
              0.8888888888888888,
              "#fdca26"
             ],
             [
              1,
              "#f0f921"
             ]
            ],
            "type": "heatmap"
           }
          ],
          "heatmapgl": [
           {
            "colorbar": {
             "outlinewidth": 0,
             "ticks": ""
            },
            "colorscale": [
             [
              0,
              "#0d0887"
             ],
             [
              0.1111111111111111,
              "#46039f"
             ],
             [
              0.2222222222222222,
              "#7201a8"
             ],
             [
              0.3333333333333333,
              "#9c179e"
             ],
             [
              0.4444444444444444,
              "#bd3786"
             ],
             [
              0.5555555555555556,
              "#d8576b"
             ],
             [
              0.6666666666666666,
              "#ed7953"
             ],
             [
              0.7777777777777778,
              "#fb9f3a"
             ],
             [
              0.8888888888888888,
              "#fdca26"
             ],
             [
              1,
              "#f0f921"
             ]
            ],
            "type": "heatmapgl"
           }
          ],
          "histogram": [
           {
            "marker": {
             "pattern": {
              "fillmode": "overlay",
              "size": 10,
              "solidity": 0.2
             }
            },
            "type": "histogram"
           }
          ],
          "histogram2d": [
           {
            "colorbar": {
             "outlinewidth": 0,
             "ticks": ""
            },
            "colorscale": [
             [
              0,
              "#0d0887"
             ],
             [
              0.1111111111111111,
              "#46039f"
             ],
             [
              0.2222222222222222,
              "#7201a8"
             ],
             [
              0.3333333333333333,
              "#9c179e"
             ],
             [
              0.4444444444444444,
              "#bd3786"
             ],
             [
              0.5555555555555556,
              "#d8576b"
             ],
             [
              0.6666666666666666,
              "#ed7953"
             ],
             [
              0.7777777777777778,
              "#fb9f3a"
             ],
             [
              0.8888888888888888,
              "#fdca26"
             ],
             [
              1,
              "#f0f921"
             ]
            ],
            "type": "histogram2d"
           }
          ],
          "histogram2dcontour": [
           {
            "colorbar": {
             "outlinewidth": 0,
             "ticks": ""
            },
            "colorscale": [
             [
              0,
              "#0d0887"
             ],
             [
              0.1111111111111111,
              "#46039f"
             ],
             [
              0.2222222222222222,
              "#7201a8"
             ],
             [
              0.3333333333333333,
              "#9c179e"
             ],
             [
              0.4444444444444444,
              "#bd3786"
             ],
             [
              0.5555555555555556,
              "#d8576b"
             ],
             [
              0.6666666666666666,
              "#ed7953"
             ],
             [
              0.7777777777777778,
              "#fb9f3a"
             ],
             [
              0.8888888888888888,
              "#fdca26"
             ],
             [
              1,
              "#f0f921"
             ]
            ],
            "type": "histogram2dcontour"
           }
          ],
          "mesh3d": [
           {
            "colorbar": {
             "outlinewidth": 0,
             "ticks": ""
            },
            "type": "mesh3d"
           }
          ],
          "parcoords": [
           {
            "line": {
             "colorbar": {
              "outlinewidth": 0,
              "ticks": ""
             }
            },
            "type": "parcoords"
           }
          ],
          "pie": [
           {
            "automargin": true,
            "type": "pie"
           }
          ],
          "scatter": [
           {
            "fillpattern": {
             "fillmode": "overlay",
             "size": 10,
             "solidity": 0.2
            },
            "type": "scatter"
           }
          ],
          "scatter3d": [
           {
            "line": {
             "colorbar": {
              "outlinewidth": 0,
              "ticks": ""
             }
            },
            "marker": {
             "colorbar": {
              "outlinewidth": 0,
              "ticks": ""
             }
            },
            "type": "scatter3d"
           }
          ],
          "scattercarpet": [
           {
            "marker": {
             "colorbar": {
              "outlinewidth": 0,
              "ticks": ""
             }
            },
            "type": "scattercarpet"
           }
          ],
          "scattergeo": [
           {
            "marker": {
             "colorbar": {
              "outlinewidth": 0,
              "ticks": ""
             }
            },
            "type": "scattergeo"
           }
          ],
          "scattergl": [
           {
            "marker": {
             "colorbar": {
              "outlinewidth": 0,
              "ticks": ""
             }
            },
            "type": "scattergl"
           }
          ],
          "scattermapbox": [
           {
            "marker": {
             "colorbar": {
              "outlinewidth": 0,
              "ticks": ""
             }
            },
            "type": "scattermapbox"
           }
          ],
          "scatterpolar": [
           {
            "marker": {
             "colorbar": {
              "outlinewidth": 0,
              "ticks": ""
             }
            },
            "type": "scatterpolar"
           }
          ],
          "scatterpolargl": [
           {
            "marker": {
             "colorbar": {
              "outlinewidth": 0,
              "ticks": ""
             }
            },
            "type": "scatterpolargl"
           }
          ],
          "scatterternary": [
           {
            "marker": {
             "colorbar": {
              "outlinewidth": 0,
              "ticks": ""
             }
            },
            "type": "scatterternary"
           }
          ],
          "surface": [
           {
            "colorbar": {
             "outlinewidth": 0,
             "ticks": ""
            },
            "colorscale": [
             [
              0,
              "#0d0887"
             ],
             [
              0.1111111111111111,
              "#46039f"
             ],
             [
              0.2222222222222222,
              "#7201a8"
             ],
             [
              0.3333333333333333,
              "#9c179e"
             ],
             [
              0.4444444444444444,
              "#bd3786"
             ],
             [
              0.5555555555555556,
              "#d8576b"
             ],
             [
              0.6666666666666666,
              "#ed7953"
             ],
             [
              0.7777777777777778,
              "#fb9f3a"
             ],
             [
              0.8888888888888888,
              "#fdca26"
             ],
             [
              1,
              "#f0f921"
             ]
            ],
            "type": "surface"
           }
          ],
          "table": [
           {
            "cells": {
             "fill": {
              "color": "#EBF0F8"
             },
             "line": {
              "color": "white"
             }
            },
            "header": {
             "fill": {
              "color": "#C8D4E3"
             },
             "line": {
              "color": "white"
             }
            },
            "type": "table"
           }
          ]
         },
         "layout": {
          "annotationdefaults": {
           "arrowcolor": "#2a3f5f",
           "arrowhead": 0,
           "arrowwidth": 1
          },
          "autotypenumbers": "strict",
          "coloraxis": {
           "colorbar": {
            "outlinewidth": 0,
            "ticks": ""
           }
          },
          "colorscale": {
           "diverging": [
            [
             0,
             "#8e0152"
            ],
            [
             0.1,
             "#c51b7d"
            ],
            [
             0.2,
             "#de77ae"
            ],
            [
             0.3,
             "#f1b6da"
            ],
            [
             0.4,
             "#fde0ef"
            ],
            [
             0.5,
             "#f7f7f7"
            ],
            [
             0.6,
             "#e6f5d0"
            ],
            [
             0.7,
             "#b8e186"
            ],
            [
             0.8,
             "#7fbc41"
            ],
            [
             0.9,
             "#4d9221"
            ],
            [
             1,
             "#276419"
            ]
           ],
           "sequential": [
            [
             0,
             "#0d0887"
            ],
            [
             0.1111111111111111,
             "#46039f"
            ],
            [
             0.2222222222222222,
             "#7201a8"
            ],
            [
             0.3333333333333333,
             "#9c179e"
            ],
            [
             0.4444444444444444,
             "#bd3786"
            ],
            [
             0.5555555555555556,
             "#d8576b"
            ],
            [
             0.6666666666666666,
             "#ed7953"
            ],
            [
             0.7777777777777778,
             "#fb9f3a"
            ],
            [
             0.8888888888888888,
             "#fdca26"
            ],
            [
             1,
             "#f0f921"
            ]
           ],
           "sequentialminus": [
            [
             0,
             "#0d0887"
            ],
            [
             0.1111111111111111,
             "#46039f"
            ],
            [
             0.2222222222222222,
             "#7201a8"
            ],
            [
             0.3333333333333333,
             "#9c179e"
            ],
            [
             0.4444444444444444,
             "#bd3786"
            ],
            [
             0.5555555555555556,
             "#d8576b"
            ],
            [
             0.6666666666666666,
             "#ed7953"
            ],
            [
             0.7777777777777778,
             "#fb9f3a"
            ],
            [
             0.8888888888888888,
             "#fdca26"
            ],
            [
             1,
             "#f0f921"
            ]
           ]
          },
          "colorway": [
           "#636efa",
           "#EF553B",
           "#00cc96",
           "#ab63fa",
           "#FFA15A",
           "#19d3f3",
           "#FF6692",
           "#B6E880",
           "#FF97FF",
           "#FECB52"
          ],
          "font": {
           "color": "#2a3f5f"
          },
          "geo": {
           "bgcolor": "white",
           "lakecolor": "white",
           "landcolor": "#E5ECF6",
           "showlakes": true,
           "showland": true,
           "subunitcolor": "white"
          },
          "hoverlabel": {
           "align": "left"
          },
          "hovermode": "closest",
          "mapbox": {
           "style": "light"
          },
          "paper_bgcolor": "white",
          "plot_bgcolor": "#E5ECF6",
          "polar": {
           "angularaxis": {
            "gridcolor": "white",
            "linecolor": "white",
            "ticks": ""
           },
           "bgcolor": "#E5ECF6",
           "radialaxis": {
            "gridcolor": "white",
            "linecolor": "white",
            "ticks": ""
           }
          },
          "scene": {
           "xaxis": {
            "backgroundcolor": "#E5ECF6",
            "gridcolor": "white",
            "gridwidth": 2,
            "linecolor": "white",
            "showbackground": true,
            "ticks": "",
            "zerolinecolor": "white"
           },
           "yaxis": {
            "backgroundcolor": "#E5ECF6",
            "gridcolor": "white",
            "gridwidth": 2,
            "linecolor": "white",
            "showbackground": true,
            "ticks": "",
            "zerolinecolor": "white"
           },
           "zaxis": {
            "backgroundcolor": "#E5ECF6",
            "gridcolor": "white",
            "gridwidth": 2,
            "linecolor": "white",
            "showbackground": true,
            "ticks": "",
            "zerolinecolor": "white"
           }
          },
          "shapedefaults": {
           "line": {
            "color": "#2a3f5f"
           }
          },
          "ternary": {
           "aaxis": {
            "gridcolor": "white",
            "linecolor": "white",
            "ticks": ""
           },
           "baxis": {
            "gridcolor": "white",
            "linecolor": "white",
            "ticks": ""
           },
           "bgcolor": "#E5ECF6",
           "caxis": {
            "gridcolor": "white",
            "linecolor": "white",
            "ticks": ""
           }
          },
          "title": {
           "x": 0.05
          },
          "xaxis": {
           "automargin": true,
           "gridcolor": "white",
           "linecolor": "white",
           "ticks": "",
           "title": {
            "standoff": 15
           },
           "zerolinecolor": "white",
           "zerolinewidth": 2
          },
          "yaxis": {
           "automargin": true,
           "gridcolor": "white",
           "linecolor": "white",
           "ticks": "",
           "title": {
            "standoff": 15
           },
           "zerolinecolor": "white",
           "zerolinewidth": 2
          }
         }
        },
        "title": {
         "text": "Mt Bruno Elevation"
        },
        "width": 500
       }
      }
     },
     "metadata": {},
     "output_type": "display_data"
    }
   ],
   "source": [
    "def rotate_z(x, y, z, theta):\n",
    "    w = x+1j*y\n",
    "    return np.real(np.exp(1j*theta)*w), np.imag(np.exp(1j*theta)*w), z\n",
    "\n",
    "x_eye = -1.25\n",
    "y_eye = 2\n",
    "z_eye = 0.5\n",
    "\n",
    "data = fig\n",
    "frames=[]\n",
    "for t in np.arange(0, 6.26, 0.1):\n",
    "    xe, ye, ze = rotate_z(x_eye, y_eye, z_eye, -t)\n",
    "    frames.append(dict(layout=dict(scene=dict(camera=dict(eye=dict(x=xe, y=ye, z=ze))))))\n",
    "\n",
    "fig = go.Figure(data=data, frames=frames)\n",
    "\n",
    "fig.show()"
   ]
  },
  {
   "cell_type": "code",
   "execution_count": null,
   "metadata": {},
   "outputs": [],
   "source": []
  }
 ],
 "metadata": {
  "kernelspec": {
   "display_name": "Python 3.9.1 ('base')",
   "language": "python",
   "name": "python3"
  },
  "language_info": {
   "codemirror_mode": {
    "name": "ipython",
    "version": 3
   },
   "file_extension": ".py",
   "mimetype": "text/x-python",
   "name": "python",
   "nbconvert_exporter": "python",
   "pygments_lexer": "ipython3",
   "version": "3.9.1"
  },
  "orig_nbformat": 4,
  "vscode": {
   "interpreter": {
    "hash": "fe7fa53bd51864a91435346629e5daf0f55eb273ee40f1e1b87b0f6a8e1294a1"
   }
  }
 },
 "nbformat": 4,
 "nbformat_minor": 2
}
